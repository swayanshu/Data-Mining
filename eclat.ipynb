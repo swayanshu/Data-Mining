{
 "cells": [
  {
   "cell_type": "code",
   "execution_count": 1,
   "metadata": {
    "colab": {},
    "colab_type": "code",
    "id": "E99yQg2eDhit"
   },
   "outputs": [],
   "source": [
    "from functools import reduce\n",
    "import time\n",
    "import matplotlib.pyplot as plt\n",
    "import numpy as np\n",
    "%matplotlib inline"
   ]
  },
  {
   "cell_type": "code",
   "execution_count": 2,
   "metadata": {
    "colab": {},
    "colab_type": "code",
    "id": "AeGJTBwBDhiy"
   },
   "outputs": [],
   "source": [
    "dataset_name = 'retail.txt'\n",
    "patterns_name = 'patterns.csv'\n",
    "rules_name = 'rules.csv'\n",
    "maximal_name = 'maximal.csv'\n",
    "min_support = 0.0015\n",
    "min_confidence = 0.9"
   ]
  },
  {
   "cell_type": "code",
   "execution_count": 3,
   "metadata": {
    "colab": {},
    "colab_type": "code",
    "id": "AYCD2qWNDhi3"
   },
   "outputs": [],
   "source": [
    "dataset = open(dataset_name, \"r\").readlines()\n",
    "T = []\n",
    "for line in dataset:\n",
    "    T.append(line.strip().split(\" \"))"
   ]
  },
  {
   "cell_type": "code",
   "execution_count": 4,
   "metadata": {
    "colab": {},
    "colab_type": "code",
    "id": "pxAjHsA8DhjK"
   },
   "outputs": [],
   "source": [
    "def vertical_format(db):\n",
    "    result = {}\n",
    "    result[frozenset()] = set()\n",
    "    for id, row in enumerate(db):\n",
    "        id_set = set([id])\n",
    "        result[frozenset()] |= id_set\n",
    "        for i in row:\n",
    "            key = frozenset([i])\n",
    "            result[key] = result.get(key, set()) | id_set\n",
    "    return result"
   ]
  },
  {
   "cell_type": "code",
   "execution_count": 5,
   "metadata": {
    "colab": {},
    "colab_type": "code",
    "id": "tegc2oaUiYbK"
   },
   "outputs": [],
   "source": [
    "num_transactions = len(T)\n",
    "items = reduce(lambda x, y: frozenset(x) | frozenset(y), T)\n",
    "items = [frozenset([i]) for i in items]\n",
    "db = vertical_format(T)"
   ]
  },
  {
   "cell_type": "code",
   "execution_count": 6,
   "metadata": {
    "colab": {},
    "colab_type": "code",
    "id": "ramKeeLiJicB"
   },
   "outputs": [],
   "source": [
    "def eclat_paper(single_items,items,tid,k,min_support,can,itr):\n",
    "    t0 = time.time()\n",
    "    can_incr = 0\n",
    "    counter = 0\n",
    "    T = []\n",
    "    T_set = set()\n",
    "    for (i, Ai) in enumerate(items):\n",
    "        if len(tid[Ai]) / num_transactions >= min_support:\n",
    "            counter += 1\n",
    "            f.write('-'.join(list(Ai)) + ',' + str(len(tid[Ai])) + ','\n",
    "                    + str(len(tid[Ai]) / num_transactions) + '\\n')\n",
    "        else:\n",
    "            continue\n",
    "        for (j, Aj) in enumerate(single_items):\n",
    "            if j <= i or len(Ai | Aj) != k:\n",
    "                continue\n",
    "            can_incr += 1\n",
    "            temp = tid[Ai] & tid[Aj]\n",
    "            if len(temp) / num_transactions >= min_support and Ai | Aj not in T_set:\n",
    "                tid[Ai | Aj] = tid[Ai] & tid[Aj]\n",
    "                T_set.add(Ai | Aj)\n",
    "                T.append(Ai | Aj)\n",
    "    if counter > 0:\n",
    "        can.append(can_incr)\n",
    "        k += 1\n",
    "        t1 = time.time()\n",
    "        print('Iteration ' + str(itr) + ':' )\n",
    "        print('  - execution time: ' + str(t1 - t0) + ' seconds')\n",
    "        print('  - candidates: ' + str(can[itr - 1]))\n",
    "        print('  - frequent itemsets: ' + str(counter))\n",
    "        itr += 1\n",
    "        eclat_paper(single_items,T,tid,k,min_support,can,itr,)"
   ]
  },
  {
   "cell_type": "code",
   "execution_count": 7,
   "metadata": {
    "colab": {},
    "colab_type": "code",
    "id": "4pkI1kp5JmlL"
   },
   "outputs": [
    {
     "name": "stdout",
     "output_type": "stream",
     "text": [
      "Iteration 1:\n",
      "  - execution time: 29.092487573623657 seconds\n",
      "  - candidates: 16470\n",
      "  - frequent itemsets: 1350\n",
      "Iteration 2:\n",
      "  - execution time: 76.70855379104614 seconds\n",
      "  - candidates: 11335841\n",
      "  - frequent itemsets: 1848\n",
      "Iteration 3:\n",
      "  - execution time: 37.80469250679016 seconds\n",
      "  - candidates: 28724388\n",
      "  - frequent itemsets: 857\n",
      "Iteration 4:\n",
      "  - execution time: 5.494015216827393 seconds\n",
      "  - candidates: 13744566\n",
      "  - frequent itemsets: 170\n",
      "Iteration 5:\n",
      "  - execution time: 0.3510708808898926 seconds\n",
      "  - candidates: 2784685\n",
      "  - frequent itemsets: 12\n"
     ]
    }
   ],
   "source": [
    "itr = 1\n",
    "can = []\n",
    "can.append(len(items))\n",
    "k = 2\n",
    "f = open(patterns_name, 'w+')\n",
    "eclat_paper(items,items,db,k,min_support,can,itr)\n",
    "f.close()"
   ]
  },
  {
   "cell_type": "code",
   "execution_count": 8,
   "metadata": {
    "colab": {},
    "colab_type": "code",
    "id": "Q8AHnneJDhjW"
   },
   "outputs": [],
   "source": [
    "def superset(fp,maximal):\n",
    "    for i in maximal:\n",
    "        if fp.issubset(i):\n",
    "            return True\n",
    "    return False"
   ]
  },
  {
   "cell_type": "code",
   "execution_count": 9,
   "metadata": {
    "colab": {},
    "colab_type": "code",
    "id": "8wQSgti1Dhjf"
   },
   "outputs": [],
   "source": [
    "def find_maximal(patterns_name,min_support,num_transactions):\n",
    "    f = open(maximal_name,\"w+\")\n",
    "    maximal_list = []\n",
    "    count = 0\n",
    "    for line in reversed(list(open(patterns_name))):\n",
    "        count += 1\n",
    "        fp = frozenset(line.rstrip().split(\",\")[0].split(\"-\"))\n",
    "        if len(db[fp]) / num_transactions >= min_support and not superset(fp,maximal_list):\n",
    "            f.write(line.rstrip() + \"\\n\")\n",
    "            maximal_list.append(fp)\n",
    "    print(\"Compression Ratio:\")\n",
    "    print(\"   - frequent itemsets: \" + str(count))\n",
    "    print(\"   - maximal patterns: \" + str(len(maximal_list)))\n",
    "    print(\"   - compression ratio: \" + str(((1 - (len(maximal_list)/count) )) *100))\n",
    "    f.close()\n",
    "    return maximal_list"
   ]
  },
  {
   "cell_type": "code",
   "execution_count": 10,
   "metadata": {
    "colab": {
     "base_uri": "https://localhost:8080/",
     "height": 84
    },
    "colab_type": "code",
    "id": "vSrStqhWDhjh",
    "outputId": "f52f3755-ccc9-48b9-b185-ec9102f358e3"
   },
   "outputs": [
    {
     "name": "stdout",
     "output_type": "stream",
     "text": [
      "Compression Ratio:\n",
      "   - frequent itemsets: 4237\n",
      "   - maximal patterns: 2055\n",
      "   - compression ratio: 51.49870191173\n"
     ]
    }
   ],
   "source": [
    "maximal_list = find_maximal(patterns_name,min_support,num_transactions)"
   ]
  },
  {
   "cell_type": "code",
   "execution_count": 11,
   "metadata": {
    "colab": {},
    "colab_type": "code",
    "id": "Gvn8G2rZ-XRO"
   },
   "outputs": [],
   "source": [
    "from itertools import combinations\n",
    "def subsets(s):\n",
    "    for cardinality in range(len(s) + 1):\n",
    "        yield from combinations(s, cardinality)\n"
   ]
  },
  {
   "cell_type": "code",
   "execution_count": 12,
   "metadata": {
    "colab": {},
    "colab_type": "code",
    "id": "C5qmR2ox85cE"
   },
   "outputs": [],
   "source": [
    "def rules(maximal_list, min_confidence):\n",
    "    f = open(rules_name, 'w+')\n",
    "    time0 = time.time()\n",
    "    soln = []\n",
    "    for Z in maximal_list:\n",
    "        if len(Z) < 2:\n",
    "            continue\n",
    "        A_list = [frozenset(sub_set) for sub_set in subsets(Z)\n",
    "                  if sub_set and frozenset(sub_set) != Z]\n",
    "        A = set(A_list)\n",
    "        while A:\n",
    "            A_list = sorted(A_list, key=lambda x: len(x), reverse=True)\n",
    "            X = A_list[0]\n",
    "            A.remove(X)\n",
    "            c = len(db[Z]) / len(db[X])\n",
    "            if c >= min_confidence:\n",
    "                Y = Z - X\n",
    "                soln.append((','.join(list(X)) + ' ==> '\n",
    "                            + ','.join(list(Y)), c))\n",
    "                f.write('-'.join(list(X)) + '=>' + '-'.join(list(X))\n",
    "                        + ',' + str(len(db[X])) + ',' + str(len(db[X])\n",
    "                        / num_transactions) + ',' + str(c) + '\\n')\n",
    "            else:\n",
    "                temp = []\n",
    "                for item in A:\n",
    "                    if item.issubset(X):\n",
    "                        temp.append(item)\n",
    "                A -= set(temp)\n",
    "            A_list = list(A)\n",
    "    time1 = time.time()\n",
    "    print('Execution time: ' + str(time1 - time0) + ' seconds')\n",
    "    print('Strong Rules: ' + str(len(soln)))\n",
    "    sorted(soln, key=lambda x: x[1], reverse=True)\n",
    "    for i in range(0, 20):\n",
    "        print('Rule ' + str(i + 1) + ': ' + soln[i][0] + ', ' \\\n",
    "            + 'conf = ' + str(soln[i][1]))\n",
    "    f.close()"
   ]
  },
  {
   "cell_type": "code",
   "execution_count": 13,
   "metadata": {
    "colab": {
     "base_uri": "https://localhost:8080/",
     "height": 386
    },
    "colab_type": "code",
    "id": "85GBjIi5EQ60",
    "outputId": "69e535d5-d0aa-437f-da78-b611df3e0a29"
   },
   "outputs": [
    {
     "name": "stdout",
     "output_type": "stream",
     "text": [
      "Execution time: 0.0179746150970459 seconds\n",
      "Strong Rules: 58\n",
      "Rule 1: 170,48,39,41 ==> 38, conf = 0.9856801909307876\n",
      "Rule 2: 110,48,39,41 ==> 38, conf = 0.9971181556195965\n",
      "Rule 3: 36,48,39,41 ==> 38, conf = 0.9737609329446064\n",
      "Rule 4: 170,48,39,32 ==> 38, conf = 0.9906976744186047\n",
      "Rule 5: 48,39,32,110 ==> 38, conf = 0.995049504950495\n",
      "Rule 6: 36,48,39,32 ==> 38, conf = 0.9744897959183674\n",
      "Rule 7: 48,39,41,37 ==> 38, conf = 1.0\n",
      "Rule 8: 48,39,16011,41 ==> 16010, conf = 0.9779411764705882\n",
      "Rule 9: 1393,48,41 ==> 39, conf = 0.9072847682119205\n",
      "Rule 10: 570,48,41 ==> 39, conf = 0.9013157894736842\n",
      "Rule 11: 39,41,2958 ==> 48, conf = 0.9467455621301775\n",
      "Rule 12: 371,39,41 ==> 38, conf = 0.9927007299270073\n",
      "Rule 13: 370,48,39 ==> 38, conf = 0.9793103448275862\n",
      "Rule 14: 371,48,39 ==> 38, conf = 0.9966101694915255\n",
      "Rule 15: 281,48,39 ==> 38, conf = 0.9533678756476683\n",
      "Rule 16: 48,39,3904 ==> 38, conf = 0.9664804469273743\n",
      "Rule 17: 48,39,840 ==> 38, conf = 0.9863945578231292\n",
      "Rule 18: 48,39,47 ==> 38, conf = 0.9814814814814815\n",
      "Rule 19: 36,170,39 ==> 38, conf = 0.9790209790209791\n",
      "Rule 20: 36,39,110 ==> 38, conf = 0.9926470588235294\n"
     ]
    }
   ],
   "source": [
    "rules(maximal_list,min_confidence)"
   ]
  },
  {
   "cell_type": "code",
   "execution_count": 20,
   "metadata": {
    "colab": {},
    "colab_type": "code",
    "id": "VBr9-4LIV4m5"
   },
   "outputs": [],
   "source": [
    "def eclat_analysis(single_items,items,tid,k,min_support,can,freq,itr,):\n",
    "    t0 = time.time()\n",
    "    can_incr = 0\n",
    "    counter = 0\n",
    "    T = []\n",
    "    T_set = set()\n",
    "    for (i, Ai) in enumerate(items):\n",
    "        if len(tid[Ai]) / num_transactions >= min_support:\n",
    "            counter += 1\n",
    "        else:\n",
    "            continue\n",
    "        for (j, Aj) in enumerate(single_items):\n",
    "            if j <= i or len(Ai | Aj) != k:\n",
    "                continue\n",
    "            can_incr += 1\n",
    "            temp = tid[Ai] & tid[Aj]\n",
    "            if len(temp) / num_transactions >= min_support and Ai | Aj not in T_set:\n",
    "                tid[Ai | Aj] = tid[Ai] & tid[Aj]\n",
    "                T.append(Ai | Aj)\n",
    "                T_set.add(Ai | Aj)\n",
    "    if counter > 0:\n",
    "        freq.append(counter)\n",
    "        can.append(can_incr)\n",
    "        k += 1\n",
    "        t1 = time.time()\n",
    "        itr += 1\n",
    "        eclat_analysis(single_items,T,tid,k,min_support,can,freq,itr)\n",
    "        return (sum(can[0:len(can) - 1]), sum(freq))"
   ]
  },
  {
   "cell_type": "code",
   "execution_count": 21,
   "metadata": {
    "colab": {},
    "colab_type": "code",
    "id": "-nYhOCidMSpe"
   },
   "outputs": [],
   "source": [
    "def sensitivity_analysis():\n",
    "    can_list = []\n",
    "    freq_list = []\n",
    "    exec_time_list = []\n",
    "    min_sup_values = [0.0005,0.001,0.0015,0.002,0.0025,0.003,0.0035,0.004,0.0045,0.005,0.0055,0.006,\n",
    "        0.0065,0.007,0.0075,0.008,0.0085,0.009,0.0095,0.01,]\n",
    "    for i in min_sup_values:\n",
    "        time0 = time.time()\n",
    "        can = []\n",
    "        freq = []\n",
    "        itr = 1\n",
    "        k = 2\n",
    "        can.append(len(items))\n",
    "        candidates, freq_sets = eclat_analysis(items,items,db,k,i,can,freq,itr)\n",
    "        time1 = time.time()\n",
    "        can_list.append(candidates)\n",
    "        freq_list.append(freq_sets)\n",
    "        exec_time_list.append(time1 - time0)\n",
    "        print (candidates, freq_sets, time1 - time0)\n",
    "    # ##graph####\n",
    "    x = np.array(min_sup_values)\n",
    "\n",
    "    plt.plot(x, np.array(can_list))\n",
    "    plt.plot(x, np.array(freq_list))\n",
    "    plt.plot(x, np.array(exec_time_list))\n",
    "    plt.yscale('log', basey=2)\n",
    "    plt.legend(['y = candidates', 'y = frequent itemsets',\n",
    "               'y = execution time'], loc='center right')\n",
    "    plt.show()\n",
    "    return can_list, freq_list, exec_time_list, min_sup_values"
   ]
  },
  {
   "cell_type": "code",
   "execution_count": 22,
   "metadata": {
    "colab": {
     "base_uri": "https://localhost:8080/",
     "height": 601
    },
    "colab_type": "code",
    "id": "lWfttKoTXwhz",
    "outputId": "c25335c1-0d77-434f-f932-cebec52c9ff1"
   },
   "outputs": [
    {
     "name": "stdout",
     "output_type": "stream",
     "text": [
      "234991239 19242 360.1128373146057\n",
      "100064691 7589 164.35657358169556\n",
      "56605950 4237 101.66011357307434\n",
      "35756572 2691 62.579181432724\n",
      "24755759 1882 44.517115354537964\n",
      "18423330 1393 33.81012988090515\n",
      "14177512 1075 26.689969062805176\n",
      "10915340 831 20.712997674942017\n",
      "9198181 703 17.84610080718994\n",
      "7644166 580 15.017527341842651\n",
      "6164818 488 12.281843900680542\n",
      "5232130 417 10.686634063720703\n",
      "4552960 364 9.262365818023682\n",
      "3915932 315 8.015029907226562\n",
      "3438012 277 6.918245792388916\n",
      "3001294 243 6.10567307472229\n",
      "2634730 219 5.40969705581665\n",
      "2287133 193 4.921169757843018\n",
      "1996589 169 4.9996337890625\n",
      "1909248 159 4.76421332359314\n"
     ]
    },
    {
     "data": {
      "image/png": "[encoded data removed]",
      "text/plain": [
       "<Figure size 432x288 with 1 Axes>"
      ]
     },
     "metadata": {
      "needs_background": "light"
     },
     "output_type": "display_data"
    }
   ],
   "source": [
    "can_list, freq_list, exec_time_list, min_sup_values = sensitivity_analysis()"
   ]
  },
  {
   "cell_type": "markdown",
   "metadata": {},
   "source": [
    "#### Plotting graphs individually to infer better. Obtained values from above run stats."
   ]
  },
  {
   "cell_type": "code",
   "execution_count": 23,
   "metadata": {},
   "outputs": [
    {
     "data": {
      "image/png": "[encoded data removed]",
      "text/plain": [
       "<Figure size 432x288 with 1 Axes>"
      ]
     },
     "metadata": {
      "needs_background": "light"
     },
     "output_type": "display_data"
    },
    {
     "data": {
      "image/png": "[encoded data removed]",
      "text/plain": [
       "<Figure size 432x288 with 1 Axes>"
      ]
     },
     "metadata": {
      "needs_background": "light"
     },
     "output_type": "display_data"
    },
    {
     "data": {
      "image/png": "[encoded data removed]",
      "text/plain": [
       "<Figure size 432x288 with 1 Axes>"
      ]
     },
     "metadata": {
      "needs_background": "light"
     },
     "output_type": "display_data"
    }
   ],
   "source": [
    "x = np.array(min_sup_values)\n",
    "y_values = [can_list,freq_list,exec_time_list]\n",
    "labels = ['Candidates', 'Frequnt item sets', 'Execution time']\n",
    "for i in range(0,len(y_values)):\n",
    "    plt.plot(x, np.array(y_values[i]))\n",
    "    plt.xlabel('Minimum support')\n",
    "    plt.ylabel(labels[i])\n",
    "    plt.show()"
   ]
  }
 ],
 "metadata": {
  "colab": {
   "machine_shape": "hm",
   "name": "eclat.ipynb",
   "provenance": [],
   "toc_visible": true
  },
  "kernelspec": {
   "display_name": "Python 3",
   "language": "python",
   "name": "python3"
  },
  "language_info": {
   "codemirror_mode": {
    "name": "ipython",
    "version": 3
   },
   "file_extension": ".py",
   "mimetype": "text/x-python",
   "name": "python",
   "nbconvert_exporter": "python",
   "pygments_lexer": "ipython3",
   "version": "3.7.7"
  }
 },
 "nbformat": 4,
 "nbformat_minor": 1
}
