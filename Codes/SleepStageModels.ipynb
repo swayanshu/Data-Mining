{
 "cells": [
  {
   "cell_type": "code",
   "execution_count": 2,
   "metadata": {},
   "outputs": [],
   "source": [
    "import os\n",
    "import sys\n",
    "import copy\n",
    "import codecs\n",
    "from glob import glob\n",
    "from datetime import datetime\n",
    "import random"
   ]
  },
  {
   "cell_type": "code",
   "execution_count": 4,
   "metadata": {},
   "outputs": [],
   "source": [
    "from pylab import rcParams\n",
    "rcParams['figure.figsize'] = 16, 12"
   ]
  },
  {
   "cell_type": "code",
   "execution_count": 3,
   "metadata": {},
   "outputs": [],
   "source": [
    "import warnings\n",
    "warnings.filterwarnings(\"ignore\")"
   ]
  },
  {
   "cell_type": "code",
   "execution_count": 5,
   "metadata": {},
   "outputs": [],
   "source": [
    "#DATA = \"../input/sleep-state\"\n",
    "PP_DATA = r\"D:\\2nd_semester\\data_mining\\Project\\Data_demo\"\n",
    "WINDOW_SIZE = 100\n",
    "bs = 64"
   ]
  },
  {
   "cell_type": "code",
   "execution_count": 16,
   "metadata": {},
   "outputs": [],
   "source": [
    "#!pip install git+https://www.github.com/keras-team/keras-contrib.git"
   ]
  },
  {
   "cell_type": "code",
   "execution_count": 6,
   "metadata": {},
   "outputs": [],
   "source": [
    "import pandas as pd\n",
    "import numpy as np\n",
    "import matplotlib.pyplot as plt\n",
    "%matplotlib inline\n",
    "\n",
    "from tqdm import tqdm, tqdm_notebook\n",
    "import tensorflow as tf\n",
    "from tensorflow import keras\n",
    "from tensorflow.keras.utils import to_categorical\n",
    "from tensorflow.keras.models import Model\n",
    "from tensorflow.keras.layers import Input, Conv1D, Dense, Dropout, MaxPool1D, Activation\n",
    "from tensorflow.keras.layers import Reshape, LSTM, TimeDistributed, Bidirectional, BatchNormalization, Flatten, RepeatVector\n",
    "#from tensorflow.keras.layers import CuDNNGRU, CuDNNLSTM\n",
    "from tensorflow.keras.layers import concatenate\n",
    "from tensorflow.keras.models import load_model\n",
    "from tensorflow.keras.callbacks import EarlyStopping, ModelCheckpoint, ReduceLROnPlateau, CSVLogger\n",
    "from sklearn.model_selection import train_test_split\n",
    "from sklearn.metrics import f1_score, accuracy_score, classification_report, roc_auc_score, confusion_matrix, roc_auc_score, roc_curve\n",
    "\n",
    "import mne\n",
    "from mne.io import read_raw_edf"
   ]
  },
  {
   "cell_type": "code",
   "execution_count": 7,
   "metadata": {},
   "outputs": [
    {
     "data": {
      "text/plain": [
       "'D:\\\\2nd_semester\\\\data_mining\\\\Project\\\\Data_demo\\\\SC4001E0.txt.npz'"
      ]
     },
     "execution_count": 7,
     "metadata": {},
     "output_type": "execute_result"
    }
   ],
   "source": [
    "fnames = sorted(glob(os.path.join(PP_DATA, \"*.npz\")))\n",
    "len(fnames)\n",
    "fnames[0]"
   ]
  },
  {
   "cell_type": "code",
   "execution_count": 8,
   "metadata": {},
   "outputs": [
    {
     "name": "stdout",
     "output_type": "stream",
     "text": [
      "1 D:\\2nd_semester\\data_mining\\Project\\Data_demo\\SC4001E0.txt.npz\n"
     ]
    }
   ],
   "source": [
    "#Data generator\n",
    "total_fs = [f for f in fnames if f.split(\"/\")[-1][:5]]\n",
    "print(len(total_fs), total_fs[0])\n",
    "total_data = {k: np.load(k) for k in total_fs}"
   ]
  },
  {
   "cell_type": "code",
   "execution_count": 11,
   "metadata": {},
   "outputs": [
    {
     "data": {
      "text/plain": [
       "(841, 3000, 1)"
      ]
     },
     "execution_count": 11,
     "metadata": {},
     "output_type": "execute_result"
    }
   ],
   "source": [
    "samples = total_data[r\"D:\\2nd_semester\\data_mining\\Project\\Data_demo\\SC4001E0.txt.npz\"]\n",
    "samples['x'].shape  # (n_epochs, sample_len, n_channels)"
   ]
  },
  {
   "cell_type": "code",
   "execution_count": 20,
   "metadata": {},
   "outputs": [
    {
     "data": {
      "text/plain": [
       "(841, 3000, 1)"
      ]
     },
     "execution_count": 20,
     "metadata": {},
     "output_type": "execute_result"
    }
   ],
   "source": [
    "samples = total_data[\"C:/Users/pratik/Desktop/DM Project/New folder/np\\SC4001E0.npz\"]\n",
    "samples['x'].shape  # (n_epochs, sample_len, n_channels)"
   ]
  },
  {
   "cell_type": "code",
   "execution_count": 12,
   "metadata": {},
   "outputs": [],
   "source": [
    "X = np.zeros((0, 3000, 1))\n",
    "y = []\n",
    "for fn in total_fs:\n",
    "    samples = np.load(fn)\n",
    "    X_data = samples[\"x\"]\n",
    "    X = np.concatenate((X, X_data), axis=0)\n",
    "    y.extend(samples[\"y\"])\n",
    "y = np.array(y)"
   ]
  },
  {
   "cell_type": "code",
   "execution_count": 83,
   "metadata": {},
   "outputs": [],
   "source": [
    "Y = samples['y']"
   ]
  },
  {
   "cell_type": "code",
   "execution_count": 66,
   "metadata": {},
   "outputs": [
    {
     "name": "stdout",
     "output_type": "stream",
     "text": [
      "(841, 3000)\n",
      "(3,)\n"
     ]
    }
   ],
   "source": [
    "print(X.shape)\n",
    "print(y.shape)"
   ]
  },
  {
   "cell_type": "code",
   "execution_count": 14,
   "metadata": {},
   "outputs": [],
   "source": [
    "X_train, X_test, y_train, y_test = train_test_split(\n",
    "    X,\n",
    "    y,\n",
    "    test_size=0.1,\n",
    "    random_state=42\n",
    ")"
   ]
  },
  {
   "cell_type": "code",
   "execution_count": 15,
   "metadata": {},
   "outputs": [],
   "source": [
    "X_train, X_val, y_train, y_val = train_test_split(\n",
    "    X_train,\n",
    "    y_train,\n",
    "    test_size=0.1,\n",
    "    random_state=42\n",
    ")"
   ]
  },
  {
   "cell_type": "code",
   "execution_count": 16,
   "metadata": {},
   "outputs": [
    {
     "data": {
      "text/plain": [
       "((680, 3000, 1), (85, 3000, 1), (76, 3000, 1))"
      ]
     },
     "execution_count": 16,
     "metadata": {},
     "output_type": "execute_result"
    }
   ],
   "source": [
    "X_train.shape, X_test.shape, X_val.shape"
   ]
  },
  {
   "cell_type": "code",
   "execution_count": 17,
   "metadata": {},
   "outputs": [],
   "source": [
    "def rescale_array(X):\n",
    "    X = X / 20\n",
    "    X = np.clip(X, -5, 5)\n",
    "    return X\n",
    "\n",
    "def aug_X(X):\n",
    "    scale = 1 + np.random.uniform(-0.1, 0.1)\n",
    "    offset = np.random.uniform(-0.1, 0.1)\n",
    "    noise = np.random.normal(scale=0.05, size=X.shape)\n",
    "    X = scale * X + offset + noise\n",
    "    return X\n",
    "\n",
    "def gen(dict_files, scale=True, aug=False):\n",
    "    while True:\n",
    "        record_name = random.choice(list(dict_files.keys()))\n",
    "        batch_data = dict_files[record_name]\n",
    "        all_rows = batch_data['x']\n",
    "\n",
    "        for i in range(10):\n",
    "            start_index = random.choice(range(all_rows.shape[0]-WINDOW_SIZE))\n",
    "\n",
    "            X = all_rows[start_index:start_index+WINDOW_SIZE, ...]\n",
    "            Y = batch_data['y'][start_index:start_index+WINDOW_SIZE]\n",
    "\n",
    "            X = np.expand_dims(X, 0)\n",
    "            Y = np.expand_dims(Y, -1)\n",
    "            Y = np.expand_dims(Y, 0)\n",
    "\n",
    "            if aug:\n",
    "                X = aug_X(X)\n",
    "                \n",
    "            if scale:\n",
    "                X = rescale_array(X)\n",
    "\n",
    "            yield np.squeeze(X, axis=0), np.squeeze(Y, axis=0)"
   ]
  },
  {
   "cell_type": "code",
   "execution_count": 18,
   "metadata": {},
   "outputs": [],
   "source": [
    "def data_generator(X_samples, y_samples, bs=32, label=True):\n",
    "    i = 0\n",
    "#     X_samples = X_samples[:]\n",
    "#     y_samples = y_samples[:]\n",
    "    while True:\n",
    "        X_temp = X_samples[i:i + bs]\n",
    "        y_temp = y_samples[i:i + bs]\n",
    "        \n",
    "        X_temp = np.array([rescale_array(sample) for sample in X_temp])\n",
    "        y_temp = np.array(y_temp)\n",
    "        if label:\n",
    "            yield X_temp, y_temp\n",
    "        else:\n",
    "            yield X_temp\n",
    "\n",
    "        i += bs"
   ]
  },
  {
   "cell_type": "code",
   "execution_count": 19,
   "metadata": {},
   "outputs": [
    {
     "name": "stdout",
     "output_type": "stream",
     "text": [
      "Model: \"model\"\n",
      "__________________________________________________________________________________________________\n",
      "Layer (type)                    Output Shape         Param #     Connected to                     \n",
      "==================================================================================================\n",
      "inLayer (InputLayer)            [(None, 3000, 1)]    0                                            \n",
      "__________________________________________________________________________________________________\n",
      "fConv1 (Conv1D)                 (None, 500, 64)      3264        inLayer[0][0]                    \n",
      "__________________________________________________________________________________________________\n",
      "cConv1 (Conv1D)                 (None, 60, 32)       12832       inLayer[0][0]                    \n",
      "__________________________________________________________________________________________________\n",
      "fMaxP1 (MaxPooling1D)           (None, 62, 64)       0           fConv1[0][0]                     \n",
      "__________________________________________________________________________________________________\n",
      "cMaxP1 (MaxPooling1D)           (None, 15, 32)       0           cConv1[0][0]                     \n",
      "__________________________________________________________________________________________________\n",
      "fDrop1 (Dropout)                (None, 62, 64)       0           fMaxP1[0][0]                     \n",
      "__________________________________________________________________________________________________\n",
      "cDrop1 (Dropout)                (None, 15, 32)       0           cMaxP1[0][0]                     \n",
      "__________________________________________________________________________________________________\n",
      "fConv2 (Conv1D)                 (None, 62, 128)      65664       fDrop1[0][0]                     \n",
      "__________________________________________________________________________________________________\n",
      "cConv2 (Conv1D)                 (None, 15, 128)      24704       cDrop1[0][0]                     \n",
      "__________________________________________________________________________________________________\n",
      "fConv3 (Conv1D)                 (None, 62, 128)      131200      fConv2[0][0]                     \n",
      "__________________________________________________________________________________________________\n",
      "cConv3 (Conv1D)                 (None, 15, 128)      98432       cConv2[0][0]                     \n",
      "__________________________________________________________________________________________________\n",
      "fConv4 (Conv1D)                 (None, 62, 128)      131200      fConv3[0][0]                     \n",
      "__________________________________________________________________________________________________\n",
      "cConv4 (Conv1D)                 (None, 15, 128)      98432       cConv3[0][0]                     \n",
      "__________________________________________________________________________________________________\n",
      "fMaxP2 (MaxPooling1D)           (None, 15, 128)      0           fConv4[0][0]                     \n",
      "__________________________________________________________________________________________________\n",
      "cMaxP2 (MaxPooling1D)           (None, 7, 128)       0           cConv4[0][0]                     \n",
      "__________________________________________________________________________________________________\n",
      "fFlat1 (Flatten)                (None, 1920)         0           fMaxP2[0][0]                     \n",
      "__________________________________________________________________________________________________\n",
      "cFlat1 (Flatten)                (None, 896)          0           cMaxP2[0][0]                     \n",
      "__________________________________________________________________________________________________\n",
      "merge_1 (Concatenate)           (None, 2816)         0           fFlat1[0][0]                     \n",
      "                                                                 cFlat1[0][0]                     \n",
      "__________________________________________________________________________________________________\n",
      "mDrop1 (Dropout)                (None, 2816)         0           merge_1[0][0]                    \n",
      "__________________________________________________________________________________________________\n",
      "reshape1 (Reshape)              (None, 1, 2816)      0           mDrop1[0][0]                     \n",
      "__________________________________________________________________________________________________\n",
      "bidirectional (Bidirectional)   (None, 256)          3015680     reshape1[0][0]                   \n",
      "__________________________________________________________________________________________________\n",
      "reshape (Reshape)               (None, 1, 256)       0           bidirectional[0][0]              \n",
      "__________________________________________________________________________________________________\n",
      "bidirectional_1 (Bidirectional) (None, 256)          394240      reshape[0][0]                    \n",
      "__________________________________________________________________________________________________\n",
      "merge_out_sub (Dropout)         (None, 256)          0           bidirectional_1[0][0]            \n",
      "__________________________________________________________________________________________________\n",
      "outLayer (Dense)                (None, 5)            1285        merge_out_sub[0][0]              \n",
      "==================================================================================================\n",
      "Total params: 3,976,933\n",
      "Trainable params: 3,976,933\n",
      "Non-trainable params: 0\n",
      "__________________________________________________________________________________________________\n"
     ]
    }
   ],
   "source": [
    "#model\n",
    "Fs = 100\n",
    "\n",
    "def model_baseline_2017(n_classes=5, use_sub_layer=False, summary=True):\n",
    "    # two conv-nets in parallel for feature learning, \n",
    "    # one with fine resolution another with coarse resolution    \n",
    "    # network to learn fine features\n",
    "    inputLayer = Input(shape=(3000, 1), name='inLayer')\n",
    "    convFine = Conv1D(filters=64, kernel_size=int(Fs/2), strides=int(Fs/16), padding='same', activation='relu', name='fConv1')(inputLayer)\n",
    "    convFine = MaxPool1D(pool_size=8, strides=8, name='fMaxP1')(convFine)\n",
    "    convFine = Dropout(rate=0.5, name='fDrop1')(convFine)\n",
    "    convFine = Conv1D(filters=128, kernel_size=8, padding='same', activation='relu', name='fConv2')(convFine)\n",
    "    convFine = Conv1D(filters=128, kernel_size=8, padding='same', activation='relu', name='fConv3')(convFine)\n",
    "    convFine = Conv1D(filters=128, kernel_size=8, padding='same', activation='relu', name='fConv4')(convFine)\n",
    "    convFine = MaxPool1D(pool_size=4, strides=4, name='fMaxP2')(convFine)\n",
    "    fineShape = convFine.get_shape()\n",
    "    convFine = Flatten(name='fFlat1')(convFine)\n",
    "    \n",
    "    # network to learn coarse features\n",
    "    convCoarse = Conv1D(filters=32, kernel_size=Fs*4, strides=int(Fs/2), padding='same', activation='relu', name='cConv1')(inputLayer)\n",
    "    convCoarse = MaxPool1D(pool_size=4, strides=4, name='cMaxP1')(convCoarse)\n",
    "    convCoarse = Dropout(rate=0.5, name='cDrop1')(convCoarse)\n",
    "    convCoarse = Conv1D(filters=128, kernel_size=6, padding='same', activation='relu', name='cConv2')(convCoarse)\n",
    "    convCoarse = Conv1D(filters=128, kernel_size=6, padding='same', activation='relu', name='cConv3')(convCoarse)\n",
    "    convCoarse = Conv1D(filters=128, kernel_size=6, padding='same', activation='relu', name='cConv4')(convCoarse)\n",
    "    convCoarse = MaxPool1D(pool_size=2, strides=2, name='cMaxP2')(convCoarse)\n",
    "    coarseShape = convCoarse.get_shape()\n",
    "    convCoarse = Flatten(name='cFlat1')(convCoarse)\n",
    "    \n",
    "    # concatenate coarse and fine cnns\n",
    "    mergeLayer = concatenate([convFine, convCoarse], name='merge_1')\n",
    "    outLayer = Dropout(rate=0.5, name='mDrop1')(mergeLayer)\n",
    "    if use_sub_layer:\n",
    "        sub_layer = Dense(1024, activation=\"relu\", name='sub_layer')(outLayer)\n",
    "    # model = Model(inputLayer, mergeLayer)\n",
    "    \n",
    "    # LSTM\n",
    "    outLayer = Reshape((1, int(fineShape[1]*fineShape[2] + coarseShape[1]*coarseShape[2])), name='reshape1')(outLayer)\n",
    "    outLayer = Bidirectional(LSTM(128, activation='relu', dropout=0.5, name='bLstm1'))(outLayer)\n",
    "    outLayer = Reshape((1, int(outLayer.get_shape()[1])))(outLayer)\n",
    "    outLayer = Bidirectional(LSTM(128, activation='relu', dropout=0.5, name='bLstm2'))(outLayer)\n",
    "    \n",
    "    # merge out_layer and sub_layer\n",
    "    if use_sub_layer:\n",
    "        outLayer = concatenate([outLayer, sub_layer], name='merge_2')\n",
    "        outLayer = Dropout(rate=0.5, name='mDrop2')(outLayer)\n",
    "        outLayer = Dense(256, activation=\"relu\", name='sub_layer_2')(outLayer)\n",
    "    outLayer = Dropout(rate=0.5, name='merge_out_sub')(outLayer)\n",
    "    \n",
    "    # Classify\n",
    "    outLayer = Dense(n_classes, activation='softmax', name='outLayer')(outLayer)\n",
    "    model = Model(inputLayer, outLayer)\n",
    "    optimizer = keras.optimizers.Adam(lr=1e-4)\n",
    "    model.compile(optimizer=optimizer, loss='categorical_crossentropy', metrics=['acc'])\n",
    "    \n",
    "    if summary:\n",
    "        model.summary()\n",
    "\n",
    "    return model\n",
    "\n",
    "model_2017 = model_baseline_2017(use_sub_layer=False, summary=True)"
   ]
  },
  {
   "cell_type": "code",
   "execution_count": 20,
   "metadata": {},
   "outputs": [
    {
     "name": "stdout",
     "output_type": "stream",
     "text": [
      "Model: \"model_1\"\n",
      "__________________________________________________________________________________________________\n",
      "Layer (type)                    Output Shape         Param #     Connected to                     \n",
      "==================================================================================================\n",
      "inLayer (InputLayer)            [(None, 3000, 1)]    0                                            \n",
      "__________________________________________________________________________________________________\n",
      "fConv1 (Conv1D)                 (None, 500, 64)      3264        inLayer[0][0]                    \n",
      "__________________________________________________________________________________________________\n",
      "cConv1 (Conv1D)                 (None, 60, 32)       12832       inLayer[0][0]                    \n",
      "__________________________________________________________________________________________________\n",
      "fMaxP1 (MaxPooling1D)           (None, 62, 64)       0           fConv1[0][0]                     \n",
      "__________________________________________________________________________________________________\n",
      "cMaxP1 (MaxPooling1D)           (None, 15, 32)       0           cConv1[0][0]                     \n",
      "__________________________________________________________________________________________________\n",
      "fDrop1 (Dropout)                (None, 62, 64)       0           fMaxP1[0][0]                     \n",
      "__________________________________________________________________________________________________\n",
      "cDrop1 (Dropout)                (None, 15, 32)       0           cMaxP1[0][0]                     \n",
      "__________________________________________________________________________________________________\n",
      "fConv2 (Conv1D)                 (None, 62, 128)      65664       fDrop1[0][0]                     \n",
      "__________________________________________________________________________________________________\n",
      "cConv2 (Conv1D)                 (None, 15, 128)      24704       cDrop1[0][0]                     \n",
      "__________________________________________________________________________________________________\n",
      "fConv3 (Conv1D)                 (None, 62, 128)      131200      fConv2[0][0]                     \n",
      "__________________________________________________________________________________________________\n",
      "cConv3 (Conv1D)                 (None, 15, 128)      98432       cConv2[0][0]                     \n",
      "__________________________________________________________________________________________________\n",
      "fConv4 (Conv1D)                 (None, 62, 128)      131200      fConv3[0][0]                     \n",
      "__________________________________________________________________________________________________\n",
      "cConv4 (Conv1D)                 (None, 15, 128)      98432       cConv3[0][0]                     \n",
      "__________________________________________________________________________________________________\n",
      "fMaxP2 (MaxPooling1D)           (None, 15, 128)      0           fConv4[0][0]                     \n",
      "__________________________________________________________________________________________________\n",
      "cMaxP2 (MaxPooling1D)           (None, 7, 128)       0           cConv4[0][0]                     \n",
      "__________________________________________________________________________________________________\n",
      "fFlat1 (Flatten)                (None, 1920)         0           fMaxP2[0][0]                     \n",
      "__________________________________________________________________________________________________\n",
      "cFlat1 (Flatten)                (None, 896)          0           cMaxP2[0][0]                     \n",
      "__________________________________________________________________________________________________\n",
      "merge_1 (Concatenate)           (None, 2816)         0           fFlat1[0][0]                     \n",
      "                                                                 cFlat1[0][0]                     \n",
      "__________________________________________________________________________________________________\n",
      "mDrop1 (Dropout)                (None, 2816)         0           merge_1[0][0]                    \n",
      "__________________________________________________________________________________________________\n",
      "reshape1 (Reshape)              (None, 1, 2816)      0           mDrop1[0][0]                     \n",
      "__________________________________________________________________________________________________\n",
      "lstm (LSTM)                     (None, 1, 64)        737536      reshape1[0][0]                   \n",
      "__________________________________________________________________________________________________\n",
      "lstm_1 (LSTM)                   (None, 64)           33024       lstm[0][0]                       \n",
      "__________________________________________________________________________________________________\n",
      "outLayer (Dense)                (None, 5)            325         lstm_1[0][0]                     \n",
      "==================================================================================================\n",
      "Total params: 1,336,613\n",
      "Trainable params: 1,336,613\n",
      "Non-trainable params: 0\n",
      "__________________________________________________________________________________________________\n"
     ]
    }
   ],
   "source": [
    "fs = 100\n",
    "\n",
    "def model_baseline_2019(n_classes=5, use_sub_layer=False, use_rnn=True):\n",
    "    \"\"\"Recurrent_Deep_Neural_Networks_for_Real-Time_Sleep\n",
    "    \"\"\"\n",
    "    inputLayer = Input(shape=(3000, 1), name='inLayer')\n",
    "    convFine = Conv1D(filters=64, kernel_size=int(Fs/2), strides=int(Fs/16), padding='same', activation='relu', name='fConv1')(inputLayer)\n",
    "    convFine = MaxPool1D(pool_size=8, strides=8, name='fMaxP1')(convFine)\n",
    "    convFine = Dropout(rate=0.5, name='fDrop1')(convFine)\n",
    "    convFine = Conv1D(filters=128, kernel_size=8, padding='same', activation='relu', name='fConv2')(convFine)\n",
    "    convFine = Conv1D(filters=128, kernel_size=8, padding='same', activation='relu', name='fConv3')(convFine)\n",
    "    convFine = Conv1D(filters=128, kernel_size=8, padding='same', activation='relu', name='fConv4')(convFine)\n",
    "    convFine = MaxPool1D(pool_size=4, strides=4, name='fMaxP2')(convFine)\n",
    "    fineShape = convFine.get_shape()\n",
    "    convFine = Flatten(name='fFlat1')(convFine)\n",
    "    \n",
    "    # network to learn coarse features\n",
    "    convCoarse = Conv1D(filters=32, kernel_size=Fs*4, strides=int(Fs/2), padding='same', activation='relu', name='cConv1')(inputLayer)\n",
    "    convCoarse = MaxPool1D(pool_size=4, strides=4, name='cMaxP1')(convCoarse)\n",
    "    convCoarse = Dropout(rate=0.5, name='cDrop1')(convCoarse)\n",
    "    convCoarse = Conv1D(filters=128, kernel_size=6, padding='same', activation='relu', name='cConv2')(convCoarse)\n",
    "    convCoarse = Conv1D(filters=128, kernel_size=6, padding='same', activation='relu', name='cConv3')(convCoarse)\n",
    "    convCoarse = Conv1D(filters=128, kernel_size=6, padding='same', activation='relu', name='cConv4')(convCoarse)\n",
    "    convCoarse = MaxPool1D(pool_size=2, strides=2, name='cMaxP2')(convCoarse)\n",
    "    coarseShape = convCoarse.get_shape()\n",
    "    convCoarse = Flatten(name='cFlat1')(convCoarse)\n",
    "    \n",
    "    # concatenate coarse and fine cnns\n",
    "    mergeLayer = concatenate([convFine, convCoarse], name='merge_1')\n",
    "    outLayer = Dropout(rate=0.5, name='mDrop1')(mergeLayer)\n",
    "    \n",
    "    outLayer = Reshape((1, outLayer.get_shape()[1]), name='reshape1')(outLayer)\n",
    "    outLayer = LSTM(64, return_sequences=True)(outLayer)\n",
    "    outLayer = LSTM(64, return_sequences=False)(outLayer)\n",
    "\n",
    "    # Classify\n",
    "    outLayer = Dense(n_classes, activation='softmax', name='outLayer')(outLayer)\n",
    "    model = Model(inputLayer, outLayer)\n",
    "    optimizer = keras.optimizers.Adam(lr=1e-4)\n",
    "    model.compile(optimizer=optimizer, loss='categorical_crossentropy', metrics=['acc'])\n",
    "    model.summary()\n",
    "    return model\n",
    "\n",
    "model_2019 = model_baseline_2019(use_sub_layer=False, use_rnn=False)"
   ]
  },
  {
   "cell_type": "code",
   "execution_count": 22,
   "metadata": {},
   "outputs": [],
   "source": [
    "def evaluate_metrics(cm,classes):\n",
    "\n",
    "    print (\"Confusion matrix:\")\n",
    "    print (cm)\n",
    "\n",
    "    cm = cm.astype(np.float32)\n",
    "    FP = cm.sum(axis=0) - np.diag(cm)\n",
    "    FN = cm.sum(axis=1) - np.diag(cm)\n",
    "    TP = np.diag(cm)\n",
    "    TN = cm.sum() - (FP + FN + TP)\n",
    "    # https://stackoverflow.com/questions/31324218/scikit-learn-how-to-obtain-true-positive-true-negative-false-positive-and-fal\n",
    "    # Sensitivity, hit rate, recall, or true positive rate\n",
    "    TPR = TP / (TP + FN)\n",
    "    # Specificity or true negative rate\n",
    "    TNR = TN / (TN + FP)\n",
    "    # Precision or positive predictive value\n",
    "    PPV = TP / (TP + FP)\n",
    "    # Negative predictive value\n",
    "    NPV = TN / (TN + FN)\n",
    "    # Fall out or false positive rate\n",
    "    FPR = FP / (FP + TN)\n",
    "    # False negative rate\n",
    "    FNR = FN / (TP + FN)\n",
    "    # False discovery rate\n",
    "    FDR = FP / (TP + FP)\n",
    "\n",
    "    # Overall accuracy\n",
    "    ACC = (TP + TN) / (TP + FP + FN + TN)\n",
    "    # ACC_micro = (sum(TP) + sum(TN)) / (sum(TP) + sum(FP) + sum(FN) + sum(TN))\n",
    "    ACC_macro = np.mean(ACC) # to get a sense of effectiveness of our method on the small classes we computed this average (macro-average)\n",
    "\n",
    "    F1 = (2 * PPV * TPR) / (PPV + TPR)\n",
    "    F1_macro = np.mean(F1)\n",
    "\n",
    "    print (\"Sample: {}\".format(int(np.sum(cm))))\n",
    "    n_classes = len(classes)\n",
    "    for index_ in range(n_classes):\n",
    "        print (\"{}: {}\".format(classes[index_], int(TP[index_] + FN[index_])))\n",
    "\n",
    "\n",
    "    return ACC_macro,ACC, F1_macro, F1, TPR, TNR, PPV"
   ]
  },
  {
   "cell_type": "code",
   "execution_count": 23,
   "metadata": {},
   "outputs": [],
   "source": [
    "#train\n",
    "from scipy.signal import butter, lfilter\n",
    "\n",
    "def butter_bandpass(lowcut, highpass, fs, order=4):\n",
    "    nyq = 0.5 * fs\n",
    "    #       low = lowcut / nyq\n",
    "    high = highpass / nyq\n",
    "    b, a = butter(order, high, btype='highpass')\n",
    "    return b, a\n",
    "   \n",
    "def butter_bandpass_filter(data, highpass, fs, order=4):\n",
    "    b, a = butter_bandpass(0, highpass, fs, order=order)\n",
    "    y = lfilter(b, a, data)\n",
    "    return y"
   ]
  },
  {
   "cell_type": "code",
   "execution_count": 24,
   "metadata": {},
   "outputs": [],
   "source": [
    "sample = X_train[0]"
   ]
  },
  {
   "cell_type": "code",
   "execution_count": 25,
   "metadata": {},
   "outputs": [
    {
     "data": {
      "text/plain": [
       "(array([102.44688416]), array([-112.66812897]))"
      ]
     },
     "execution_count": 25,
     "metadata": {},
     "output_type": "execute_result"
    }
   ],
   "source": [
    "max(sample), min(sample)"
   ]
  },
  {
   "cell_type": "code",
   "execution_count": 26,
   "metadata": {},
   "outputs": [],
   "source": [
    "res = butter_bandpass_filter(sample, highpass=40.0, fs=100, order=4)"
   ]
  },
  {
   "cell_type": "code",
   "execution_count": 27,
   "metadata": {},
   "outputs": [
    {
     "data": {
      "text/plain": [
       "(array([0.49423895]), array([-0.54354974]))"
      ]
     },
     "execution_count": 27,
     "metadata": {},
     "output_type": "execute_result"
    }
   ],
   "source": [
    "max(res), min(res)"
   ]
  },
  {
   "cell_type": "code",
   "execution_count": 28,
   "metadata": {},
   "outputs": [],
   "source": [
    "checkpoint = ModelCheckpoint(\"model_cps\", monitor='val_loss', verbose=1, save_best_only=True, mode='max')\n",
    "# early = EarlyStopping(monitor=\"val_loss\", mode=\"max\", patience=20, verbose=1)\n",
    "redonplat = ReduceLROnPlateau(monitor=\"val_loss\", mode=\"max\", patience=5, verbose=2)\n",
    "csv_logger = CSVLogger('log_training.csv', append=True, separator=',')\n",
    "callbacks_list = [\n",
    "    checkpoint,\n",
    "#     early,\n",
    "    redonplat,\n",
    "    csv_logger,\n",
    "]"
   ]
  },
  {
   "cell_type": "code",
   "execution_count": 168,
   "metadata": {},
   "outputs": [],
   "source": [
    "y_train_ = to_categorical(y_train)\n",
    "y_val_ = to_categorical(y_val)\n",
    "y_test_ = to_categorical(y_test)"
   ]
  },
  {
   "cell_type": "code",
   "execution_count": 206,
   "metadata": {},
   "outputs": [
    {
     "ename": "ModuleNotFoundError",
     "evalue": "No module named 'seq2seq'",
     "output_type": "error",
     "traceback": [
      "\u001b[1;31m---------------------------------------------------------------------------\u001b[0m",
      "\u001b[1;31mModuleNotFoundError\u001b[0m                       Traceback (most recent call last)",
      "\u001b[1;32m<ipython-input-206-c3facfb0245c>\u001b[0m in \u001b[0;36m<module>\u001b[1;34m\u001b[0m\n\u001b[1;32m----> 1\u001b[1;33m \u001b[1;32mimport\u001b[0m \u001b[0mseq2seq\u001b[0m\u001b[1;33m\u001b[0m\u001b[1;33m\u001b[0m\u001b[0m\n\u001b[0m",
      "\u001b[1;31mModuleNotFoundError\u001b[0m: No module named 'seq2seq'"
     ]
    }
   ],
   "source": [
    "import seq2seq"
   ]
  },
  {
   "cell_type": "code",
   "execution_count": 30,
   "metadata": {},
   "outputs": [
    {
     "name": "stdout",
     "output_type": "stream",
     "text": [
      "Train on 680 samples, validate on 76 samples\n",
      "Epoch 1/30\n",
      "640/680 [===========================>..] - ETA: 0s - loss: 2.0639 - acc: 0.1937\n",
      "Epoch 00001: val_loss improved from -inf to 1.54399, saving model to model_cps\n",
      "WARNING:tensorflow:From D:\\anaconda\\lib\\site-packages\\tensorflow_core\\python\\ops\\resource_variable_ops.py:1786: calling BaseResourceVariable.__init__ (from tensorflow.python.ops.resource_variable_ops) with constraint is deprecated and will be removed in a future version.\n",
      "Instructions for updating:\n",
      "If using Keras pass *_constraint arguments to layers.\n"
     ]
    },
    {
     "ename": "ValueError",
     "evalue": "Attempted to save a function b'__inference_forward_bLstm1_layer_call_fn_24446' which references a symbolic Tensor Tensor(\"dropout/mul_1:0\", shape=(None, 2816), dtype=float32) that is not a simple constant. This is not supported.",
     "output_type": "error",
     "traceback": [
      "\u001b[1;31m---------------------------------------------------------------------------\u001b[0m",
      "\u001b[1;31mValueError\u001b[0m                                Traceback (most recent call last)",
      "\u001b[1;32m<ipython-input-30-67bb763c8b4e>\u001b[0m in \u001b[0;36m<module>\u001b[1;34m\u001b[0m\n\u001b[0;32m      1\u001b[0m hist = model_2017.fit(\n\u001b[1;32m----> 2\u001b[1;33m     \u001b[0mX_train\u001b[0m\u001b[1;33m,\u001b[0m \u001b[0my_train_\u001b[0m\u001b[1;33m,\u001b[0m \u001b[0mbatch_size\u001b[0m\u001b[1;33m=\u001b[0m\u001b[1;36m64\u001b[0m\u001b[1;33m,\u001b[0m \u001b[0mepochs\u001b[0m\u001b[1;33m=\u001b[0m\u001b[1;36m30\u001b[0m\u001b[1;33m,\u001b[0m \u001b[0mvalidation_data\u001b[0m\u001b[1;33m=\u001b[0m\u001b[1;33m(\u001b[0m\u001b[0mX_val\u001b[0m\u001b[1;33m,\u001b[0m \u001b[0my_val_\u001b[0m\u001b[1;33m)\u001b[0m\u001b[1;33m,\u001b[0m \u001b[0mcallbacks\u001b[0m\u001b[1;33m=\u001b[0m\u001b[0mcallbacks_list\u001b[0m\u001b[1;33m\u001b[0m\u001b[1;33m\u001b[0m\u001b[0m\n\u001b[0m\u001b[0;32m      3\u001b[0m )\n",
      "\u001b[1;32mD:\\anaconda\\lib\\site-packages\\tensorflow_core\\python\\keras\\engine\\training.py\u001b[0m in \u001b[0;36mfit\u001b[1;34m(self, x, y, batch_size, epochs, verbose, callbacks, validation_split, validation_data, shuffle, class_weight, sample_weight, initial_epoch, steps_per_epoch, validation_steps, validation_freq, max_queue_size, workers, use_multiprocessing, **kwargs)\u001b[0m\n\u001b[0;32m    817\u001b[0m         \u001b[0mmax_queue_size\u001b[0m\u001b[1;33m=\u001b[0m\u001b[0mmax_queue_size\u001b[0m\u001b[1;33m,\u001b[0m\u001b[1;33m\u001b[0m\u001b[1;33m\u001b[0m\u001b[0m\n\u001b[0;32m    818\u001b[0m         \u001b[0mworkers\u001b[0m\u001b[1;33m=\u001b[0m\u001b[0mworkers\u001b[0m\u001b[1;33m,\u001b[0m\u001b[1;33m\u001b[0m\u001b[1;33m\u001b[0m\u001b[0m\n\u001b[1;32m--> 819\u001b[1;33m         use_multiprocessing=use_multiprocessing)\n\u001b[0m\u001b[0;32m    820\u001b[0m \u001b[1;33m\u001b[0m\u001b[0m\n\u001b[0;32m    821\u001b[0m   def evaluate(self,\n",
      "\u001b[1;32mD:\\anaconda\\lib\\site-packages\\tensorflow_core\\python\\keras\\engine\\training_v2.py\u001b[0m in \u001b[0;36mfit\u001b[1;34m(self, model, x, y, batch_size, epochs, verbose, callbacks, validation_split, validation_data, shuffle, class_weight, sample_weight, initial_epoch, steps_per_epoch, validation_steps, validation_freq, max_queue_size, workers, use_multiprocessing, **kwargs)\u001b[0m\n\u001b[0;32m    395\u001b[0m                       total_epochs=1)\n\u001b[0;32m    396\u001b[0m                   cbks.make_logs(model, epoch_logs, eval_result, ModeKeys.TEST,\n\u001b[1;32m--> 397\u001b[1;33m                                  prefix='val_')\n\u001b[0m\u001b[0;32m    398\u001b[0m \u001b[1;33m\u001b[0m\u001b[0m\n\u001b[0;32m    399\u001b[0m     \u001b[1;32mreturn\u001b[0m \u001b[0mmodel\u001b[0m\u001b[1;33m.\u001b[0m\u001b[0mhistory\u001b[0m\u001b[1;33m\u001b[0m\u001b[1;33m\u001b[0m\u001b[0m\n",
      "\u001b[1;32mD:\\anaconda\\lib\\contextlib.py\u001b[0m in \u001b[0;36m__exit__\u001b[1;34m(self, type, value, traceback)\u001b[0m\n\u001b[0;32m    117\u001b[0m         \u001b[1;32mif\u001b[0m \u001b[0mtype\u001b[0m \u001b[1;32mis\u001b[0m \u001b[1;32mNone\u001b[0m\u001b[1;33m:\u001b[0m\u001b[1;33m\u001b[0m\u001b[1;33m\u001b[0m\u001b[0m\n\u001b[0;32m    118\u001b[0m             \u001b[1;32mtry\u001b[0m\u001b[1;33m:\u001b[0m\u001b[1;33m\u001b[0m\u001b[1;33m\u001b[0m\u001b[0m\n\u001b[1;32m--> 119\u001b[1;33m                 \u001b[0mnext\u001b[0m\u001b[1;33m(\u001b[0m\u001b[0mself\u001b[0m\u001b[1;33m.\u001b[0m\u001b[0mgen\u001b[0m\u001b[1;33m)\u001b[0m\u001b[1;33m\u001b[0m\u001b[1;33m\u001b[0m\u001b[0m\n\u001b[0m\u001b[0;32m    120\u001b[0m             \u001b[1;32mexcept\u001b[0m \u001b[0mStopIteration\u001b[0m\u001b[1;33m:\u001b[0m\u001b[1;33m\u001b[0m\u001b[1;33m\u001b[0m\u001b[0m\n\u001b[0;32m    121\u001b[0m                 \u001b[1;32mreturn\u001b[0m \u001b[1;32mFalse\u001b[0m\u001b[1;33m\u001b[0m\u001b[1;33m\u001b[0m\u001b[0m\n",
      "\u001b[1;32mD:\\anaconda\\lib\\site-packages\\tensorflow_core\\python\\keras\\engine\\training_v2.py\u001b[0m in \u001b[0;36mon_epoch\u001b[1;34m(self, epoch, mode)\u001b[0m\n\u001b[0;32m    769\u001b[0m       \u001b[1;32mif\u001b[0m \u001b[0mmode\u001b[0m \u001b[1;33m==\u001b[0m \u001b[0mModeKeys\u001b[0m\u001b[1;33m.\u001b[0m\u001b[0mTRAIN\u001b[0m\u001b[1;33m:\u001b[0m\u001b[1;33m\u001b[0m\u001b[1;33m\u001b[0m\u001b[0m\n\u001b[0;32m    770\u001b[0m         \u001b[1;31m# Epochs only apply to `fit`.\u001b[0m\u001b[1;33m\u001b[0m\u001b[1;33m\u001b[0m\u001b[1;33m\u001b[0m\u001b[0m\n\u001b[1;32m--> 771\u001b[1;33m         \u001b[0mself\u001b[0m\u001b[1;33m.\u001b[0m\u001b[0mcallbacks\u001b[0m\u001b[1;33m.\u001b[0m\u001b[0mon_epoch_end\u001b[0m\u001b[1;33m(\u001b[0m\u001b[0mepoch\u001b[0m\u001b[1;33m,\u001b[0m \u001b[0mepoch_logs\u001b[0m\u001b[1;33m)\u001b[0m\u001b[1;33m\u001b[0m\u001b[1;33m\u001b[0m\u001b[0m\n\u001b[0m\u001b[0;32m    772\u001b[0m       \u001b[0mself\u001b[0m\u001b[1;33m.\u001b[0m\u001b[0mprogbar\u001b[0m\u001b[1;33m.\u001b[0m\u001b[0mon_epoch_end\u001b[0m\u001b[1;33m(\u001b[0m\u001b[0mepoch\u001b[0m\u001b[1;33m,\u001b[0m \u001b[0mepoch_logs\u001b[0m\u001b[1;33m)\u001b[0m\u001b[1;33m\u001b[0m\u001b[1;33m\u001b[0m\u001b[0m\n\u001b[0;32m    773\u001b[0m \u001b[1;33m\u001b[0m\u001b[0m\n",
      "\u001b[1;32mD:\\anaconda\\lib\\site-packages\\tensorflow_core\\python\\keras\\callbacks.py\u001b[0m in \u001b[0;36mon_epoch_end\u001b[1;34m(self, epoch, logs)\u001b[0m\n\u001b[0;32m    300\u001b[0m     \u001b[0mlogs\u001b[0m \u001b[1;33m=\u001b[0m \u001b[0mlogs\u001b[0m \u001b[1;32mor\u001b[0m \u001b[1;33m{\u001b[0m\u001b[1;33m}\u001b[0m\u001b[1;33m\u001b[0m\u001b[1;33m\u001b[0m\u001b[0m\n\u001b[0;32m    301\u001b[0m     \u001b[1;32mfor\u001b[0m \u001b[0mcallback\u001b[0m \u001b[1;32min\u001b[0m \u001b[0mself\u001b[0m\u001b[1;33m.\u001b[0m\u001b[0mcallbacks\u001b[0m\u001b[1;33m:\u001b[0m\u001b[1;33m\u001b[0m\u001b[1;33m\u001b[0m\u001b[0m\n\u001b[1;32m--> 302\u001b[1;33m       \u001b[0mcallback\u001b[0m\u001b[1;33m.\u001b[0m\u001b[0mon_epoch_end\u001b[0m\u001b[1;33m(\u001b[0m\u001b[0mepoch\u001b[0m\u001b[1;33m,\u001b[0m \u001b[0mlogs\u001b[0m\u001b[1;33m)\u001b[0m\u001b[1;33m\u001b[0m\u001b[1;33m\u001b[0m\u001b[0m\n\u001b[0m\u001b[0;32m    303\u001b[0m \u001b[1;33m\u001b[0m\u001b[0m\n\u001b[0;32m    304\u001b[0m   \u001b[1;32mdef\u001b[0m \u001b[0mon_train_batch_begin\u001b[0m\u001b[1;33m(\u001b[0m\u001b[0mself\u001b[0m\u001b[1;33m,\u001b[0m \u001b[0mbatch\u001b[0m\u001b[1;33m,\u001b[0m \u001b[0mlogs\u001b[0m\u001b[1;33m=\u001b[0m\u001b[1;32mNone\u001b[0m\u001b[1;33m)\u001b[0m\u001b[1;33m:\u001b[0m\u001b[1;33m\u001b[0m\u001b[1;33m\u001b[0m\u001b[0m\n",
      "\u001b[1;32mD:\\anaconda\\lib\\site-packages\\tensorflow_core\\python\\keras\\callbacks.py\u001b[0m in \u001b[0;36mon_epoch_end\u001b[1;34m(self, epoch, logs)\u001b[0m\n\u001b[0;32m    990\u001b[0m           \u001b[0mself\u001b[0m\u001b[1;33m.\u001b[0m\u001b[0m_save_model\u001b[0m\u001b[1;33m(\u001b[0m\u001b[0mepoch\u001b[0m\u001b[1;33m=\u001b[0m\u001b[0mepoch\u001b[0m\u001b[1;33m,\u001b[0m \u001b[0mlogs\u001b[0m\u001b[1;33m=\u001b[0m\u001b[0mlogs\u001b[0m\u001b[1;33m)\u001b[0m\u001b[1;33m\u001b[0m\u001b[1;33m\u001b[0m\u001b[0m\n\u001b[0;32m    991\u001b[0m       \u001b[1;32melse\u001b[0m\u001b[1;33m:\u001b[0m\u001b[1;33m\u001b[0m\u001b[1;33m\u001b[0m\u001b[0m\n\u001b[1;32m--> 992\u001b[1;33m         \u001b[0mself\u001b[0m\u001b[1;33m.\u001b[0m\u001b[0m_save_model\u001b[0m\u001b[1;33m(\u001b[0m\u001b[0mepoch\u001b[0m\u001b[1;33m=\u001b[0m\u001b[0mepoch\u001b[0m\u001b[1;33m,\u001b[0m \u001b[0mlogs\u001b[0m\u001b[1;33m=\u001b[0m\u001b[0mlogs\u001b[0m\u001b[1;33m)\u001b[0m\u001b[1;33m\u001b[0m\u001b[1;33m\u001b[0m\u001b[0m\n\u001b[0m\u001b[0;32m    993\u001b[0m     \u001b[1;32mif\u001b[0m \u001b[0mself\u001b[0m\u001b[1;33m.\u001b[0m\u001b[0mmodel\u001b[0m\u001b[1;33m.\u001b[0m\u001b[0m_in_multi_worker_mode\u001b[0m\u001b[1;33m(\u001b[0m\u001b[1;33m)\u001b[0m\u001b[1;33m:\u001b[0m\u001b[1;33m\u001b[0m\u001b[1;33m\u001b[0m\u001b[0m\n\u001b[0;32m    994\u001b[0m       \u001b[1;31m# For multi-worker training, back up the weights and current training\u001b[0m\u001b[1;33m\u001b[0m\u001b[1;33m\u001b[0m\u001b[1;33m\u001b[0m\u001b[0m\n",
      "\u001b[1;32mD:\\anaconda\\lib\\site-packages\\tensorflow_core\\python\\keras\\callbacks.py\u001b[0m in \u001b[0;36m_save_model\u001b[1;34m(self, epoch, logs)\u001b[0m\n\u001b[0;32m   1027\u001b[0m                 \u001b[0mself\u001b[0m\u001b[1;33m.\u001b[0m\u001b[0mmodel\u001b[0m\u001b[1;33m.\u001b[0m\u001b[0msave_weights\u001b[0m\u001b[1;33m(\u001b[0m\u001b[0mfilepath\u001b[0m\u001b[1;33m,\u001b[0m \u001b[0moverwrite\u001b[0m\u001b[1;33m=\u001b[0m\u001b[1;32mTrue\u001b[0m\u001b[1;33m)\u001b[0m\u001b[1;33m\u001b[0m\u001b[1;33m\u001b[0m\u001b[0m\n\u001b[0;32m   1028\u001b[0m               \u001b[1;32melse\u001b[0m\u001b[1;33m:\u001b[0m\u001b[1;33m\u001b[0m\u001b[1;33m\u001b[0m\u001b[0m\n\u001b[1;32m-> 1029\u001b[1;33m                 \u001b[0mself\u001b[0m\u001b[1;33m.\u001b[0m\u001b[0mmodel\u001b[0m\u001b[1;33m.\u001b[0m\u001b[0msave\u001b[0m\u001b[1;33m(\u001b[0m\u001b[0mfilepath\u001b[0m\u001b[1;33m,\u001b[0m \u001b[0moverwrite\u001b[0m\u001b[1;33m=\u001b[0m\u001b[1;32mTrue\u001b[0m\u001b[1;33m)\u001b[0m\u001b[1;33m\u001b[0m\u001b[1;33m\u001b[0m\u001b[0m\n\u001b[0m\u001b[0;32m   1030\u001b[0m             \u001b[1;32melse\u001b[0m\u001b[1;33m:\u001b[0m\u001b[1;33m\u001b[0m\u001b[1;33m\u001b[0m\u001b[0m\n\u001b[0;32m   1031\u001b[0m               \u001b[1;32mif\u001b[0m \u001b[0mself\u001b[0m\u001b[1;33m.\u001b[0m\u001b[0mverbose\u001b[0m \u001b[1;33m>\u001b[0m \u001b[1;36m0\u001b[0m\u001b[1;33m:\u001b[0m\u001b[1;33m\u001b[0m\u001b[1;33m\u001b[0m\u001b[0m\n",
      "\u001b[1;32mD:\\anaconda\\lib\\site-packages\\tensorflow_core\\python\\keras\\engine\\network.py\u001b[0m in \u001b[0;36msave\u001b[1;34m(self, filepath, overwrite, include_optimizer, save_format, signatures, options)\u001b[0m\n\u001b[0;32m   1006\u001b[0m     \"\"\"\n\u001b[0;32m   1007\u001b[0m     save.save_model(self, filepath, overwrite, include_optimizer, save_format,\n\u001b[1;32m-> 1008\u001b[1;33m                     signatures, options)\n\u001b[0m\u001b[0;32m   1009\u001b[0m \u001b[1;33m\u001b[0m\u001b[0m\n\u001b[0;32m   1010\u001b[0m   \u001b[1;32mdef\u001b[0m \u001b[0msave_weights\u001b[0m\u001b[1;33m(\u001b[0m\u001b[0mself\u001b[0m\u001b[1;33m,\u001b[0m \u001b[0mfilepath\u001b[0m\u001b[1;33m,\u001b[0m \u001b[0moverwrite\u001b[0m\u001b[1;33m=\u001b[0m\u001b[1;32mTrue\u001b[0m\u001b[1;33m,\u001b[0m \u001b[0msave_format\u001b[0m\u001b[1;33m=\u001b[0m\u001b[1;32mNone\u001b[0m\u001b[1;33m)\u001b[0m\u001b[1;33m:\u001b[0m\u001b[1;33m\u001b[0m\u001b[1;33m\u001b[0m\u001b[0m\n",
      "\u001b[1;32mD:\\anaconda\\lib\\site-packages\\tensorflow_core\\python\\keras\\saving\\save.py\u001b[0m in \u001b[0;36msave_model\u001b[1;34m(model, filepath, overwrite, include_optimizer, save_format, signatures, options)\u001b[0m\n\u001b[0;32m    113\u001b[0m   \u001b[1;32melse\u001b[0m\u001b[1;33m:\u001b[0m\u001b[1;33m\u001b[0m\u001b[1;33m\u001b[0m\u001b[0m\n\u001b[0;32m    114\u001b[0m     saved_model_save.save(model, filepath, overwrite, include_optimizer,\n\u001b[1;32m--> 115\u001b[1;33m                           signatures, options)\n\u001b[0m\u001b[0;32m    116\u001b[0m \u001b[1;33m\u001b[0m\u001b[0m\n\u001b[0;32m    117\u001b[0m \u001b[1;33m\u001b[0m\u001b[0m\n",
      "\u001b[1;32mD:\\anaconda\\lib\\site-packages\\tensorflow_core\\python\\keras\\saving\\saved_model\\save.py\u001b[0m in \u001b[0;36msave\u001b[1;34m(model, filepath, overwrite, include_optimizer, signatures, options)\u001b[0m\n\u001b[0;32m     76\u001b[0m     \u001b[1;31m# we use the default replica context here.\u001b[0m\u001b[1;33m\u001b[0m\u001b[1;33m\u001b[0m\u001b[1;33m\u001b[0m\u001b[0m\n\u001b[0;32m     77\u001b[0m     \u001b[1;32mwith\u001b[0m \u001b[0mdistribution_strategy_context\u001b[0m\u001b[1;33m.\u001b[0m\u001b[0m_get_default_replica_context\u001b[0m\u001b[1;33m(\u001b[0m\u001b[1;33m)\u001b[0m\u001b[1;33m:\u001b[0m  \u001b[1;31m# pylint: disable=protected-access\u001b[0m\u001b[1;33m\u001b[0m\u001b[1;33m\u001b[0m\u001b[0m\n\u001b[1;32m---> 78\u001b[1;33m       \u001b[0msave_lib\u001b[0m\u001b[1;33m.\u001b[0m\u001b[0msave\u001b[0m\u001b[1;33m(\u001b[0m\u001b[0mmodel\u001b[0m\u001b[1;33m,\u001b[0m \u001b[0mfilepath\u001b[0m\u001b[1;33m,\u001b[0m \u001b[0msignatures\u001b[0m\u001b[1;33m,\u001b[0m \u001b[0moptions\u001b[0m\u001b[1;33m)\u001b[0m\u001b[1;33m\u001b[0m\u001b[1;33m\u001b[0m\u001b[0m\n\u001b[0m\u001b[0;32m     79\u001b[0m \u001b[1;33m\u001b[0m\u001b[0m\n\u001b[0;32m     80\u001b[0m   \u001b[1;32mif\u001b[0m \u001b[1;32mnot\u001b[0m \u001b[0minclude_optimizer\u001b[0m\u001b[1;33m:\u001b[0m\u001b[1;33m\u001b[0m\u001b[1;33m\u001b[0m\u001b[0m\n",
      "\u001b[1;32mD:\\anaconda\\lib\\site-packages\\tensorflow_core\\python\\saved_model\\save.py\u001b[0m in \u001b[0;36msave\u001b[1;34m(obj, export_dir, signatures, options)\u001b[0m\n\u001b[0;32m    907\u001b[0m   \u001b[0mobject_saver\u001b[0m \u001b[1;33m=\u001b[0m \u001b[0mutil\u001b[0m\u001b[1;33m.\u001b[0m\u001b[0mTrackableSaver\u001b[0m\u001b[1;33m(\u001b[0m\u001b[0mcheckpoint_graph_view\u001b[0m\u001b[1;33m)\u001b[0m\u001b[1;33m\u001b[0m\u001b[1;33m\u001b[0m\u001b[0m\n\u001b[0;32m    908\u001b[0m   asset_info, exported_graph = _fill_meta_graph_def(\n\u001b[1;32m--> 909\u001b[1;33m       meta_graph_def, saveable_view, signatures, options.namespace_whitelist)\n\u001b[0m\u001b[0;32m    910\u001b[0m   saved_model.saved_model_schema_version = (\n\u001b[0;32m    911\u001b[0m       constants.SAVED_MODEL_SCHEMA_VERSION)\n",
      "\u001b[1;32mD:\\anaconda\\lib\\site-packages\\tensorflow_core\\python\\saved_model\\save.py\u001b[0m in \u001b[0;36m_fill_meta_graph_def\u001b[1;34m(meta_graph_def, saveable_view, signature_functions, namespace_whitelist)\u001b[0m\n\u001b[0;32m    551\u001b[0m   \u001b[0mresource_initializer_ops\u001b[0m \u001b[1;33m=\u001b[0m \u001b[1;33m[\u001b[0m\u001b[1;33m]\u001b[0m\u001b[1;33m\u001b[0m\u001b[1;33m\u001b[0m\u001b[0m\n\u001b[0;32m    552\u001b[0m   \u001b[1;32mwith\u001b[0m \u001b[0mexported_graph\u001b[0m\u001b[1;33m.\u001b[0m\u001b[0mas_default\u001b[0m\u001b[1;33m(\u001b[0m\u001b[1;33m)\u001b[0m\u001b[1;33m:\u001b[0m\u001b[1;33m\u001b[0m\u001b[1;33m\u001b[0m\u001b[0m\n\u001b[1;32m--> 553\u001b[1;33m     \u001b[0mobject_map\u001b[0m\u001b[1;33m,\u001b[0m \u001b[0mresource_map\u001b[0m\u001b[1;33m,\u001b[0m \u001b[0masset_info\u001b[0m \u001b[1;33m=\u001b[0m \u001b[0msaveable_view\u001b[0m\u001b[1;33m.\u001b[0m\u001b[0mmap_resources\u001b[0m\u001b[1;33m(\u001b[0m\u001b[1;33m)\u001b[0m\u001b[1;33m\u001b[0m\u001b[1;33m\u001b[0m\u001b[0m\n\u001b[0m\u001b[0;32m    554\u001b[0m     \u001b[1;32mfor\u001b[0m \u001b[0mresource_initializer_function\u001b[0m \u001b[1;32min\u001b[0m \u001b[0mresource_initializer_functions\u001b[0m\u001b[1;33m:\u001b[0m\u001b[1;33m\u001b[0m\u001b[1;33m\u001b[0m\u001b[0m\n\u001b[0;32m    555\u001b[0m       \u001b[0masset_dependencies\u001b[0m \u001b[1;33m=\u001b[0m \u001b[1;33m[\u001b[0m\u001b[1;33m]\u001b[0m\u001b[1;33m\u001b[0m\u001b[1;33m\u001b[0m\u001b[0m\n",
      "\u001b[1;32mD:\\anaconda\\lib\\site-packages\\tensorflow_core\\python\\saved_model\\save.py\u001b[0m in \u001b[0;36mmap_resources\u001b[1;34m(self)\u001b[0m\n\u001b[0;32m    283\u001b[0m                 (\"Attempted to save a function {} which references a symbolic \"\n\u001b[0;32m    284\u001b[0m                  \u001b[1;34m\"Tensor {} that is not a simple constant. This is not \"\u001b[0m\u001b[1;33m\u001b[0m\u001b[1;33m\u001b[0m\u001b[0m\n\u001b[1;32m--> 285\u001b[1;33m                  \"supported.\").format(concrete_function.name, capture))\n\u001b[0m\u001b[0;32m    286\u001b[0m           \u001b[0mcopied_tensor\u001b[0m \u001b[1;33m=\u001b[0m \u001b[0mconstant_op\u001b[0m\u001b[1;33m.\u001b[0m\u001b[0mconstant\u001b[0m\u001b[1;33m(\u001b[0m\u001b[0mcapture_constant_value\u001b[0m\u001b[1;33m)\u001b[0m\u001b[1;33m\u001b[0m\u001b[1;33m\u001b[0m\u001b[0m\n\u001b[0;32m    287\u001b[0m           \u001b[0mnode_id\u001b[0m \u001b[1;33m=\u001b[0m \u001b[0mlen\u001b[0m\u001b[1;33m(\u001b[0m\u001b[0mself\u001b[0m\u001b[1;33m.\u001b[0m\u001b[0mnodes\u001b[0m\u001b[1;33m)\u001b[0m\u001b[1;33m\u001b[0m\u001b[1;33m\u001b[0m\u001b[0m\n",
      "\u001b[1;31mValueError\u001b[0m: Attempted to save a function b'__inference_forward_bLstm1_layer_call_fn_24446' which references a symbolic Tensor Tensor(\"dropout/mul_1:0\", shape=(None, 2816), dtype=float32) that is not a simple constant. This is not supported."
     ]
    }
   ],
   "source": [
    "hist = model_2017.fit(\n",
    "    X_train, y_train_, batch_size=64, epochs=30, validation_data=(X_val, y_val_), callbacks=callbacks_list\n",
    ")"
   ]
  },
  {
   "cell_type": "code",
   "execution_count": 31,
   "metadata": {},
   "outputs": [
    {
     "name": "stdout",
     "output_type": "stream",
     "text": [
      ">>> f1 score: 0.24005352363960747\n",
      "              precision    recall  f1-score   support\n",
      "\n",
      "           0       0.00      0.00      0.00        16\n",
      "           1       0.00      0.00      0.00         4\n",
      "           2       0.54      0.83      0.66        30\n",
      "           3       0.42      0.76      0.54        21\n",
      "           4       0.00      0.00      0.00        14\n",
      "\n",
      "    accuracy                           0.48        85\n",
      "   macro avg       0.19      0.32      0.24        85\n",
      "weighted avg       0.30      0.48      0.37        85\n",
      "\n"
     ]
    }
   ],
   "source": [
    "y_pred = model_2017.predict(X_test, batch_size=bs)\n",
    "y_pred = np.array([np.argmax(s) for s in y_pred])\n",
    "f1 = f1_score(y_test, y_pred, average=\"macro\")\n",
    "print(\">>> f1 score: {}\".format(f1))\n",
    "report = classification_report(y_test, y_pred)\n",
    "print(report)"
   ]
  },
  {
   "cell_type": "code",
   "execution_count": 32,
   "metadata": {},
   "outputs": [],
   "source": [
    "model_2017.save_weights(\"raw_model_2017.h5\")"
   ]
  },
  {
   "cell_type": "code",
   "execution_count": 33,
   "metadata": {},
   "outputs": [
    {
     "data": {
      "text/plain": [
       "0.4823529411764706"
      ]
     },
     "execution_count": 33,
     "metadata": {},
     "output_type": "execute_result"
    }
   ],
   "source": [
    "accuracy_score(y_test, y_pred)"
   ]
  },
  {
   "cell_type": "code",
   "execution_count": 53,
   "metadata": {},
   "outputs": [
    {
     "data": {
      "text/plain": [
       "[<matplotlib.lines.Line2D at 0x2943618f088>]"
      ]
     },
     "execution_count": 53,
     "metadata": {},
     "output_type": "execute_result"
    },
    {
     "data": {
      "image/png": "[encoded data removed]",
      "text/plain": [
       "<Figure size 432x288 with 1 Axes>"
      ]
     },
     "metadata": {
      "needs_background": "light"
     },
     "output_type": "display_data"
    }
   ],
   "source": [
    "plt.plot(hist.history[\"loss\"])\n",
    "plt.plot(hist.history[\"val_loss\"])"
   ]
  },
  {
   "cell_type": "code",
   "execution_count": 54,
   "metadata": {},
   "outputs": [
    {
     "data": {
      "text/plain": [
       "[<matplotlib.lines.Line2D at 0x294361f7b88>]"
      ]
     },
     "execution_count": 54,
     "metadata": {},
     "output_type": "execute_result"
    },
    {
     "data": {
      "image/png": "[encoded data removed]",
      "text/plain": [
       "<Figure size 432x288 with 1 Axes>"
      ]
     },
     "metadata": {
      "needs_background": "light"
     },
     "output_type": "display_data"
    }
   ],
   "source": [
    "plt.plot(hist.history[\"acc\"])\n",
    "plt.plot(hist.history[\"val_acc\"])"
   ]
  },
  {
   "cell_type": "code",
   "execution_count": 172,
   "metadata": {},
   "outputs": [],
   "source": [
    "pp_X_train = np.array([butter_bandpass_filter(sample, highpass=40.0, fs=100, order=4) for sample in X_train])\n",
    "pp_X_val = np.array([butter_bandpass_filter(sample, highpass=40.0, fs=100, order=4) for sample in X_val])\n",
    "pp_X_test = np.array([butter_bandpass_filter(sample, highpass=40.0, fs=100, order=4) for sample in X_test])"
   ]
  },
  {
   "cell_type": "code",
   "execution_count": 174,
   "metadata": {},
   "outputs": [],
   "source": [
    "pp_X_test = pp_X_test.reshape(76,3000,1)"
   ]
  },
  {
   "cell_type": "code",
   "execution_count": 176,
   "metadata": {},
   "outputs": [],
   "source": [
    "pp_X_train = pp_X_train.reshape(765,3000,1)"
   ]
  },
  {
   "cell_type": "code",
   "execution_count": 190,
   "metadata": {},
   "outputs": [
    {
     "name": "stdout",
     "output_type": "stream",
     "text": [
      "Model: \"model_9\"\n",
      "__________________________________________________________________________________________________\n",
      "Layer (type)                    Output Shape         Param #     Connected to                     \n",
      "==================================================================================================\n",
      "inLayer (InputLayer)            [(None, 3000, 1)]    0                                            \n",
      "__________________________________________________________________________________________________\n",
      "fConv1 (Conv1D)                 (None, 500, 64)      3264        inLayer[0][0]                    \n",
      "__________________________________________________________________________________________________\n",
      "cConv1 (Conv1D)                 (None, 60, 32)       12832       inLayer[0][0]                    \n",
      "__________________________________________________________________________________________________\n",
      "fMaxP1 (MaxPooling1D)           (None, 62, 64)       0           fConv1[0][0]                     \n",
      "__________________________________________________________________________________________________\n",
      "cMaxP1 (MaxPooling1D)           (None, 15, 32)       0           cConv1[0][0]                     \n",
      "__________________________________________________________________________________________________\n",
      "fDrop1 (Dropout)                (None, 62, 64)       0           fMaxP1[0][0]                     \n",
      "__________________________________________________________________________________________________\n",
      "cDrop1 (Dropout)                (None, 15, 32)       0           cMaxP1[0][0]                     \n",
      "__________________________________________________________________________________________________\n",
      "fConv2 (Conv1D)                 (None, 62, 128)      65664       fDrop1[0][0]                     \n",
      "__________________________________________________________________________________________________\n",
      "cConv2 (Conv1D)                 (None, 15, 128)      24704       cDrop1[0][0]                     \n",
      "__________________________________________________________________________________________________\n",
      "fConv3 (Conv1D)                 (None, 62, 128)      131200      fConv2[0][0]                     \n",
      "__________________________________________________________________________________________________\n",
      "cConv3 (Conv1D)                 (None, 15, 128)      98432       cConv2[0][0]                     \n",
      "__________________________________________________________________________________________________\n",
      "fConv4 (Conv1D)                 (None, 62, 128)      131200      fConv3[0][0]                     \n",
      "__________________________________________________________________________________________________\n",
      "cConv4 (Conv1D)                 (None, 15, 128)      98432       cConv3[0][0]                     \n",
      "__________________________________________________________________________________________________\n",
      "fMaxP2 (MaxPooling1D)           (None, 15, 128)      0           fConv4[0][0]                     \n",
      "__________________________________________________________________________________________________\n",
      "cMaxP2 (MaxPooling1D)           (None, 7, 128)       0           cConv4[0][0]                     \n",
      "__________________________________________________________________________________________________\n",
      "fFlat1 (Flatten)                (None, 1920)         0           fMaxP2[0][0]                     \n",
      "__________________________________________________________________________________________________\n",
      "cFlat1 (Flatten)                (None, 896)          0           cMaxP2[0][0]                     \n",
      "__________________________________________________________________________________________________\n",
      "merge_1 (Concatenate)           (None, 2816)         0           fFlat1[0][0]                     \n",
      "                                                                 cFlat1[0][0]                     \n",
      "__________________________________________________________________________________________________\n",
      "mDrop1 (Dropout)                (None, 2816)         0           merge_1[0][0]                    \n",
      "__________________________________________________________________________________________________\n",
      "reshape1 (Reshape)              (None, 1, 2816)      0           mDrop1[0][0]                     \n",
      "__________________________________________________________________________________________________\n",
      "lstm_6 (LSTM)                   (None, 1, 64)        737536      reshape1[0][0]                   \n",
      "__________________________________________________________________________________________________\n",
      "lstm_7 (LSTM)                   (None, 64)           33024       lstm_6[0][0]                     \n",
      "__________________________________________________________________________________________________\n",
      "outLayer (Dense)                (None, 5)            325         lstm_7[0][0]                     \n",
      "==================================================================================================\n",
      "Total params: 1,336,613\n",
      "Trainable params: 1,336,613\n",
      "Non-trainable params: 0\n",
      "__________________________________________________________________________________________________\n",
      "Train on 765 samples, validate on 76 samples\n",
      "Epoch 1/120\n",
      "704/765 [==========================>...] - ETA: 0s - loss: 1.5879 - acc: 0.2145\n",
      "Epoch 00001: val_loss did not improve from 1.60878\n",
      "765/765 [==============================] - 8s 11ms/sample - loss: 1.5862 - acc: 0.2157 - val_loss: 1.6076 - val_acc: 0.2237\n",
      "Epoch 2/120\n",
      "704/765 [==========================>...] - ETA: 0s - loss: 1.5433 - acc: 0.2259\n",
      "Epoch 00002: val_loss did not improve from 1.60878\n",
      "765/765 [==============================] - 1s 2ms/sample - loss: 1.5429 - acc: 0.2248 - val_loss: 1.6053 - val_acc: 0.2237\n",
      "Epoch 3/120\n",
      "704/765 [==========================>...] - ETA: 0s - loss: 1.5140 - acc: 0.2287\n",
      "Epoch 00003: val_loss did not improve from 1.60878\n",
      "765/765 [==============================] - 1s 2ms/sample - loss: 1.5167 - acc: 0.2248 - val_loss: 1.6041 - val_acc: 0.3289\n",
      "Epoch 4/120\n",
      "704/765 [==========================>...] - ETA: 0s - loss: 1.4982 - acc: 0.2244\n",
      "Epoch 00004: val_loss did not improve from 1.60878\n",
      "765/765 [==============================] - 1s 2ms/sample - loss: 1.4961 - acc: 0.2248 - val_loss: 1.6035 - val_acc: 0.2632\n",
      "Epoch 5/120\n",
      "704/765 [==========================>...] - ETA: 0s - loss: 1.4815 - acc: 0.2202\n",
      "Epoch 00005: val_loss did not improve from 1.60878\n",
      "765/765 [==============================] - 1s 2ms/sample - loss: 1.4789 - acc: 0.2248 - val_loss: 1.6035 - val_acc: 0.2500\n",
      "Epoch 6/120\n",
      "704/765 [==========================>...] - ETA: 0s - loss: 1.4686 - acc: 0.2244\n",
      "Epoch 00006: val_loss did not improve from 1.60878\n",
      "\n",
      "Epoch 00006: ReduceLROnPlateau reducing learning rate to 9.999999747378752e-06.\n",
      "765/765 [==============================] - 1s 2ms/sample - loss: 1.4648 - acc: 0.2248 - val_loss: 1.6030 - val_acc: 0.2237\n",
      "Epoch 7/120\n",
      "704/765 [==========================>...] - ETA: 0s - loss: 1.4580 - acc: 0.2230\n",
      "Epoch 00007: val_loss did not improve from 1.60878\n",
      "765/765 [==============================] - 1s 2ms/sample - loss: 1.4552 - acc: 0.2248 - val_loss: 1.6030 - val_acc: 0.1974\n",
      "Epoch 8/120\n",
      "704/765 [==========================>...] - ETA: 0s - loss: 1.4528 - acc: 0.2230\n",
      "Epoch 00008: val_loss did not improve from 1.60878\n",
      "765/765 [==============================] - 1s 2ms/sample - loss: 1.4529 - acc: 0.2248 - val_loss: 1.6030 - val_acc: 0.1842\n",
      "Epoch 9/120\n",
      "704/765 [==========================>...] - ETA: 0s - loss: 1.4532 - acc: 0.2216\n",
      "Epoch 00009: val_loss did not improve from 1.60878\n",
      "765/765 [==============================] - 1s 2ms/sample - loss: 1.4512 - acc: 0.2248 - val_loss: 1.6030 - val_acc: 0.1842\n",
      "Epoch 10/120\n",
      "704/765 [==========================>...] - ETA: 0s - loss: 1.4500 - acc: 0.2202\n",
      "Epoch 00010: val_loss did not improve from 1.60878\n",
      "765/765 [==============================] - 1s 2ms/sample - loss: 1.4497 - acc: 0.2248 - val_loss: 1.6029 - val_acc: 0.1842\n",
      "Epoch 11/120\n",
      "704/765 [==========================>...] - ETA: 0s - loss: 1.4485 - acc: 0.2259\n",
      "Epoch 00011: val_loss did not improve from 1.60878\n",
      "\n",
      "Epoch 00011: ReduceLROnPlateau reducing learning rate to 9.999999747378752e-07.\n",
      "765/765 [==============================] - 1s 2ms/sample - loss: 1.4481 - acc: 0.2248 - val_loss: 1.6029 - val_acc: 0.1842\n"
     ]
    },
    {
     "name": "stdout",
     "output_type": "stream",
     "text": [
      "Epoch 12/120\n",
      "704/765 [==========================>...] - ETA: 0s - loss: 1.4504 - acc: 0.2244\n",
      "Epoch 00012: val_loss did not improve from 1.60878\n",
      "765/765 [==============================] - 1s 2ms/sample - loss: 1.4493 - acc: 0.2248 - val_loss: 1.6029 - val_acc: 0.1842\n",
      "Epoch 13/120\n",
      "704/765 [==========================>...] - ETA: 0s - loss: 1.4467 - acc: 0.2273\n",
      "Epoch 00013: val_loss did not improve from 1.60878\n",
      "765/765 [==============================] - 1s 2ms/sample - loss: 1.4472 - acc: 0.2248 - val_loss: 1.6029 - val_acc: 0.1842\n",
      "Epoch 14/120\n",
      "704/765 [==========================>...] - ETA: 0s - loss: 1.4488 - acc: 0.2230\n",
      "Epoch 00014: val_loss did not improve from 1.60878\n",
      "765/765 [==============================] - 1s 2ms/sample - loss: 1.4472 - acc: 0.2248 - val_loss: 1.6029 - val_acc: 0.1842\n",
      "Epoch 15/120\n",
      "704/765 [==========================>...] - ETA: 0s - loss: 1.4524 - acc: 0.2230\n",
      "Epoch 00015: val_loss did not improve from 1.60878\n",
      "765/765 [==============================] - 2s 2ms/sample - loss: 1.4467 - acc: 0.2248 - val_loss: 1.6029 - val_acc: 0.1842\n",
      "Epoch 16/120\n",
      "704/765 [==========================>...] - ETA: 0s - loss: 1.4469 - acc: 0.2244\n",
      "Epoch 00016: val_loss did not improve from 1.60878\n",
      "\n",
      "Epoch 00016: ReduceLROnPlateau reducing learning rate to 9.999999974752428e-08.\n",
      "765/765 [==============================] - 1s 2ms/sample - loss: 1.4469 - acc: 0.2248 - val_loss: 1.6029 - val_acc: 0.1842\n",
      "Epoch 17/120\n",
      "704/765 [==========================>...] - ETA: 0s - loss: 1.4423 - acc: 0.2315\n",
      "Epoch 00017: val_loss did not improve from 1.60878\n",
      "765/765 [==============================] - 1s 2ms/sample - loss: 1.4474 - acc: 0.2261 - val_loss: 1.6029 - val_acc: 0.1842\n",
      "Epoch 18/120\n",
      "704/765 [==========================>...] - ETA: 0s - loss: 1.4527 - acc: 0.2216\n",
      "Epoch 00018: val_loss did not improve from 1.60878\n",
      "765/765 [==============================] - 1s 2ms/sample - loss: 1.4472 - acc: 0.2248 - val_loss: 1.6029 - val_acc: 0.1842\n",
      "Epoch 19/120\n",
      "704/765 [==========================>...] - ETA: 0s - loss: 1.4450 - acc: 0.2273\n",
      "Epoch 00019: val_loss did not improve from 1.60878\n",
      "765/765 [==============================] - 1s 2ms/sample - loss: 1.4487 - acc: 0.2248 - val_loss: 1.6029 - val_acc: 0.1842\n",
      "Epoch 20/120\n",
      "704/765 [==========================>...] - ETA: 0s - loss: 1.4464 - acc: 0.2230\n",
      "Epoch 00020: val_loss did not improve from 1.60878\n",
      "765/765 [==============================] - 2s 2ms/sample - loss: 1.4459 - acc: 0.2248 - val_loss: 1.6029 - val_acc: 0.1842\n",
      "Epoch 21/120\n",
      "704/765 [==========================>...] - ETA: 0s - loss: 1.4492 - acc: 0.2230\n",
      "Epoch 00021: val_loss did not improve from 1.60878\n",
      "\n",
      "Epoch 00021: ReduceLROnPlateau reducing learning rate to 1.0000000116860975e-08.\n",
      "765/765 [==============================] - 2s 2ms/sample - loss: 1.4472 - acc: 0.2248 - val_loss: 1.6029 - val_acc: 0.1842\n",
      "Epoch 22/120\n",
      "704/765 [==========================>...] - ETA: 0s - loss: 1.4514 - acc: 0.2188\n",
      "Epoch 00022: val_loss did not improve from 1.60878\n",
      "765/765 [==============================] - 2s 2ms/sample - loss: 1.4474 - acc: 0.2248 - val_loss: 1.6029 - val_acc: 0.1842\n",
      "Epoch 23/120\n",
      "704/765 [==========================>...] - ETA: 0s - loss: 1.4488 - acc: 0.2273\n",
      "Epoch 00023: val_loss did not improve from 1.60878\n",
      "765/765 [==============================] - 1s 2ms/sample - loss: 1.4477 - acc: 0.2248 - val_loss: 1.6029 - val_acc: 0.1842\n",
      "Epoch 24/120\n",
      "704/765 [==========================>...] - ETA: 0s - loss: 1.4453 - acc: 0.2244\n",
      "Epoch 00024: val_loss did not improve from 1.60878\n",
      "765/765 [==============================] - 2s 2ms/sample - loss: 1.4468 - acc: 0.2248 - val_loss: 1.6029 - val_acc: 0.1842\n",
      "Epoch 25/120\n",
      "704/765 [==========================>...] - ETA: 0s - loss: 1.4480 - acc: 0.2244\n",
      "Epoch 00025: val_loss did not improve from 1.60878\n",
      "765/765 [==============================] - 2s 2ms/sample - loss: 1.4470 - acc: 0.2248 - val_loss: 1.6029 - val_acc: 0.1842\n",
      "Epoch 26/120\n",
      "704/765 [==========================>...] - ETA: 0s - loss: 1.4430 - acc: 0.2273\n",
      "Epoch 00026: val_loss did not improve from 1.60878\n",
      "\n",
      "Epoch 00026: ReduceLROnPlateau reducing learning rate to 9.999999939225292e-10.\n",
      "765/765 [==============================] - 1s 2ms/sample - loss: 1.4462 - acc: 0.2248 - val_loss: 1.6029 - val_acc: 0.1842\n",
      "Epoch 27/120\n",
      "704/765 [==========================>...] - ETA: 0s - loss: 1.4498 - acc: 0.2202\n",
      "Epoch 00027: val_loss did not improve from 1.60878\n",
      "765/765 [==============================] - 2s 2ms/sample - loss: 1.4477 - acc: 0.2248 - val_loss: 1.6029 - val_acc: 0.1842\n",
      "Epoch 28/120\n",
      "704/765 [==========================>...] - ETA: 0s - loss: 1.4495 - acc: 0.2216\n",
      "Epoch 00028: val_loss did not improve from 1.60878\n",
      "765/765 [==============================] - 2s 3ms/sample - loss: 1.4464 - acc: 0.2248 - val_loss: 1.6029 - val_acc: 0.1842\n",
      "Epoch 29/120\n",
      "704/765 [==========================>...] - ETA: 0s - loss: 1.4417 - acc: 0.2330\n",
      "Epoch 00029: val_loss did not improve from 1.60878\n",
      "765/765 [==============================] - 1s 2ms/sample - loss: 1.4483 - acc: 0.2248 - val_loss: 1.6029 - val_acc: 0.1842\n",
      "Epoch 30/120\n",
      "704/765 [==========================>...] - ETA: 0s - loss: 1.4513 - acc: 0.2188\n",
      "Epoch 00030: val_loss did not improve from 1.60878\n",
      "765/765 [==============================] - 1s 2ms/sample - loss: 1.4463 - acc: 0.2248 - val_loss: 1.6029 - val_acc: 0.1842\n",
      "Epoch 31/120\n",
      "704/765 [==========================>...] - ETA: 0s - loss: 1.4552 - acc: 0.2159\n",
      "Epoch 00031: val_loss did not improve from 1.60878\n",
      "\n",
      "Epoch 00031: ReduceLROnPlateau reducing learning rate to 9.999999717180686e-11.\n",
      "765/765 [==============================] - 1s 2ms/sample - loss: 1.4471 - acc: 0.2248 - val_loss: 1.6029 - val_acc: 0.1842\n",
      "Epoch 32/120\n",
      "704/765 [==========================>...] - ETA: 0s - loss: 1.4468 - acc: 0.2273\n",
      "Epoch 00032: val_loss did not improve from 1.60878\n",
      "765/765 [==============================] - 1s 2ms/sample - loss: 1.4471 - acc: 0.2248 - val_loss: 1.6029 - val_acc: 0.1842\n",
      "Epoch 33/120\n",
      "704/765 [==========================>...] - ETA: 0s - loss: 1.4526 - acc: 0.2188\n",
      "Epoch 00033: val_loss did not improve from 1.60878\n",
      "765/765 [==============================] - 1s 2ms/sample - loss: 1.4464 - acc: 0.2248 - val_loss: 1.6029 - val_acc: 0.1842\n",
      "Epoch 34/120\n",
      "704/765 [==========================>...] - ETA: 0s - loss: 1.4479 - acc: 0.2216\n",
      "Epoch 00034: val_loss did not improve from 1.60878\n",
      "765/765 [==============================] - 1s 2ms/sample - loss: 1.4484 - acc: 0.2261 - val_loss: 1.6029 - val_acc: 0.1842\n",
      "Epoch 35/120\n",
      "704/765 [==========================>...] - ETA: 0s - loss: 1.4454 - acc: 0.2287\n",
      "Epoch 00035: val_loss did not improve from 1.60878\n",
      "765/765 [==============================] - 2s 2ms/sample - loss: 1.4470 - acc: 0.2248 - val_loss: 1.6029 - val_acc: 0.1842\n",
      "Epoch 36/120\n",
      "704/765 [==========================>...] - ETA: 0s - loss: 1.4450 - acc: 0.2287\n",
      "Epoch 00036: val_loss did not improve from 1.60878\n",
      "\n",
      "Epoch 00036: ReduceLROnPlateau reducing learning rate to 9.99999943962493e-12.\n",
      "765/765 [==============================] - 2s 2ms/sample - loss: 1.4465 - acc: 0.2248 - val_loss: 1.6029 - val_acc: 0.1842\n",
      "Epoch 37/120\n",
      "704/765 [==========================>...] - ETA: 0s - loss: 1.4449 - acc: 0.2259\n",
      "Epoch 00037: val_loss did not improve from 1.60878\n",
      "765/765 [==============================] - 2s 2ms/sample - loss: 1.4472 - acc: 0.2248 - val_loss: 1.6029 - val_acc: 0.1842\n",
      "Epoch 38/120\n",
      "704/765 [==========================>...] - ETA: 0s - loss: 1.4431 - acc: 0.2273\n",
      "Epoch 00038: val_loss did not improve from 1.60878\n",
      "765/765 [==============================] - 2s 2ms/sample - loss: 1.4468 - acc: 0.2248 - val_loss: 1.6029 - val_acc: 0.1842\n",
      "Epoch 39/120\n",
      "704/765 [==========================>...] - ETA: 0s - loss: 1.4504 - acc: 0.2244\n",
      "Epoch 00039: val_loss did not improve from 1.60878\n",
      "765/765 [==============================] - 1s 2ms/sample - loss: 1.4487 - acc: 0.2248 - val_loss: 1.6029 - val_acc: 0.1842\n",
      "Epoch 40/120\n",
      "704/765 [==========================>...] - ETA: 0s - loss: 1.4447 - acc: 0.2287\n",
      "Epoch 00040: val_loss did not improve from 1.60878\n",
      "765/765 [==============================] - 1s 2ms/sample - loss: 1.4490 - acc: 0.2248 - val_loss: 1.6029 - val_acc: 0.1842\n",
      "Epoch 41/120\n",
      "704/765 [==========================>...] - ETA: 0s - loss: 1.4402 - acc: 0.2287\n",
      "Epoch 00041: val_loss did not improve from 1.60878\n",
      "\n",
      "Epoch 00041: ReduceLROnPlateau reducing learning rate to 9.999999092680235e-13.\n",
      "765/765 [==============================] - 2s 2ms/sample - loss: 1.4467 - acc: 0.2248 - val_loss: 1.6029 - val_acc: 0.1842\n",
      "Epoch 42/120\n",
      "704/765 [==========================>...] - ETA: 0s - loss: 1.4454 - acc: 0.2273\n",
      "Epoch 00042: val_loss did not improve from 1.60878\n",
      "765/765 [==============================] - 1s 2ms/sample - loss: 1.4469 - acc: 0.2261 - val_loss: 1.6029 - val_acc: 0.1842\n",
      "Epoch 43/120\n",
      "704/765 [==========================>...] - ETA: 0s - loss: 1.4523 - acc: 0.2188\n",
      "Epoch 00043: val_loss did not improve from 1.60878\n",
      "765/765 [==============================] - 1s 2ms/sample - loss: 1.4470 - acc: 0.2248 - val_loss: 1.6029 - val_acc: 0.1842\n",
      "Epoch 44/120\n",
      "704/765 [==========================>...] - ETA: 0s - loss: 1.4460 - acc: 0.2273\n",
      "Epoch 00044: val_loss did not improve from 1.60878\n",
      "765/765 [==============================] - 1s 2ms/sample - loss: 1.4481 - acc: 0.2248 - val_loss: 1.6029 - val_acc: 0.1842\n",
      "Epoch 45/120\n",
      "704/765 [==========================>...] - ETA: 0s - loss: 1.4468 - acc: 0.2244\n",
      "Epoch 00045: val_loss did not improve from 1.60878\n",
      "765/765 [==============================] - 1s 2ms/sample - loss: 1.4478 - acc: 0.2248 - val_loss: 1.6029 - val_acc: 0.1842\n",
      "Epoch 46/120\n",
      "704/765 [==========================>...] - ETA: 0s - loss: 1.4506 - acc: 0.2244\n",
      "Epoch 00046: val_loss did not improve from 1.60878\n",
      "\n",
      "Epoch 00046: ReduceLROnPlateau reducing learning rate to 9.9999988758398e-14.\n",
      "765/765 [==============================] - 2s 2ms/sample - loss: 1.4462 - acc: 0.2248 - val_loss: 1.6029 - val_acc: 0.1842\n",
      "Epoch 47/120\n",
      "704/765 [==========================>...] - ETA: 0s - loss: 1.4424 - acc: 0.2273\n",
      "Epoch 00047: val_loss did not improve from 1.60878\n",
      "765/765 [==============================] - 2s 2ms/sample - loss: 1.4463 - acc: 0.2248 - val_loss: 1.6029 - val_acc: 0.1842\n",
      "Epoch 48/120\n",
      "704/765 [==========================>...] - ETA: 0s - loss: 1.4482 - acc: 0.2259\n",
      "Epoch 00048: val_loss did not improve from 1.60878\n",
      "765/765 [==============================] - 2s 2ms/sample - loss: 1.4459 - acc: 0.2248 - val_loss: 1.6029 - val_acc: 0.1842\n",
      "Epoch 49/120\n",
      "704/765 [==========================>...] - ETA: 0s - loss: 1.4440 - acc: 0.2287\n",
      "Epoch 00049: val_loss did not improve from 1.60878\n",
      "765/765 [==============================] - 1s 2ms/sample - loss: 1.4469 - acc: 0.2248 - val_loss: 1.6029 - val_acc: 0.1842\n",
      "Epoch 50/120\n",
      "704/765 [==========================>...] - ETA: 0s - loss: 1.4579 - acc: 0.2145\n",
      "Epoch 00050: val_loss did not improve from 1.60878\n",
      "765/765 [==============================] - 1s 2ms/sample - loss: 1.4472 - acc: 0.2248 - val_loss: 1.6029 - val_acc: 0.1842\n",
      "Epoch 51/120\n",
      "704/765 [==========================>...] - ETA: 0s - loss: 1.4484 - acc: 0.2216\n",
      "Epoch 00051: val_loss did not improve from 1.60878\n",
      "\n",
      "Epoch 00051: ReduceLROnPlateau reducing learning rate to 9.999999146890344e-15.\n",
      "765/765 [==============================] - 1s 2ms/sample - loss: 1.4473 - acc: 0.2248 - val_loss: 1.6029 - val_acc: 0.1842\n",
      "Epoch 52/120\n",
      "704/765 [==========================>...] - ETA: 0s - loss: 1.4533 - acc: 0.2188\n",
      "Epoch 00052: val_loss did not improve from 1.60878\n",
      "765/765 [==============================] - 1s 2ms/sample - loss: 1.4471 - acc: 0.2261 - val_loss: 1.6029 - val_acc: 0.1842\n",
      "Epoch 53/120\n",
      "704/765 [==========================>...] - ETA: 0s - loss: 1.4469 - acc: 0.2287\n",
      "Epoch 00053: val_loss did not improve from 1.60878\n",
      "765/765 [==============================] - 1s 2ms/sample - loss: 1.4481 - acc: 0.2248 - val_loss: 1.6029 - val_acc: 0.1842\n",
      "Epoch 54/120\n",
      "704/765 [==========================>...] - ETA: 0s - loss: 1.4415 - acc: 0.2287\n",
      "Epoch 00054: val_loss did not improve from 1.60878\n",
      "765/765 [==============================] - 1s 2ms/sample - loss: 1.4469 - acc: 0.2248 - val_loss: 1.6029 - val_acc: 0.1842\n",
      "Epoch 55/120\n",
      "704/765 [==========================>...] - ETA: 0s - loss: 1.4417 - acc: 0.2259\n",
      "Epoch 00055: val_loss did not improve from 1.60878\n",
      "765/765 [==============================] - 1s 2ms/sample - loss: 1.4467 - acc: 0.2248 - val_loss: 1.6029 - val_acc: 0.1842\n",
      "Epoch 56/120\n",
      "704/765 [==========================>...] - ETA: 0s - loss: 1.4398 - acc: 0.2315\n",
      "Epoch 00056: val_loss did not improve from 1.60878\n",
      "\n",
      "Epoch 00056: ReduceLROnPlateau reducing learning rate to 9.999998977483753e-16.\n",
      "765/765 [==============================] - 1s 2ms/sample - loss: 1.4472 - acc: 0.2248 - val_loss: 1.6029 - val_acc: 0.1842\n",
      "Epoch 57/120\n",
      "704/765 [==========================>...] - ETA: 0s - loss: 1.4451 - acc: 0.2287\n",
      "Epoch 00057: val_loss did not improve from 1.60878\n",
      "765/765 [==============================] - 1s 2ms/sample - loss: 1.4479 - acc: 0.2248 - val_loss: 1.6029 - val_acc: 0.1842\n",
      "Epoch 58/120\n",
      "704/765 [==========================>...] - ETA: 0s - loss: 1.4458 - acc: 0.2273\n",
      "Epoch 00058: val_loss did not improve from 1.60878\n",
      "765/765 [==============================] - 1s 2ms/sample - loss: 1.4457 - acc: 0.2248 - val_loss: 1.6029 - val_acc: 0.1842\n",
      "Epoch 59/120\n",
      "704/765 [==========================>...] - ETA: 0s - loss: 1.4474 - acc: 0.2259\n",
      "Epoch 00059: val_loss did not improve from 1.60878\n",
      "765/765 [==============================] - 1s 2ms/sample - loss: 1.4476 - acc: 0.2248 - val_loss: 1.6029 - val_acc: 0.1842\n",
      "Epoch 60/120\n",
      "704/765 [==========================>...] - ETA: 0s - loss: 1.4471 - acc: 0.2230\n",
      "Epoch 00060: val_loss did not improve from 1.60878\n",
      "765/765 [==============================] - 1s 2ms/sample - loss: 1.4481 - acc: 0.2248 - val_loss: 1.6029 - val_acc: 0.1842\n",
      "Epoch 61/120\n",
      "704/765 [==========================>...] - ETA: 0s - loss: 1.4517 - acc: 0.2202\n",
      "Epoch 00061: val_loss did not improve from 1.60878\n",
      "\n",
      "Epoch 00061: ReduceLROnPlateau reducing learning rate to 9.999998977483754e-17.\n",
      "765/765 [==============================] - 1s 2ms/sample - loss: 1.4475 - acc: 0.2261 - val_loss: 1.6029 - val_acc: 0.1842\n",
      "Epoch 62/120\n",
      "704/765 [==========================>...] - ETA: 0s - loss: 1.4483 - acc: 0.2244\n",
      "Epoch 00062: val_loss did not improve from 1.60878\n",
      "765/765 [==============================] - 1s 2ms/sample - loss: 1.4469 - acc: 0.2248 - val_loss: 1.6029 - val_acc: 0.1842\n",
      "Epoch 63/120\n",
      "704/765 [==========================>...] - ETA: 0s - loss: 1.4490 - acc: 0.2244\n",
      "Epoch 00063: val_loss did not improve from 1.60878\n",
      "765/765 [==============================] - 1s 2ms/sample - loss: 1.4483 - acc: 0.2248 - val_loss: 1.6029 - val_acc: 0.1842\n",
      "Epoch 64/120\n",
      "704/765 [==========================>...] - ETA: 0s - loss: 1.4547 - acc: 0.2202\n",
      "Epoch 00064: val_loss did not improve from 1.60878\n",
      "765/765 [==============================] - 2s 2ms/sample - loss: 1.4459 - acc: 0.2261 - val_loss: 1.6029 - val_acc: 0.1842\n",
      "Epoch 65/120\n",
      "704/765 [==========================>...] - ETA: 0s - loss: 1.4506 - acc: 0.2244\n",
      "Epoch 00065: val_loss did not improve from 1.60878\n",
      "765/765 [==============================] - 1s 2ms/sample - loss: 1.4468 - acc: 0.2261 - val_loss: 1.6029 - val_acc: 0.1842\n",
      "Epoch 66/120\n",
      "704/765 [==========================>...] - ETA: 0s - loss: 1.4499 - acc: 0.2188\n",
      "Epoch 00066: val_loss did not improve from 1.60878\n",
      "\n",
      "Epoch 00066: ReduceLROnPlateau reducing learning rate to 9.999998845134856e-18.\n",
      "765/765 [==============================] - 1s 2ms/sample - loss: 1.4473 - acc: 0.2248 - val_loss: 1.6029 - val_acc: 0.1842\n",
      "Epoch 67/120\n",
      "704/765 [==========================>...] - ETA: 0s - loss: 1.4432 - acc: 0.2273\n",
      "Epoch 00067: val_loss did not improve from 1.60878\n",
      "765/765 [==============================] - 1s 2ms/sample - loss: 1.4461 - acc: 0.2248 - val_loss: 1.6029 - val_acc: 0.1842\n",
      "Epoch 68/120\n",
      "704/765 [==========================>...] - ETA: 0s - loss: 1.4452 - acc: 0.2273\n",
      "Epoch 00068: val_loss did not improve from 1.60878\n",
      "765/765 [==============================] - 1s 2ms/sample - loss: 1.4462 - acc: 0.2248 - val_loss: 1.6029 - val_acc: 0.1842\n",
      "Epoch 69/120\n",
      "704/765 [==========================>...] - ETA: 0s - loss: 1.4518 - acc: 0.2216\n",
      "Epoch 00069: val_loss did not improve from 1.60878\n",
      "765/765 [==============================] - 1s 2ms/sample - loss: 1.4474 - acc: 0.2248 - val_loss: 1.6029 - val_acc: 0.1842\n"
     ]
    },
    {
     "name": "stdout",
     "output_type": "stream",
     "text": [
      "Epoch 70/120\n",
      "704/765 [==========================>...] - ETA: 0s - loss: 1.4402 - acc: 0.2301\n",
      "Epoch 00070: val_loss did not improve from 1.60878\n",
      "765/765 [==============================] - 1s 2ms/sample - loss: 1.4477 - acc: 0.2248 - val_loss: 1.6029 - val_acc: 0.1842\n",
      "Epoch 71/120\n",
      "704/765 [==========================>...] - ETA: 0s - loss: 1.4424 - acc: 0.2259\n",
      "Epoch 00071: val_loss did not improve from 1.60878\n",
      "\n",
      "Epoch 00071: ReduceLROnPlateau reducing learning rate to 9.999999010570977e-19.\n",
      "765/765 [==============================] - 1s 2ms/sample - loss: 1.4464 - acc: 0.2248 - val_loss: 1.6029 - val_acc: 0.1842\n",
      "Epoch 72/120\n",
      "704/765 [==========================>...] - ETA: 0s - loss: 1.4418 - acc: 0.2315\n",
      "Epoch 00072: val_loss did not improve from 1.60878\n",
      "765/765 [==============================] - 1s 2ms/sample - loss: 1.4462 - acc: 0.2248 - val_loss: 1.6029 - val_acc: 0.1842\n",
      "Epoch 73/120\n",
      "704/765 [==========================>...] - ETA: 0s - loss: 1.4463 - acc: 0.2244\n",
      "Epoch 00073: val_loss did not improve from 1.60878\n",
      "765/765 [==============================] - 1s 2ms/sample - loss: 1.4473 - acc: 0.2248 - val_loss: 1.6029 - val_acc: 0.1842\n",
      "Epoch 74/120\n",
      "704/765 [==========================>...] - ETA: 0s - loss: 1.4501 - acc: 0.2202\n",
      "Epoch 00074: val_loss did not improve from 1.60878\n",
      "765/765 [==============================] - 1s 2ms/sample - loss: 1.4462 - acc: 0.2248 - val_loss: 1.6029 - val_acc: 0.1842\n",
      "Epoch 75/120\n",
      "704/765 [==========================>...] - ETA: 0s - loss: 1.4509 - acc: 0.2230\n",
      "Epoch 00075: val_loss did not improve from 1.60878\n",
      "765/765 [==============================] - 1s 2ms/sample - loss: 1.4471 - acc: 0.2248 - val_loss: 1.6029 - val_acc: 0.1842\n",
      "Epoch 76/120\n",
      "704/765 [==========================>...] - ETA: 0s - loss: 1.4439 - acc: 0.2273\n",
      "Epoch 00076: val_loss did not improve from 1.60878\n",
      "\n",
      "Epoch 00076: ReduceLROnPlateau reducing learning rate to 9.999999424161285e-20.\n",
      "765/765 [==============================] - 2s 2ms/sample - loss: 1.4474 - acc: 0.2261 - val_loss: 1.6029 - val_acc: 0.1842\n",
      "Epoch 77/120\n",
      "704/765 [==========================>...] - ETA: 0s - loss: 1.4428 - acc: 0.2287\n",
      "Epoch 00077: val_loss did not improve from 1.60878\n",
      "765/765 [==============================] - 2s 2ms/sample - loss: 1.4464 - acc: 0.2248 - val_loss: 1.6029 - val_acc: 0.1842\n",
      "Epoch 78/120\n",
      "704/765 [==========================>...] - ETA: 0s - loss: 1.4470 - acc: 0.2287\n",
      "Epoch 00078: val_loss did not improve from 1.60878\n",
      "765/765 [==============================] - 1s 2ms/sample - loss: 1.4490 - acc: 0.2248 - val_loss: 1.6029 - val_acc: 0.1842\n",
      "Epoch 79/120\n",
      "704/765 [==========================>...] - ETA: 0s - loss: 1.4387 - acc: 0.2301\n",
      "Epoch 00079: val_loss did not improve from 1.60878\n",
      "765/765 [==============================] - 1s 2ms/sample - loss: 1.4469 - acc: 0.2248 - val_loss: 1.6029 - val_acc: 0.1842\n",
      "Epoch 80/120\n",
      "704/765 [==========================>...] - ETA: 0s - loss: 1.4482 - acc: 0.2230\n",
      "Epoch 00080: val_loss did not improve from 1.60878\n",
      "765/765 [==============================] - 2s 2ms/sample - loss: 1.4457 - acc: 0.2248 - val_loss: 1.6029 - val_acc: 0.1842\n",
      "Epoch 81/120\n",
      "704/765 [==========================>...] - ETA: 0s - loss: 1.4544 - acc: 0.2173\n",
      "Epoch 00081: val_loss did not improve from 1.60878\n",
      "\n",
      "Epoch 00081: ReduceLROnPlateau reducing learning rate to 9.999999682655225e-21.\n",
      "765/765 [==============================] - 1s 2ms/sample - loss: 1.4472 - acc: 0.2248 - val_loss: 1.6029 - val_acc: 0.1842\n",
      "Epoch 82/120\n",
      "704/765 [==========================>...] - ETA: 0s - loss: 1.4504 - acc: 0.2244\n",
      "Epoch 00082: val_loss did not improve from 1.60878\n",
      "765/765 [==============================] - 1s 2ms/sample - loss: 1.4482 - acc: 0.2248 - val_loss: 1.6029 - val_acc: 0.1842\n",
      "Epoch 83/120\n",
      "704/765 [==========================>...] - ETA: 0s - loss: 1.4488 - acc: 0.2244\n",
      "Epoch 00083: val_loss did not improve from 1.60878\n",
      "765/765 [==============================] - 2s 2ms/sample - loss: 1.4475 - acc: 0.2248 - val_loss: 1.6029 - val_acc: 0.1842\n",
      "Epoch 84/120\n",
      "704/765 [==========================>...] - ETA: 0s - loss: 1.4540 - acc: 0.2173\n",
      "Epoch 00084: val_loss did not improve from 1.60878\n",
      "765/765 [==============================] - 2s 2ms/sample - loss: 1.4469 - acc: 0.2248 - val_loss: 1.6029 - val_acc: 0.1842\n",
      "Epoch 85/120\n",
      "704/765 [==========================>...] - ETA: 0s - loss: 1.4516 - acc: 0.2188\n",
      "Epoch 00085: val_loss did not improve from 1.60878\n",
      "765/765 [==============================] - 1s 2ms/sample - loss: 1.4470 - acc: 0.2248 - val_loss: 1.6029 - val_acc: 0.1842\n",
      "Epoch 86/120\n",
      "704/765 [==========================>...] - ETA: 0s - loss: 1.4471 - acc: 0.2230\n",
      "Epoch 00086: val_loss did not improve from 1.60878\n",
      "\n",
      "Epoch 00086: ReduceLROnPlateau reducing learning rate to 9.999999682655225e-22.\n",
      "765/765 [==============================] - 1s 2ms/sample - loss: 1.4463 - acc: 0.2248 - val_loss: 1.6029 - val_acc: 0.1842\n",
      "Epoch 87/120\n",
      "704/765 [==========================>...] - ETA: 0s - loss: 1.4540 - acc: 0.2216\n",
      "Epoch 00087: val_loss did not improve from 1.60878\n",
      "765/765 [==============================] - 1s 2ms/sample - loss: 1.4473 - acc: 0.2248 - val_loss: 1.6029 - val_acc: 0.1842\n",
      "Epoch 88/120\n",
      "704/765 [==========================>...] - ETA: 0s - loss: 1.4489 - acc: 0.2216\n",
      "Epoch 00088: val_loss did not improve from 1.60878\n",
      "765/765 [==============================] - 1s 2ms/sample - loss: 1.4471 - acc: 0.2248 - val_loss: 1.6029 - val_acc: 0.1842\n",
      "Epoch 89/120\n",
      "704/765 [==========================>...] - ETA: 0s - loss: 1.4375 - acc: 0.2315\n",
      "Epoch 00089: val_loss did not improve from 1.60878\n",
      "765/765 [==============================] - 1s 2ms/sample - loss: 1.4461 - acc: 0.2248 - val_loss: 1.6029 - val_acc: 0.1842\n",
      "Epoch 90/120\n",
      "704/765 [==========================>...] - ETA: 0s - loss: 1.4443 - acc: 0.2301\n",
      "Epoch 00090: val_loss did not improve from 1.60878\n",
      "765/765 [==============================] - 1s 2ms/sample - loss: 1.4485 - acc: 0.2248 - val_loss: 1.6029 - val_acc: 0.1842\n",
      "Epoch 91/120\n",
      "704/765 [==========================>...] - ETA: 0s - loss: 1.4462 - acc: 0.2230\n",
      "Epoch 00091: val_loss did not improve from 1.60878\n",
      "\n",
      "Epoch 00091: ReduceLROnPlateau reducing learning rate to 9.999999682655225e-23.\n",
      "765/765 [==============================] - 1s 2ms/sample - loss: 1.4449 - acc: 0.2248 - val_loss: 1.6029 - val_acc: 0.1842\n",
      "Epoch 92/120\n",
      "704/765 [==========================>...] - ETA: 0s - loss: 1.4473 - acc: 0.2230\n",
      "Epoch 00092: val_loss did not improve from 1.60878\n",
      "765/765 [==============================] - 1s 2ms/sample - loss: 1.4458 - acc: 0.2248 - val_loss: 1.6029 - val_acc: 0.1842\n",
      "Epoch 93/120\n",
      "704/765 [==========================>...] - ETA: 0s - loss: 1.4449 - acc: 0.2301\n",
      "Epoch 00093: val_loss did not improve from 1.60878\n",
      "765/765 [==============================] - 1s 2ms/sample - loss: 1.4468 - acc: 0.2248 - val_loss: 1.6029 - val_acc: 0.1842\n",
      "Epoch 94/120\n",
      "704/765 [==========================>...] - ETA: 0s - loss: 1.4535 - acc: 0.2202\n",
      "Epoch 00094: val_loss did not improve from 1.60878\n",
      "765/765 [==============================] - 1s 2ms/sample - loss: 1.4478 - acc: 0.2248 - val_loss: 1.6029 - val_acc: 0.1842\n",
      "Epoch 95/120\n",
      "704/765 [==========================>...] - ETA: 0s - loss: 1.4452 - acc: 0.2273\n",
      "Epoch 00095: val_loss did not improve from 1.60878\n",
      "765/765 [==============================] - 1s 2ms/sample - loss: 1.4480 - acc: 0.2248 - val_loss: 1.6029 - val_acc: 0.1842\n",
      "Epoch 96/120\n",
      "704/765 [==========================>...] - ETA: 0s - loss: 1.4402 - acc: 0.2287\n",
      "Epoch 00096: val_loss did not improve from 1.60878\n",
      "\n",
      "Epoch 00096: ReduceLROnPlateau reducing learning rate to 9.999999682655227e-24.\n",
      "765/765 [==============================] - 1s 2ms/sample - loss: 1.4476 - acc: 0.2248 - val_loss: 1.6029 - val_acc: 0.1842\n",
      "Epoch 97/120\n",
      "704/765 [==========================>...] - ETA: 0s - loss: 1.4436 - acc: 0.2287\n",
      "Epoch 00097: val_loss did not improve from 1.60878\n",
      "765/765 [==============================] - 1s 2ms/sample - loss: 1.4463 - acc: 0.2248 - val_loss: 1.6029 - val_acc: 0.1842\n",
      "Epoch 98/120\n",
      "704/765 [==========================>...] - ETA: 0s - loss: 1.4493 - acc: 0.2244\n",
      "Epoch 00098: val_loss did not improve from 1.60878\n",
      "765/765 [==============================] - 1s 2ms/sample - loss: 1.4467 - acc: 0.2248 - val_loss: 1.6029 - val_acc: 0.1842\n"
     ]
    },
    {
     "name": "stdout",
     "output_type": "stream",
     "text": [
      "Epoch 99/120\n",
      "704/765 [==========================>...] - ETA: 0s - loss: 1.4522 - acc: 0.2202\n",
      "Epoch 00099: val_loss did not improve from 1.60878\n",
      "765/765 [==============================] - 1s 2ms/sample - loss: 1.4481 - acc: 0.2248 - val_loss: 1.6029 - val_acc: 0.1842\n",
      "Epoch 100/120\n",
      "704/765 [==========================>...] - ETA: 0s - loss: 1.4477 - acc: 0.2273\n",
      "Epoch 00100: val_loss did not improve from 1.60878\n",
      "765/765 [==============================] - 1s 2ms/sample - loss: 1.4459 - acc: 0.2261 - val_loss: 1.6029 - val_acc: 0.1842\n",
      "Epoch 101/120\n",
      "704/765 [==========================>...] - ETA: 0s - loss: 1.4490 - acc: 0.2230\n",
      "Epoch 00101: val_loss did not improve from 1.60878\n",
      "\n",
      "Epoch 00101: ReduceLROnPlateau reducing learning rate to 9.999999998199588e-25.\n",
      "765/765 [==============================] - 1s 2ms/sample - loss: 1.4468 - acc: 0.2248 - val_loss: 1.6029 - val_acc: 0.1842\n",
      "Epoch 102/120\n",
      "704/765 [==========================>...] - ETA: 0s - loss: 1.4446 - acc: 0.2287\n",
      "Epoch 00102: val_loss did not improve from 1.60878\n",
      "765/765 [==============================] - 1s 2ms/sample - loss: 1.4474 - acc: 0.2248 - val_loss: 1.6029 - val_acc: 0.1842\n",
      "Epoch 103/120\n",
      "704/765 [==========================>...] - ETA: 0s - loss: 1.4494 - acc: 0.2230\n",
      "Epoch 00103: val_loss did not improve from 1.60878\n",
      "765/765 [==============================] - 1s 2ms/sample - loss: 1.4479 - acc: 0.2248 - val_loss: 1.6029 - val_acc: 0.1842\n",
      "Epoch 104/120\n",
      "704/765 [==========================>...] - ETA: 0s - loss: 1.4565 - acc: 0.2173\n",
      "Epoch 00104: val_loss did not improve from 1.60878\n",
      "765/765 [==============================] - 2s 2ms/sample - loss: 1.4465 - acc: 0.2248 - val_loss: 1.6029 - val_acc: 0.1842\n",
      "Epoch 105/120\n",
      "704/765 [==========================>...] - ETA: 0s - loss: 1.4440 - acc: 0.2259\n",
      "Epoch 00105: val_loss did not improve from 1.60878\n",
      "765/765 [==============================] - 2s 2ms/sample - loss: 1.4468 - acc: 0.2248 - val_loss: 1.6029 - val_acc: 0.1842\n",
      "Epoch 106/120\n",
      "704/765 [==========================>...] - ETA: 0s - loss: 1.4499 - acc: 0.2244\n",
      "Epoch 00106: val_loss did not improve from 1.60878\n",
      "\n",
      "Epoch 00106: ReduceLROnPlateau reducing learning rate to 1.0000000195414814e-25.\n",
      "765/765 [==============================] - 1s 2ms/sample - loss: 1.4489 - acc: 0.2248 - val_loss: 1.6029 - val_acc: 0.1842\n",
      "Epoch 107/120\n",
      "704/765 [==========================>...] - ETA: 0s - loss: 1.4510 - acc: 0.2188\n",
      "Epoch 00107: val_loss did not improve from 1.60878\n",
      "765/765 [==============================] - 1s 2ms/sample - loss: 1.4452 - acc: 0.2248 - val_loss: 1.6029 - val_acc: 0.1842\n",
      "Epoch 108/120\n",
      "704/765 [==========================>...] - ETA: 0s - loss: 1.4508 - acc: 0.2216\n",
      "Epoch 00108: val_loss did not improve from 1.60878\n",
      "765/765 [==============================] - 1s 2ms/sample - loss: 1.4471 - acc: 0.2248 - val_loss: 1.6029 - val_acc: 0.1842\n",
      "Epoch 109/120\n",
      "704/765 [==========================>...] - ETA: 0s - loss: 1.4469 - acc: 0.2259\n",
      "Epoch 00109: val_loss did not improve from 1.60878\n",
      "765/765 [==============================] - 1s 2ms/sample - loss: 1.4479 - acc: 0.2248 - val_loss: 1.6029 - val_acc: 0.1842\n",
      "Epoch 110/120\n",
      "704/765 [==========================>...] - ETA: 0s - loss: 1.4479 - acc: 0.2230\n",
      "Epoch 00110: val_loss did not improve from 1.60878\n",
      "765/765 [==============================] - 1s 2ms/sample - loss: 1.4479 - acc: 0.2248 - val_loss: 1.6029 - val_acc: 0.1842\n",
      "Epoch 111/120\n",
      "704/765 [==========================>...] - ETA: 0s - loss: 1.4494 - acc: 0.2216\n",
      "Epoch 00111: val_loss did not improve from 1.60878\n",
      "\n",
      "Epoch 00111: ReduceLROnPlateau reducing learning rate to 1.0000000195414814e-26.\n",
      "765/765 [==============================] - 1s 2ms/sample - loss: 1.4457 - acc: 0.2248 - val_loss: 1.6029 - val_acc: 0.1842\n",
      "Epoch 112/120\n",
      "704/765 [==========================>...] - ETA: 0s - loss: 1.4449 - acc: 0.2273\n",
      "Epoch 00112: val_loss did not improve from 1.60878\n",
      "765/765 [==============================] - 1s 2ms/sample - loss: 1.4463 - acc: 0.2248 - val_loss: 1.6029 - val_acc: 0.1842\n",
      "Epoch 113/120\n",
      "704/765 [==========================>...] - ETA: 0s - loss: 1.4505 - acc: 0.2202\n",
      "Epoch 00113: val_loss did not improve from 1.60878\n",
      "765/765 [==============================] - 2s 2ms/sample - loss: 1.4472 - acc: 0.2248 - val_loss: 1.6029 - val_acc: 0.1842\n",
      "Epoch 114/120\n",
      "704/765 [==========================>...] - ETA: 0s - loss: 1.4531 - acc: 0.2173\n",
      "Epoch 00114: val_loss did not improve from 1.60878\n",
      "765/765 [==============================] - 1s 2ms/sample - loss: 1.4481 - acc: 0.2248 - val_loss: 1.6029 - val_acc: 0.1842\n",
      "Epoch 115/120\n",
      "704/765 [==========================>...] - ETA: 0s - loss: 1.4567 - acc: 0.2131\n",
      "Epoch 00115: val_loss did not improve from 1.60878\n",
      "765/765 [==============================] - 1s 2ms/sample - loss: 1.4459 - acc: 0.2248 - val_loss: 1.6029 - val_acc: 0.1842\n",
      "Epoch 116/120\n",
      "704/765 [==========================>...] - ETA: 0s - loss: 1.4508 - acc: 0.2216\n",
      "Epoch 00116: val_loss did not improve from 1.60878\n",
      "\n",
      "Epoch 00116: ReduceLROnPlateau reducing learning rate to 9.999999887266024e-28.\n",
      "765/765 [==============================] - 1s 2ms/sample - loss: 1.4463 - acc: 0.2248 - val_loss: 1.6029 - val_acc: 0.1842\n",
      "Epoch 117/120\n",
      "704/765 [==========================>...] - ETA: 0s - loss: 1.4450 - acc: 0.2259\n",
      "Epoch 00117: val_loss did not improve from 1.60878\n",
      "765/765 [==============================] - 1s 2ms/sample - loss: 1.4471 - acc: 0.2248 - val_loss: 1.6029 - val_acc: 0.1842\n",
      "Epoch 118/120\n",
      "704/765 [==========================>...] - ETA: 0s - loss: 1.4364 - acc: 0.2287\n",
      "Epoch 00118: val_loss did not improve from 1.60878\n",
      "765/765 [==============================] - 1s 2ms/sample - loss: 1.4470 - acc: 0.2248 - val_loss: 1.6029 - val_acc: 0.1842\n",
      "Epoch 119/120\n",
      "704/765 [==========================>...] - ETA: 0s - loss: 1.4493 - acc: 0.2273\n",
      "Epoch 00119: val_loss did not improve from 1.60878\n",
      "765/765 [==============================] - 1s 2ms/sample - loss: 1.4471 - acc: 0.2248 - val_loss: 1.6029 - val_acc: 0.1842\n",
      "Epoch 120/120\n",
      "704/765 [==========================>...] - ETA: 0s - loss: 1.4471 - acc: 0.2259\n",
      "Epoch 00120: val_loss did not improve from 1.60878\n",
      "765/765 [==============================] - 1s 2ms/sample - loss: 1.4476 - acc: 0.2248 - val_loss: 1.6029 - val_acc: 0.1842\n"
     ]
    }
   ],
   "source": [
    "model_2019 = model_baseline_2019()\n",
    "hist_19 = model_2019.fit(\n",
    "    pp_X_train, y_train_, batch_size=64, epochs=120, validation_data=(pp_X_val, y_val_), callbacks=callbacks_list\n",
    ")"
   ]
  },
  {
   "cell_type": "code",
   "execution_count": 188,
   "metadata": {},
   "outputs": [
    {
     "name": "stdout",
     "output_type": "stream",
     "text": [
      ">>> f1 score: 0.25336105336105336\n",
      "              precision    recall  f1-score   support\n",
      "\n",
      "           0       0.62      0.81      0.70        16\n",
      "           1       0.00      0.00      0.00         5\n",
      "           2       0.40      0.96      0.56        23\n",
      "           3       0.00      0.00      0.00        20\n",
      "           4       0.00      0.00      0.00        12\n",
      "\n",
      "    accuracy                           0.46        76\n",
      "   macro avg       0.20      0.35      0.25        76\n",
      "weighted avg       0.25      0.46      0.32        76\n",
      "\n"
     ]
    }
   ],
   "source": [
    "y_pred = model_2019.predict(pp_X_test, batch_size=bs)\n",
    "y_pred = np.array([np.argmax(s) for s in y_pred])\n",
    "f1 = f1_score(y_test, y_pred, average=\"macro\")\n",
    "print(\">>> f1 score: {}\".format(f1))\n",
    "report = classification_report(y_test, y_pred)\n",
    "print(report)"
   ]
  },
  {
   "cell_type": "code",
   "execution_count": 189,
   "metadata": {},
   "outputs": [
    {
     "name": "stdout",
     "output_type": "stream",
     "text": [
      "0.4605263157894737\n"
     ]
    }
   ],
   "source": [
    "print(accuracy_score(y_test, y_pred))"
   ]
  },
  {
   "cell_type": "code",
   "execution_count": 180,
   "metadata": {},
   "outputs": [
    {
     "name": "stdout",
     "output_type": "stream",
     "text": [
      "Model: \"model_6\"\n",
      "__________________________________________________________________________________________________\n",
      "Layer (type)                    Output Shape         Param #     Connected to                     \n",
      "==================================================================================================\n",
      "inLayer (InputLayer)            [(None, 3000, 1)]    0                                            \n",
      "__________________________________________________________________________________________________\n",
      "fConv1 (Conv1D)                 (None, 500, 64)      3264        inLayer[0][0]                    \n",
      "__________________________________________________________________________________________________\n",
      "cConv1 (Conv1D)                 (None, 60, 32)       12832       inLayer[0][0]                    \n",
      "__________________________________________________________________________________________________\n",
      "fMaxP1 (MaxPooling1D)           (None, 62, 64)       0           fConv1[0][0]                     \n",
      "__________________________________________________________________________________________________\n",
      "cMaxP1 (MaxPooling1D)           (None, 15, 32)       0           cConv1[0][0]                     \n",
      "__________________________________________________________________________________________________\n",
      "fDrop1 (Dropout)                (None, 62, 64)       0           fMaxP1[0][0]                     \n",
      "__________________________________________________________________________________________________\n",
      "cDrop1 (Dropout)                (None, 15, 32)       0           cMaxP1[0][0]                     \n",
      "__________________________________________________________________________________________________\n",
      "fConv2 (Conv1D)                 (None, 62, 128)      65664       fDrop1[0][0]                     \n",
      "__________________________________________________________________________________________________\n",
      "cConv2 (Conv1D)                 (None, 15, 128)      24704       cDrop1[0][0]                     \n",
      "__________________________________________________________________________________________________\n",
      "fConv3 (Conv1D)                 (None, 62, 128)      131200      fConv2[0][0]                     \n",
      "__________________________________________________________________________________________________\n",
      "cConv3 (Conv1D)                 (None, 15, 128)      98432       cConv2[0][0]                     \n",
      "__________________________________________________________________________________________________\n",
      "fConv4 (Conv1D)                 (None, 62, 128)      131200      fConv3[0][0]                     \n",
      "__________________________________________________________________________________________________\n",
      "cConv4 (Conv1D)                 (None, 15, 128)      98432       cConv3[0][0]                     \n",
      "__________________________________________________________________________________________________\n",
      "fMaxP2 (MaxPooling1D)           (None, 15, 128)      0           fConv4[0][0]                     \n",
      "__________________________________________________________________________________________________\n",
      "cMaxP2 (MaxPooling1D)           (None, 7, 128)       0           cConv4[0][0]                     \n",
      "__________________________________________________________________________________________________\n",
      "fFlat1 (Flatten)                (None, 1920)         0           fMaxP2[0][0]                     \n",
      "__________________________________________________________________________________________________\n",
      "cFlat1 (Flatten)                (None, 896)          0           cMaxP2[0][0]                     \n",
      "__________________________________________________________________________________________________\n",
      "merge_1 (Concatenate)           (None, 2816)         0           fFlat1[0][0]                     \n",
      "                                                                 cFlat1[0][0]                     \n",
      "__________________________________________________________________________________________________\n",
      "mDrop1 (Dropout)                (None, 2816)         0           merge_1[0][0]                    \n",
      "__________________________________________________________________________________________________\n",
      "reshape1 (Reshape)              (None, 1, 2816)      0           mDrop1[0][0]                     \n",
      "__________________________________________________________________________________________________\n",
      "bidirectional_10 (Bidirectional (None, 256)          3015680     reshape1[0][0]                   \n",
      "__________________________________________________________________________________________________\n",
      "reshape_5 (Reshape)             (None, 1, 256)       0           bidirectional_10[0][0]           \n",
      "__________________________________________________________________________________________________\n",
      "bidirectional_11 (Bidirectional (None, 256)          394240      reshape_5[0][0]                  \n",
      "__________________________________________________________________________________________________\n",
      "merge_out_sub (Dropout)         (None, 256)          0           bidirectional_11[0][0]           \n",
      "__________________________________________________________________________________________________\n",
      "outLayer (Dense)                (None, 5)            1285        merge_out_sub[0][0]              \n",
      "==================================================================================================\n",
      "Total params: 3,976,933\n",
      "Trainable params: 3,976,933\n",
      "Non-trainable params: 0\n",
      "__________________________________________________________________________________________________\n",
      "Train on 765 samples, validate on 76 samples\n",
      "Epoch 1/30\n",
      "704/765 [==========================>...] - ETA: 0s - loss: 1.5917 - acc: 0.2315\n",
      "Epoch 00001: val_loss improved from 1.60818 to 1.60878, saving model to model_cps\n"
     ]
    },
    {
     "ename": "ValueError",
     "evalue": "Attempted to save a function b'__inference_forward_bLstm1_layer_call_fn_85211' which references a symbolic Tensor Tensor(\"dropout/mul_1:0\", shape=(None, 2816), dtype=float32) that is not a simple constant. This is not supported.",
     "output_type": "error",
     "traceback": [
      "\u001b[1;31m---------------------------------------------------------------------------\u001b[0m",
      "\u001b[1;31mValueError\u001b[0m                                Traceback (most recent call last)",
      "\u001b[1;32m<ipython-input-180-af3f71dadbe7>\u001b[0m in \u001b[0;36m<module>\u001b[1;34m\u001b[0m\n\u001b[0;32m      1\u001b[0m \u001b[0mmodel_2017\u001b[0m \u001b[1;33m=\u001b[0m \u001b[0mmodel_baseline_2017\u001b[0m\u001b[1;33m(\u001b[0m\u001b[1;33m)\u001b[0m\u001b[1;33m\u001b[0m\u001b[1;33m\u001b[0m\u001b[0m\n\u001b[0;32m      2\u001b[0m hist2 = model_2017.fit(\n\u001b[1;32m----> 3\u001b[1;33m     \u001b[0mpp_X_train\u001b[0m\u001b[1;33m,\u001b[0m \u001b[0my_train_\u001b[0m\u001b[1;33m,\u001b[0m \u001b[0mbatch_size\u001b[0m\u001b[1;33m=\u001b[0m\u001b[1;36m64\u001b[0m\u001b[1;33m,\u001b[0m \u001b[0mepochs\u001b[0m\u001b[1;33m=\u001b[0m\u001b[1;36m30\u001b[0m\u001b[1;33m,\u001b[0m \u001b[0mvalidation_data\u001b[0m\u001b[1;33m=\u001b[0m\u001b[1;33m(\u001b[0m\u001b[0mpp_X_val\u001b[0m\u001b[1;33m,\u001b[0m \u001b[0my_val_\u001b[0m\u001b[1;33m)\u001b[0m\u001b[1;33m,\u001b[0m \u001b[0mcallbacks\u001b[0m\u001b[1;33m=\u001b[0m\u001b[0mcallbacks_list\u001b[0m\u001b[1;33m\u001b[0m\u001b[1;33m\u001b[0m\u001b[0m\n\u001b[0m\u001b[0;32m      4\u001b[0m )\n",
      "\u001b[1;32mD:\\anaconda\\lib\\site-packages\\tensorflow_core\\python\\keras\\engine\\training.py\u001b[0m in \u001b[0;36mfit\u001b[1;34m(self, x, y, batch_size, epochs, verbose, callbacks, validation_split, validation_data, shuffle, class_weight, sample_weight, initial_epoch, steps_per_epoch, validation_steps, validation_freq, max_queue_size, workers, use_multiprocessing, **kwargs)\u001b[0m\n\u001b[0;32m    817\u001b[0m         \u001b[0mmax_queue_size\u001b[0m\u001b[1;33m=\u001b[0m\u001b[0mmax_queue_size\u001b[0m\u001b[1;33m,\u001b[0m\u001b[1;33m\u001b[0m\u001b[1;33m\u001b[0m\u001b[0m\n\u001b[0;32m    818\u001b[0m         \u001b[0mworkers\u001b[0m\u001b[1;33m=\u001b[0m\u001b[0mworkers\u001b[0m\u001b[1;33m,\u001b[0m\u001b[1;33m\u001b[0m\u001b[1;33m\u001b[0m\u001b[0m\n\u001b[1;32m--> 819\u001b[1;33m         use_multiprocessing=use_multiprocessing)\n\u001b[0m\u001b[0;32m    820\u001b[0m \u001b[1;33m\u001b[0m\u001b[0m\n\u001b[0;32m    821\u001b[0m   def evaluate(self,\n",
      "\u001b[1;32mD:\\anaconda\\lib\\site-packages\\tensorflow_core\\python\\keras\\engine\\training_v2.py\u001b[0m in \u001b[0;36mfit\u001b[1;34m(self, model, x, y, batch_size, epochs, verbose, callbacks, validation_split, validation_data, shuffle, class_weight, sample_weight, initial_epoch, steps_per_epoch, validation_steps, validation_freq, max_queue_size, workers, use_multiprocessing, **kwargs)\u001b[0m\n\u001b[0;32m    395\u001b[0m                       total_epochs=1)\n\u001b[0;32m    396\u001b[0m                   cbks.make_logs(model, epoch_logs, eval_result, ModeKeys.TEST,\n\u001b[1;32m--> 397\u001b[1;33m                                  prefix='val_')\n\u001b[0m\u001b[0;32m    398\u001b[0m \u001b[1;33m\u001b[0m\u001b[0m\n\u001b[0;32m    399\u001b[0m     \u001b[1;32mreturn\u001b[0m \u001b[0mmodel\u001b[0m\u001b[1;33m.\u001b[0m\u001b[0mhistory\u001b[0m\u001b[1;33m\u001b[0m\u001b[1;33m\u001b[0m\u001b[0m\n",
      "\u001b[1;32mD:\\anaconda\\lib\\contextlib.py\u001b[0m in \u001b[0;36m__exit__\u001b[1;34m(self, type, value, traceback)\u001b[0m\n\u001b[0;32m    117\u001b[0m         \u001b[1;32mif\u001b[0m \u001b[0mtype\u001b[0m \u001b[1;32mis\u001b[0m \u001b[1;32mNone\u001b[0m\u001b[1;33m:\u001b[0m\u001b[1;33m\u001b[0m\u001b[1;33m\u001b[0m\u001b[0m\n\u001b[0;32m    118\u001b[0m             \u001b[1;32mtry\u001b[0m\u001b[1;33m:\u001b[0m\u001b[1;33m\u001b[0m\u001b[1;33m\u001b[0m\u001b[0m\n\u001b[1;32m--> 119\u001b[1;33m                 \u001b[0mnext\u001b[0m\u001b[1;33m(\u001b[0m\u001b[0mself\u001b[0m\u001b[1;33m.\u001b[0m\u001b[0mgen\u001b[0m\u001b[1;33m)\u001b[0m\u001b[1;33m\u001b[0m\u001b[1;33m\u001b[0m\u001b[0m\n\u001b[0m\u001b[0;32m    120\u001b[0m             \u001b[1;32mexcept\u001b[0m \u001b[0mStopIteration\u001b[0m\u001b[1;33m:\u001b[0m\u001b[1;33m\u001b[0m\u001b[1;33m\u001b[0m\u001b[0m\n\u001b[0;32m    121\u001b[0m                 \u001b[1;32mreturn\u001b[0m \u001b[1;32mFalse\u001b[0m\u001b[1;33m\u001b[0m\u001b[1;33m\u001b[0m\u001b[0m\n",
      "\u001b[1;32mD:\\anaconda\\lib\\site-packages\\tensorflow_core\\python\\keras\\engine\\training_v2.py\u001b[0m in \u001b[0;36mon_epoch\u001b[1;34m(self, epoch, mode)\u001b[0m\n\u001b[0;32m    769\u001b[0m       \u001b[1;32mif\u001b[0m \u001b[0mmode\u001b[0m \u001b[1;33m==\u001b[0m \u001b[0mModeKeys\u001b[0m\u001b[1;33m.\u001b[0m\u001b[0mTRAIN\u001b[0m\u001b[1;33m:\u001b[0m\u001b[1;33m\u001b[0m\u001b[1;33m\u001b[0m\u001b[0m\n\u001b[0;32m    770\u001b[0m         \u001b[1;31m# Epochs only apply to `fit`.\u001b[0m\u001b[1;33m\u001b[0m\u001b[1;33m\u001b[0m\u001b[1;33m\u001b[0m\u001b[0m\n\u001b[1;32m--> 771\u001b[1;33m         \u001b[0mself\u001b[0m\u001b[1;33m.\u001b[0m\u001b[0mcallbacks\u001b[0m\u001b[1;33m.\u001b[0m\u001b[0mon_epoch_end\u001b[0m\u001b[1;33m(\u001b[0m\u001b[0mepoch\u001b[0m\u001b[1;33m,\u001b[0m \u001b[0mepoch_logs\u001b[0m\u001b[1;33m)\u001b[0m\u001b[1;33m\u001b[0m\u001b[1;33m\u001b[0m\u001b[0m\n\u001b[0m\u001b[0;32m    772\u001b[0m       \u001b[0mself\u001b[0m\u001b[1;33m.\u001b[0m\u001b[0mprogbar\u001b[0m\u001b[1;33m.\u001b[0m\u001b[0mon_epoch_end\u001b[0m\u001b[1;33m(\u001b[0m\u001b[0mepoch\u001b[0m\u001b[1;33m,\u001b[0m \u001b[0mepoch_logs\u001b[0m\u001b[1;33m)\u001b[0m\u001b[1;33m\u001b[0m\u001b[1;33m\u001b[0m\u001b[0m\n\u001b[0;32m    773\u001b[0m \u001b[1;33m\u001b[0m\u001b[0m\n",
      "\u001b[1;32mD:\\anaconda\\lib\\site-packages\\tensorflow_core\\python\\keras\\callbacks.py\u001b[0m in \u001b[0;36mon_epoch_end\u001b[1;34m(self, epoch, logs)\u001b[0m\n\u001b[0;32m    300\u001b[0m     \u001b[0mlogs\u001b[0m \u001b[1;33m=\u001b[0m \u001b[0mlogs\u001b[0m \u001b[1;32mor\u001b[0m \u001b[1;33m{\u001b[0m\u001b[1;33m}\u001b[0m\u001b[1;33m\u001b[0m\u001b[1;33m\u001b[0m\u001b[0m\n\u001b[0;32m    301\u001b[0m     \u001b[1;32mfor\u001b[0m \u001b[0mcallback\u001b[0m \u001b[1;32min\u001b[0m \u001b[0mself\u001b[0m\u001b[1;33m.\u001b[0m\u001b[0mcallbacks\u001b[0m\u001b[1;33m:\u001b[0m\u001b[1;33m\u001b[0m\u001b[1;33m\u001b[0m\u001b[0m\n\u001b[1;32m--> 302\u001b[1;33m       \u001b[0mcallback\u001b[0m\u001b[1;33m.\u001b[0m\u001b[0mon_epoch_end\u001b[0m\u001b[1;33m(\u001b[0m\u001b[0mepoch\u001b[0m\u001b[1;33m,\u001b[0m \u001b[0mlogs\u001b[0m\u001b[1;33m)\u001b[0m\u001b[1;33m\u001b[0m\u001b[1;33m\u001b[0m\u001b[0m\n\u001b[0m\u001b[0;32m    303\u001b[0m \u001b[1;33m\u001b[0m\u001b[0m\n\u001b[0;32m    304\u001b[0m   \u001b[1;32mdef\u001b[0m \u001b[0mon_train_batch_begin\u001b[0m\u001b[1;33m(\u001b[0m\u001b[0mself\u001b[0m\u001b[1;33m,\u001b[0m \u001b[0mbatch\u001b[0m\u001b[1;33m,\u001b[0m \u001b[0mlogs\u001b[0m\u001b[1;33m=\u001b[0m\u001b[1;32mNone\u001b[0m\u001b[1;33m)\u001b[0m\u001b[1;33m:\u001b[0m\u001b[1;33m\u001b[0m\u001b[1;33m\u001b[0m\u001b[0m\n",
      "\u001b[1;32mD:\\anaconda\\lib\\site-packages\\tensorflow_core\\python\\keras\\callbacks.py\u001b[0m in \u001b[0;36mon_epoch_end\u001b[1;34m(self, epoch, logs)\u001b[0m\n\u001b[0;32m    990\u001b[0m           \u001b[0mself\u001b[0m\u001b[1;33m.\u001b[0m\u001b[0m_save_model\u001b[0m\u001b[1;33m(\u001b[0m\u001b[0mepoch\u001b[0m\u001b[1;33m=\u001b[0m\u001b[0mepoch\u001b[0m\u001b[1;33m,\u001b[0m \u001b[0mlogs\u001b[0m\u001b[1;33m=\u001b[0m\u001b[0mlogs\u001b[0m\u001b[1;33m)\u001b[0m\u001b[1;33m\u001b[0m\u001b[1;33m\u001b[0m\u001b[0m\n\u001b[0;32m    991\u001b[0m       \u001b[1;32melse\u001b[0m\u001b[1;33m:\u001b[0m\u001b[1;33m\u001b[0m\u001b[1;33m\u001b[0m\u001b[0m\n\u001b[1;32m--> 992\u001b[1;33m         \u001b[0mself\u001b[0m\u001b[1;33m.\u001b[0m\u001b[0m_save_model\u001b[0m\u001b[1;33m(\u001b[0m\u001b[0mepoch\u001b[0m\u001b[1;33m=\u001b[0m\u001b[0mepoch\u001b[0m\u001b[1;33m,\u001b[0m \u001b[0mlogs\u001b[0m\u001b[1;33m=\u001b[0m\u001b[0mlogs\u001b[0m\u001b[1;33m)\u001b[0m\u001b[1;33m\u001b[0m\u001b[1;33m\u001b[0m\u001b[0m\n\u001b[0m\u001b[0;32m    993\u001b[0m     \u001b[1;32mif\u001b[0m \u001b[0mself\u001b[0m\u001b[1;33m.\u001b[0m\u001b[0mmodel\u001b[0m\u001b[1;33m.\u001b[0m\u001b[0m_in_multi_worker_mode\u001b[0m\u001b[1;33m(\u001b[0m\u001b[1;33m)\u001b[0m\u001b[1;33m:\u001b[0m\u001b[1;33m\u001b[0m\u001b[1;33m\u001b[0m\u001b[0m\n\u001b[0;32m    994\u001b[0m       \u001b[1;31m# For multi-worker training, back up the weights and current training\u001b[0m\u001b[1;33m\u001b[0m\u001b[1;33m\u001b[0m\u001b[1;33m\u001b[0m\u001b[0m\n",
      "\u001b[1;32mD:\\anaconda\\lib\\site-packages\\tensorflow_core\\python\\keras\\callbacks.py\u001b[0m in \u001b[0;36m_save_model\u001b[1;34m(self, epoch, logs)\u001b[0m\n\u001b[0;32m   1027\u001b[0m                 \u001b[0mself\u001b[0m\u001b[1;33m.\u001b[0m\u001b[0mmodel\u001b[0m\u001b[1;33m.\u001b[0m\u001b[0msave_weights\u001b[0m\u001b[1;33m(\u001b[0m\u001b[0mfilepath\u001b[0m\u001b[1;33m,\u001b[0m \u001b[0moverwrite\u001b[0m\u001b[1;33m=\u001b[0m\u001b[1;32mTrue\u001b[0m\u001b[1;33m)\u001b[0m\u001b[1;33m\u001b[0m\u001b[1;33m\u001b[0m\u001b[0m\n\u001b[0;32m   1028\u001b[0m               \u001b[1;32melse\u001b[0m\u001b[1;33m:\u001b[0m\u001b[1;33m\u001b[0m\u001b[1;33m\u001b[0m\u001b[0m\n\u001b[1;32m-> 1029\u001b[1;33m                 \u001b[0mself\u001b[0m\u001b[1;33m.\u001b[0m\u001b[0mmodel\u001b[0m\u001b[1;33m.\u001b[0m\u001b[0msave\u001b[0m\u001b[1;33m(\u001b[0m\u001b[0mfilepath\u001b[0m\u001b[1;33m,\u001b[0m \u001b[0moverwrite\u001b[0m\u001b[1;33m=\u001b[0m\u001b[1;32mTrue\u001b[0m\u001b[1;33m)\u001b[0m\u001b[1;33m\u001b[0m\u001b[1;33m\u001b[0m\u001b[0m\n\u001b[0m\u001b[0;32m   1030\u001b[0m             \u001b[1;32melse\u001b[0m\u001b[1;33m:\u001b[0m\u001b[1;33m\u001b[0m\u001b[1;33m\u001b[0m\u001b[0m\n\u001b[0;32m   1031\u001b[0m               \u001b[1;32mif\u001b[0m \u001b[0mself\u001b[0m\u001b[1;33m.\u001b[0m\u001b[0mverbose\u001b[0m \u001b[1;33m>\u001b[0m \u001b[1;36m0\u001b[0m\u001b[1;33m:\u001b[0m\u001b[1;33m\u001b[0m\u001b[1;33m\u001b[0m\u001b[0m\n",
      "\u001b[1;32mD:\\anaconda\\lib\\site-packages\\tensorflow_core\\python\\keras\\engine\\network.py\u001b[0m in \u001b[0;36msave\u001b[1;34m(self, filepath, overwrite, include_optimizer, save_format, signatures, options)\u001b[0m\n\u001b[0;32m   1006\u001b[0m     \"\"\"\n\u001b[0;32m   1007\u001b[0m     save.save_model(self, filepath, overwrite, include_optimizer, save_format,\n\u001b[1;32m-> 1008\u001b[1;33m                     signatures, options)\n\u001b[0m\u001b[0;32m   1009\u001b[0m \u001b[1;33m\u001b[0m\u001b[0m\n\u001b[0;32m   1010\u001b[0m   \u001b[1;32mdef\u001b[0m \u001b[0msave_weights\u001b[0m\u001b[1;33m(\u001b[0m\u001b[0mself\u001b[0m\u001b[1;33m,\u001b[0m \u001b[0mfilepath\u001b[0m\u001b[1;33m,\u001b[0m \u001b[0moverwrite\u001b[0m\u001b[1;33m=\u001b[0m\u001b[1;32mTrue\u001b[0m\u001b[1;33m,\u001b[0m \u001b[0msave_format\u001b[0m\u001b[1;33m=\u001b[0m\u001b[1;32mNone\u001b[0m\u001b[1;33m)\u001b[0m\u001b[1;33m:\u001b[0m\u001b[1;33m\u001b[0m\u001b[1;33m\u001b[0m\u001b[0m\n",
      "\u001b[1;32mD:\\anaconda\\lib\\site-packages\\tensorflow_core\\python\\keras\\saving\\save.py\u001b[0m in \u001b[0;36msave_model\u001b[1;34m(model, filepath, overwrite, include_optimizer, save_format, signatures, options)\u001b[0m\n\u001b[0;32m    113\u001b[0m   \u001b[1;32melse\u001b[0m\u001b[1;33m:\u001b[0m\u001b[1;33m\u001b[0m\u001b[1;33m\u001b[0m\u001b[0m\n\u001b[0;32m    114\u001b[0m     saved_model_save.save(model, filepath, overwrite, include_optimizer,\n\u001b[1;32m--> 115\u001b[1;33m                           signatures, options)\n\u001b[0m\u001b[0;32m    116\u001b[0m \u001b[1;33m\u001b[0m\u001b[0m\n\u001b[0;32m    117\u001b[0m \u001b[1;33m\u001b[0m\u001b[0m\n",
      "\u001b[1;32mD:\\anaconda\\lib\\site-packages\\tensorflow_core\\python\\keras\\saving\\saved_model\\save.py\u001b[0m in \u001b[0;36msave\u001b[1;34m(model, filepath, overwrite, include_optimizer, signatures, options)\u001b[0m\n\u001b[0;32m     76\u001b[0m     \u001b[1;31m# we use the default replica context here.\u001b[0m\u001b[1;33m\u001b[0m\u001b[1;33m\u001b[0m\u001b[1;33m\u001b[0m\u001b[0m\n\u001b[0;32m     77\u001b[0m     \u001b[1;32mwith\u001b[0m \u001b[0mdistribution_strategy_context\u001b[0m\u001b[1;33m.\u001b[0m\u001b[0m_get_default_replica_context\u001b[0m\u001b[1;33m(\u001b[0m\u001b[1;33m)\u001b[0m\u001b[1;33m:\u001b[0m  \u001b[1;31m# pylint: disable=protected-access\u001b[0m\u001b[1;33m\u001b[0m\u001b[1;33m\u001b[0m\u001b[0m\n\u001b[1;32m---> 78\u001b[1;33m       \u001b[0msave_lib\u001b[0m\u001b[1;33m.\u001b[0m\u001b[0msave\u001b[0m\u001b[1;33m(\u001b[0m\u001b[0mmodel\u001b[0m\u001b[1;33m,\u001b[0m \u001b[0mfilepath\u001b[0m\u001b[1;33m,\u001b[0m \u001b[0msignatures\u001b[0m\u001b[1;33m,\u001b[0m \u001b[0moptions\u001b[0m\u001b[1;33m)\u001b[0m\u001b[1;33m\u001b[0m\u001b[1;33m\u001b[0m\u001b[0m\n\u001b[0m\u001b[0;32m     79\u001b[0m \u001b[1;33m\u001b[0m\u001b[0m\n\u001b[0;32m     80\u001b[0m   \u001b[1;32mif\u001b[0m \u001b[1;32mnot\u001b[0m \u001b[0minclude_optimizer\u001b[0m\u001b[1;33m:\u001b[0m\u001b[1;33m\u001b[0m\u001b[1;33m\u001b[0m\u001b[0m\n",
      "\u001b[1;32mD:\\anaconda\\lib\\site-packages\\tensorflow_core\\python\\saved_model\\save.py\u001b[0m in \u001b[0;36msave\u001b[1;34m(obj, export_dir, signatures, options)\u001b[0m\n\u001b[0;32m    907\u001b[0m   \u001b[0mobject_saver\u001b[0m \u001b[1;33m=\u001b[0m \u001b[0mutil\u001b[0m\u001b[1;33m.\u001b[0m\u001b[0mTrackableSaver\u001b[0m\u001b[1;33m(\u001b[0m\u001b[0mcheckpoint_graph_view\u001b[0m\u001b[1;33m)\u001b[0m\u001b[1;33m\u001b[0m\u001b[1;33m\u001b[0m\u001b[0m\n\u001b[0;32m    908\u001b[0m   asset_info, exported_graph = _fill_meta_graph_def(\n\u001b[1;32m--> 909\u001b[1;33m       meta_graph_def, saveable_view, signatures, options.namespace_whitelist)\n\u001b[0m\u001b[0;32m    910\u001b[0m   saved_model.saved_model_schema_version = (\n\u001b[0;32m    911\u001b[0m       constants.SAVED_MODEL_SCHEMA_VERSION)\n",
      "\u001b[1;32mD:\\anaconda\\lib\\site-packages\\tensorflow_core\\python\\saved_model\\save.py\u001b[0m in \u001b[0;36m_fill_meta_graph_def\u001b[1;34m(meta_graph_def, saveable_view, signature_functions, namespace_whitelist)\u001b[0m\n\u001b[0;32m    551\u001b[0m   \u001b[0mresource_initializer_ops\u001b[0m \u001b[1;33m=\u001b[0m \u001b[1;33m[\u001b[0m\u001b[1;33m]\u001b[0m\u001b[1;33m\u001b[0m\u001b[1;33m\u001b[0m\u001b[0m\n\u001b[0;32m    552\u001b[0m   \u001b[1;32mwith\u001b[0m \u001b[0mexported_graph\u001b[0m\u001b[1;33m.\u001b[0m\u001b[0mas_default\u001b[0m\u001b[1;33m(\u001b[0m\u001b[1;33m)\u001b[0m\u001b[1;33m:\u001b[0m\u001b[1;33m\u001b[0m\u001b[1;33m\u001b[0m\u001b[0m\n\u001b[1;32m--> 553\u001b[1;33m     \u001b[0mobject_map\u001b[0m\u001b[1;33m,\u001b[0m \u001b[0mresource_map\u001b[0m\u001b[1;33m,\u001b[0m \u001b[0masset_info\u001b[0m \u001b[1;33m=\u001b[0m \u001b[0msaveable_view\u001b[0m\u001b[1;33m.\u001b[0m\u001b[0mmap_resources\u001b[0m\u001b[1;33m(\u001b[0m\u001b[1;33m)\u001b[0m\u001b[1;33m\u001b[0m\u001b[1;33m\u001b[0m\u001b[0m\n\u001b[0m\u001b[0;32m    554\u001b[0m     \u001b[1;32mfor\u001b[0m \u001b[0mresource_initializer_function\u001b[0m \u001b[1;32min\u001b[0m \u001b[0mresource_initializer_functions\u001b[0m\u001b[1;33m:\u001b[0m\u001b[1;33m\u001b[0m\u001b[1;33m\u001b[0m\u001b[0m\n\u001b[0;32m    555\u001b[0m       \u001b[0masset_dependencies\u001b[0m \u001b[1;33m=\u001b[0m \u001b[1;33m[\u001b[0m\u001b[1;33m]\u001b[0m\u001b[1;33m\u001b[0m\u001b[1;33m\u001b[0m\u001b[0m\n",
      "\u001b[1;32mD:\\anaconda\\lib\\site-packages\\tensorflow_core\\python\\saved_model\\save.py\u001b[0m in \u001b[0;36mmap_resources\u001b[1;34m(self)\u001b[0m\n\u001b[0;32m    283\u001b[0m                 (\"Attempted to save a function {} which references a symbolic \"\n\u001b[0;32m    284\u001b[0m                  \u001b[1;34m\"Tensor {} that is not a simple constant. This is not \"\u001b[0m\u001b[1;33m\u001b[0m\u001b[1;33m\u001b[0m\u001b[0m\n\u001b[1;32m--> 285\u001b[1;33m                  \"supported.\").format(concrete_function.name, capture))\n\u001b[0m\u001b[0;32m    286\u001b[0m           \u001b[0mcopied_tensor\u001b[0m \u001b[1;33m=\u001b[0m \u001b[0mconstant_op\u001b[0m\u001b[1;33m.\u001b[0m\u001b[0mconstant\u001b[0m\u001b[1;33m(\u001b[0m\u001b[0mcapture_constant_value\u001b[0m\u001b[1;33m)\u001b[0m\u001b[1;33m\u001b[0m\u001b[1;33m\u001b[0m\u001b[0m\n\u001b[0;32m    287\u001b[0m           \u001b[0mnode_id\u001b[0m \u001b[1;33m=\u001b[0m \u001b[0mlen\u001b[0m\u001b[1;33m(\u001b[0m\u001b[0mself\u001b[0m\u001b[1;33m.\u001b[0m\u001b[0mnodes\u001b[0m\u001b[1;33m)\u001b[0m\u001b[1;33m\u001b[0m\u001b[1;33m\u001b[0m\u001b[0m\n",
      "\u001b[1;31mValueError\u001b[0m: Attempted to save a function b'__inference_forward_bLstm1_layer_call_fn_85211' which references a symbolic Tensor Tensor(\"dropout/mul_1:0\", shape=(None, 2816), dtype=float32) that is not a simple constant. This is not supported."
     ]
    }
   ],
   "source": [
    "model_2017 = model_baseline_2017()\n",
    "hist2 = model_2017.fit(\n",
    "    pp_X_train, y_train_, batch_size=64, epochs=30, validation_data=(pp_X_val, y_val_), callbacks=callbacks_list\n",
    ")"
   ]
  },
  {
   "cell_type": "code",
   "execution_count": 181,
   "metadata": {},
   "outputs": [
    {
     "name": "stdout",
     "output_type": "stream",
     "text": [
      ">>> f1 score: 0.06956521739130435\n",
      "              precision    recall  f1-score   support\n",
      "\n",
      "           0       0.21      1.00      0.35        16\n",
      "           1       0.00      0.00      0.00         5\n",
      "           2       0.00      0.00      0.00        23\n",
      "           3       0.00      0.00      0.00        20\n",
      "           4       0.00      0.00      0.00        12\n",
      "\n",
      "    accuracy                           0.21        76\n",
      "   macro avg       0.04      0.20      0.07        76\n",
      "weighted avg       0.04      0.21      0.07        76\n",
      "\n"
     ]
    }
   ],
   "source": [
    "y_pred = model_2017.predict(pp_X_test, batch_size=bs)\n",
    "y_pred = np.array([np.argmax(s) for s in y_pred])\n",
    "f1 = f1_score(y_test, y_pred, average=\"macro\")\n",
    "print(\">>> f1 score: {}\".format(f1))\n",
    "report = classification_report(y_test, y_pred)\n",
    "print(report)"
   ]
  },
  {
   "cell_type": "code",
   "execution_count": 182,
   "metadata": {},
   "outputs": [
    {
     "data": {
      "text/plain": [
       "0.21052631578947367"
      ]
     },
     "execution_count": 182,
     "metadata": {},
     "output_type": "execute_result"
    }
   ],
   "source": [
    "accuracy_score(y_test, y_pred)"
   ]
  },
  {
   "cell_type": "code",
   "execution_count": 62,
   "metadata": {},
   "outputs": [
    {
     "data": {
      "text/plain": [
       "[<matplotlib.lines.Line2D at 0x2948067aec8>]"
      ]
     },
     "execution_count": 62,
     "metadata": {},
     "output_type": "execute_result"
    },
    {
     "data": {
      "image/png": "[encoded data removed]",
      "text/plain": [
       "<Figure size 432x288 with 1 Axes>"
      ]
     },
     "metadata": {
      "needs_background": "light"
     },
     "output_type": "display_data"
    }
   ],
   "source": [
    "plt.plot(hist2.history[\"loss\"])\n",
    "plt.plot(hist2.history[\"val_loss\"])"
   ]
  },
  {
   "cell_type": "code",
   "execution_count": 63,
   "metadata": {},
   "outputs": [
    {
     "data": {
      "text/plain": [
       "[<matplotlib.lines.Line2D at 0x294806e6288>]"
      ]
     },
     "execution_count": 63,
     "metadata": {},
     "output_type": "execute_result"
    },
    {
     "data": {
      "image/png": "[encoded data removed]",
      "text/plain": [
       "<Figure size 432x288 with 1 Axes>"
      ]
     },
     "metadata": {
      "needs_background": "light"
     },
     "output_type": "display_data"
    }
   ],
   "source": [
    "plt.plot(hist2.history[\"acc\"])\n",
    "plt.plot(hist2.history[\"val_acc\"])"
   ]
  },
  {
   "cell_type": "code",
   "execution_count": 64,
   "metadata": {},
   "outputs": [],
   "source": [
    "# bs = 128\n",
    "# epochs = 5\n",
    "# hists = []\n",
    "\n",
    "# for i in range(epochs):\n",
    "#     print(\">>> Epochs {}\".format(i + 1))\n",
    "#     hist = model_2017.fit_generator(\n",
    "#         data_generator(X_train, y_train_, bs=bs),\n",
    "#         validation_data=data_generator(X_val, y_val_, bs=bs),\n",
    "#         epochs=1,\n",
    "#         steps_per_epoch=len(X_train) // bs,\n",
    "#         validation_steps=len(X_val) // bs,\n",
    "#         callbacks=callbacks_list\n",
    "#     )\n",
    "#     y_pred = model_2017.predict(X_test, batch_size=bs)\n",
    "#     y_pred = np.array([np.argmax(s) for s in y_pred])\n",
    "# #     f1 = f1_score(y_test, y_pred, average=\"macro\")\n",
    "# #     print(\">>> f1 score: {}\".format(f1))\n",
    "#     report = classification_report(y_test, y_pred)\n",
    "#     print(report)\n",
    "#     hists.append(hist.history)"
   ]
  },
  {
   "cell_type": "code",
   "execution_count": 41,
   "metadata": {},
   "outputs": [],
   "source": [
    "model_2017.save_weights(\"pp_model_2017.h5\")"
   ]
  },
  {
   "cell_type": "code",
   "execution_count": 42,
   "metadata": {},
   "outputs": [],
   "source": [
    "model_json = model_2017.to_json()\n",
    "with open(\"eeg_model_2017_config.json\", \"w\") as f:\n",
    "    f.write(model_json)"
   ]
  },
  {
   "cell_type": "code",
   "execution_count": 43,
   "metadata": {},
   "outputs": [
    {
     "name": "stderr",
     "output_type": "stream",
     "text": [
      "'ls' is not recognized as an internal or external command,\n",
      "operable program or batch file.\n"
     ]
    }
   ],
   "source": [
    "!ls log_training.csv"
   ]
  },
  {
   "cell_type": "code",
   "execution_count": 45,
   "metadata": {},
   "outputs": [
    {
     "data": {
      "text/html": [
       "<div>\n",
       "<style scoped>\n",
       "    .dataframe tbody tr th:only-of-type {\n",
       "        vertical-align: middle;\n",
       "    }\n",
       "\n",
       "    .dataframe tbody tr th {\n",
       "        vertical-align: top;\n",
       "    }\n",
       "\n",
       "    .dataframe thead th {\n",
       "        text-align: right;\n",
       "    }\n",
       "</style>\n",
       "<table border=\"1\" class=\"dataframe\">\n",
       "  <thead>\n",
       "    <tr style=\"text-align: right;\">\n",
       "      <th></th>\n",
       "      <th>class_name</th>\n",
       "      <th>config</th>\n",
       "      <th>keras_version</th>\n",
       "      <th>backend</th>\n",
       "    </tr>\n",
       "  </thead>\n",
       "  <tbody>\n",
       "    <tr>\n",
       "      <th>input_layers</th>\n",
       "      <td>Model</td>\n",
       "      <td>[[inLayer, 0, 0]]</td>\n",
       "      <td>2.2.4-tf</td>\n",
       "      <td>tensorflow</td>\n",
       "    </tr>\n",
       "    <tr>\n",
       "      <th>layers</th>\n",
       "      <td>Model</td>\n",
       "      <td>[{'class_name': 'InputLayer', 'config': {'batc...</td>\n",
       "      <td>2.2.4-tf</td>\n",
       "      <td>tensorflow</td>\n",
       "    </tr>\n",
       "    <tr>\n",
       "      <th>name</th>\n",
       "      <td>Model</td>\n",
       "      <td>model_2</td>\n",
       "      <td>2.2.4-tf</td>\n",
       "      <td>tensorflow</td>\n",
       "    </tr>\n",
       "    <tr>\n",
       "      <th>output_layers</th>\n",
       "      <td>Model</td>\n",
       "      <td>[[outLayer, 0, 0]]</td>\n",
       "      <td>2.2.4-tf</td>\n",
       "      <td>tensorflow</td>\n",
       "    </tr>\n",
       "  </tbody>\n",
       "</table>\n",
       "</div>"
      ],
      "text/plain": [
       "              class_name                                             config  \\\n",
       "input_layers       Model                                  [[inLayer, 0, 0]]   \n",
       "layers             Model  [{'class_name': 'InputLayer', 'config': {'batc...   \n",
       "name               Model                                            model_2   \n",
       "output_layers      Model                                 [[outLayer, 0, 0]]   \n",
       "\n",
       "              keras_version     backend  \n",
       "input_layers       2.2.4-tf  tensorflow  \n",
       "layers             2.2.4-tf  tensorflow  \n",
       "name               2.2.4-tf  tensorflow  \n",
       "output_layers      2.2.4-tf  tensorflow  "
      ]
     },
     "execution_count": 45,
     "metadata": {},
     "output_type": "execute_result"
    }
   ],
   "source": [
    "import pandas as pd\n",
    "file = pd.read_json('eeg_model_2017_config.json')\n",
    "file"
   ]
  },
  {
   "cell_type": "markdown",
   "metadata": {},
   "source": [
    "# Machine Learning"
   ]
  },
  {
   "cell_type": "code",
   "execution_count": 85,
   "metadata": {},
   "outputs": [],
   "source": [
    "from sklearn.neighbors import KNeighborsClassifier\n",
    "from sklearn.model_selection import train_test_split"
   ]
  },
  {
   "cell_type": "code",
   "execution_count": 143,
   "metadata": {},
   "outputs": [],
   "source": [
    "X_train, X_test, y_train, y_test = train_test_split(X,Y,test_size=0.09,random_state= 10)"
   ]
  },
  {
   "cell_type": "code",
   "execution_count": 144,
   "metadata": {},
   "outputs": [],
   "source": [
    "knn = KNeighborsClassifier(n_neighbors = 1)"
   ]
  },
  {
   "cell_type": "code",
   "execution_count": 145,
   "metadata": {},
   "outputs": [
    {
     "data": {
      "text/plain": [
       "KNeighborsClassifier(algorithm='auto', leaf_size=30, metric='minkowski',\n",
       "                     metric_params=None, n_jobs=None, n_neighbors=1, p=2,\n",
       "                     weights='uniform')"
      ]
     },
     "execution_count": 145,
     "metadata": {},
     "output_type": "execute_result"
    }
   ],
   "source": [
    "knn.fit(X_train,y_train)"
   ]
  },
  {
   "cell_type": "code",
   "execution_count": 154,
   "metadata": {},
   "outputs": [
    {
     "data": {
      "text/plain": [
       "(765, 3000)"
      ]
     },
     "execution_count": 154,
     "metadata": {},
     "output_type": "execute_result"
    }
   ],
   "source": [
    "X_train.shape"
   ]
  },
  {
   "cell_type": "code",
   "execution_count": 146,
   "metadata": {},
   "outputs": [
    {
     "name": "stdout",
     "output_type": "stream",
     "text": [
      "With KNN (K=3) accuracy is:  0.15789473684210525\n"
     ]
    }
   ],
   "source": [
    "prediction = knn.predict(X_test)\n",
    "print('With KNN (K=3) accuracy is: ',knn.score(X_test,y_test))"
   ]
  },
  {
   "cell_type": "code",
   "execution_count": 155,
   "metadata": {},
   "outputs": [],
   "source": [
    "pp_X_train = pp_X_train.reshape(680,3000)"
   ]
  },
  {
   "cell_type": "code",
   "execution_count": 156,
   "metadata": {},
   "outputs": [
    {
     "data": {
      "text/plain": [
       "KNeighborsClassifier(algorithm='auto', leaf_size=30, metric='minkowski',\n",
       "                     metric_params=None, n_jobs=None, n_neighbors=1, p=2,\n",
       "                     weights='uniform')"
      ]
     },
     "execution_count": 156,
     "metadata": {},
     "output_type": "execute_result"
    }
   ],
   "source": [
    "knn.fit(pp_X_train, y_train_)"
   ]
  },
  {
   "cell_type": "code",
   "execution_count": 160,
   "metadata": {},
   "outputs": [],
   "source": [
    "pp_X_test = pp_X_test.reshape(85,3000)"
   ]
  },
  {
   "cell_type": "code",
   "execution_count": 161,
   "metadata": {},
   "outputs": [
    {
     "data": {
      "text/plain": [
       "(85, 3000)"
      ]
     },
     "execution_count": 161,
     "metadata": {},
     "output_type": "execute_result"
    }
   ],
   "source": [
    "pp_X_test.shape"
   ]
  },
  {
   "cell_type": "code",
   "execution_count": 162,
   "metadata": {},
   "outputs": [
    {
     "name": "stdout",
     "output_type": "stream",
     "text": [
      "With KNN (K=3) accuracy is:  0.07058823529411765\n"
     ]
    }
   ],
   "source": [
    "prediction = knn.predict(pp_X_test)\n",
    "print('With KNN (K=3) accuracy is: ',knn.score(pp_X_test,y_test_))"
   ]
  },
  {
   "cell_type": "code",
   "execution_count": 191,
   "metadata": {},
   "outputs": [],
   "source": [
    "from sklearn.naive_bayes import GaussianNB\n",
    "from sklearn.model_selection import train_test_split"
   ]
  },
  {
   "cell_type": "code",
   "execution_count": 203,
   "metadata": {},
   "outputs": [
    {
     "name": "stdout",
     "output_type": "stream",
     "text": [
      "With NB accuracy is:  0.5394736842105263\n"
     ]
    }
   ],
   "source": [
    "nb = GaussianNB()\n",
    "nb.fit(X_train,y_train)\n",
    "prediction = nb.predict(X_test)\n",
    "\n",
    "print('With NB accuracy is: ',nb.score(X_test,y_test)) # accuracy"
   ]
  },
  {
   "cell_type": "code",
   "execution_count": 204,
   "metadata": {},
   "outputs": [
    {
     "name": "stdout",
     "output_type": "stream",
     "text": [
      "With decision tree accuracy is:  0.27631578947368424\n"
     ]
    }
   ],
   "source": [
    "from sklearn.tree import DecisionTreeClassifier\n",
    "\n",
    "dtree = DecisionTreeClassifier()\n",
    "dtree.fit(X_train,y_train)\n",
    "prediction = dtree.predict(X_test)\n",
    "\n",
    "print('With decision tree accuracy is: ',dtree.score(X_test,y_test)) # accuracy"
   ]
  },
  {
   "cell_type": "code",
   "execution_count": 205,
   "metadata": {},
   "outputs": [
    {
     "name": "stdout",
     "output_type": "stream",
     "text": [
      "With Random forest accuracy is:  0.5789473684210527\n"
     ]
    }
   ],
   "source": [
    "from sklearn.ensemble import RandomForestClassifier\n",
    "\n",
    "rf = RandomForestClassifier()\n",
    "rf.fit(X_train,y_train)\n",
    "prediction = rf.predict(X_test)\n",
    "\n",
    "print('With Random forest accuracy is: ',rf.score(X_test,y_test)) # accuracy"
   ]
  },
  {
   "cell_type": "code",
   "execution_count": 201,
   "metadata": {},
   "outputs": [],
   "source": [
    "from sklearn.svm import SVC"
   ]
  },
  {
   "cell_type": "code",
   "execution_count": 202,
   "metadata": {},
   "outputs": [
    {
     "name": "stdout",
     "output_type": "stream",
     "text": [
      "With SVM accuracy is:  0.2236842105263158\n"
     ]
    }
   ],
   "source": [
    "\n",
    "svc = SVC(kernel='linear', C=1,gamma='auto')\n",
    "svc.fit(X, Y)\n",
    "svc.fit(X_train,y_train)\n",
    " \n",
    "prediction = svc.predict(X_test)\n",
    "\n",
    "print('With SVM accuracy is: ',svc.score(X_test,y_test)) # accuracy"
   ]
  }
 ],
 "metadata": {
  "kernelspec": {
   "display_name": "Python 3",
   "language": "python",
   "name": "python3"
  },
  "language_info": {
   "codemirror_mode": {
    "name": "ipython",
    "version": 3
   },
   "file_extension": ".py",
   "mimetype": "text/x-python",
   "name": "python",
   "nbconvert_exporter": "python",
   "pygments_lexer": "ipython3",
   "version": "3.7.7"
  }
 },
 "nbformat": 4,
 "nbformat_minor": 4
}
