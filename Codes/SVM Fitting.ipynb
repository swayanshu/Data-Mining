{
 "cells": [
  {
   "cell_type": "code",
   "execution_count": 43,
   "metadata": {},
   "outputs": [],
   "source": [
    "# Data manipulation\n",
    "import numpy as np\n",
    "import pandas as pd\n",
    "\n",
    "# Plotting libraries\n",
    "import matplotlib.pyplot as plt\n",
    "import seaborn as sns\n",
    "\n",
    "# Reference library for traditional machine learning models\n",
    "from sklearn.svm import SVC\n",
    "from sklearn.externals import joblib\n",
    "from sklearn.preprocessing import StandardScaler\n",
    "from sklearn.multiclass import OneVsOneClassifier\n",
    "from sklearn.metrics import accuracy_score, f1_score, confusion_matrix\n",
    "from sklearn.model_selection import train_test_split\n",
    "\n",
    "\n",
    "# Convenience to work with the files\n",
    "from pathlib import Path"
   ]
  },
  {
   "cell_type": "code",
   "execution_count": 44,
   "metadata": {},
   "outputs": [],
   "source": [
    "import os\n",
    "os.chdir(r'D:\\2nd_semester\\data_mining\\Project')"
   ]
  },
  {
   "cell_type": "markdown",
   "metadata": {},
   "source": [
    "## Our dataset\n",
    "\n",
    "The dataset is composed of many nump specific files. They are a zipped file containing a dictionary of header and variable. "
   ]
  },
  {
   "cell_type": "code",
   "execution_count": 45,
   "metadata": {},
   "outputs": [],
   "source": [
    "data_dir = Path(r'D:\\2nd_semester\\data_mining\\Project\\Data_demo\\edf_npzs')\n",
    "all_filepaths = [path for path in data_dir.glob('*.txt.npz')]\n",
    "all_data_files = [np.load(path, allow_pickle=True) for path in all_filepaths]"
   ]
  },
  {
   "cell_type": "code",
   "execution_count": 46,
   "metadata": {
    "scrolled": true
   },
   "outputs": [
    {
     "data": {
      "text/plain": [
       "{'x': array([[[ -5.1516485 ],\n",
       "         [ -7.9010987 ],\n",
       "         [  4.624176  ],\n",
       "         ...,\n",
       "         [  9.308425  ],\n",
       "         [  7.271795  ],\n",
       "         [  0.5509158 ]],\n",
       " \n",
       "        [[  7.5772896 ],\n",
       "         [  4.9296703 ],\n",
       "         [-11.770696  ],\n",
       "         ...,\n",
       "         [ 18.676924  ],\n",
       "         [ 10.021245  ],\n",
       "         [ 15.927472  ]],\n",
       " \n",
       "        [[  4.827839  ],\n",
       "         [ 12.2615385 ],\n",
       "         [ 30.69304   ],\n",
       "         ...,\n",
       "         [  6.5589743 ],\n",
       "         [ 10.530403  ],\n",
       "         [  5.7443223 ]],\n",
       " \n",
       "        ...,\n",
       " \n",
       "        [[ -0.8747253 ],\n",
       "         [  3.9113553 ],\n",
       "         [ -9.530403  ],\n",
       "         ...,\n",
       "         [-10.446886  ],\n",
       "         [ -5.9663005 ],\n",
       "         [-15.232967  ]],\n",
       " \n",
       "        [[-19.102564  ],\n",
       "         [-21.342857  ],\n",
       "         [-27.758242  ],\n",
       "         ...,\n",
       "         [ 39.654213  ],\n",
       "         [ 23.055677  ],\n",
       "         [  5.5406594 ]],\n",
       " \n",
       "        [[ -5.457143  ],\n",
       "         [  2.8930402 ],\n",
       "         [  3.1985347 ],\n",
       "         ...,\n",
       "         [  7.5772896 ],\n",
       "         [ 12.770696  ],\n",
       "         [  0.24542125]]], dtype=float32),\n",
       " 'y': array([0, 0, 0, ..., 0, 0, 0]),\n",
       " 'fs': array(100.),\n",
       " 'ch_label': array('EEG Fpz-Cz', dtype='<U10'),\n",
       " 'header_raw': array({'local_subject_id': 'X F X Female_33yr', 'local_recording_id': 'Startdate 25-APR-1989 X X X', 'date_time': '2089-04-25 14:50:00', 'EDF+': False, 'contiguous': True, 'n_records': 2830, 'record_length': 30.0, 'n_channels': 7, 'label': ['EEG Fpz-Cz', 'EEG Pz-Oz', 'EOG horizontal', 'Resp oro-nasal', 'EMG submental', 'Temp rectal', 'Event marker'], 'transducer_type': ['Ag-AgCl electrodes', 'Ag-AgCl electrodes', 'Ag-AgCl electrodes', 'Oral-nasal thermistors', 'Ag-AgCl electrodes', 'Rectal thermistor', 'Marker button'], 'units': ['uV', 'uV', 'uV', '', 'uV', 'DegC', ''], 'physical_min': array([-2.0800e+02, -2.0000e+02, -9.8700e+02, -3.2768e+04, -5.0000e+00,\n",
       "         3.4000e+01, -2.0470e+03]), 'physical_max': array([2.0900e+02, 2.0200e+02, 9.8800e+02, 3.2767e+04, 5.0000e+00,\n",
       "        4.0000e+01, 2.0480e+03]), 'digital_min': array([ -2048.,  -2048.,  -2048., -32768.,  -2500.,  -3234.,  -2047.]), 'digital_max': array([ 2047.,  2047.,  2047., 32767.,  2500.,  3144.,  2048.]), 'prefiltering': ['HP:0.5Hz LP:100Hz [enhanced cassette BW]', 'HP:0.5Hz LP:100Hz [enhanced cassette BW]', 'HP:0.5Hz LP:100Hz [enhanced cassette BW]', 'HP:0.03Hz LP:0.9Hz', 'HP:16Hz Rectification LP:0.7Hz', '', 'Hold during 2 seconds'], 'n_samples_per_record': [3000, 3000, 3000, 30, 30, 30, 30]},\n",
       "       dtype=object),\n",
       " 'header_annotation': array({'local_subject_id': 'X F X Female_33yr', 'local_recording_id': 'Startdate 25-APR-1989 X X X', 'date_time': '2089-04-25 14:50:00', 'EDF+': True, 'contiguous': True, 'n_records': 1, 'record_length': 0.0, 'n_channels': 1, 'label': ['EDF Annotations'], 'transducer_type': [''], 'units': [''], 'physical_min': array([0.]), 'physical_max': array([1.]), 'digital_min': array([-32768.]), 'digital_max': array([32767.]), 'prefiltering': [''], 'n_samples_per_record': [2034]},\n",
       "       dtype=object)}"
      ]
     },
     "execution_count": 46,
     "metadata": {},
     "output_type": "execute_result"
    }
   ],
   "source": [
    "# A sample of our data\n",
    "\n",
    "sample = {header: data for header, data in zip(list(all_data_files[0].keys()), list(all_data_files[0].values()))}\n",
    "sample"
   ]
  },
  {
   "cell_type": "code",
   "execution_count": 47,
   "metadata": {},
   "outputs": [],
   "source": [
    "# Extracting all our features and labels\n",
    "\n",
    "headers = list(sample.keys())\n",
    "X = np.vstack([file['x'] for file in all_data_files])\n",
    "y = np.hstack([file['y'] for file in all_data_files])"
   ]
  },
  {
   "cell_type": "code",
   "execution_count": 48,
   "metadata": {},
   "outputs": [],
   "source": [
    "from sklearn.cluster import DBSCAN\n",
    "from sklearn.preprocessing import StandardScaler\n",
    "import pandas as pd\n",
    "import numpy as np \n",
    "import matplotlib.pyplot as plt\n",
    "%matplotlib inline"
   ]
  },
  {
   "cell_type": "code",
   "execution_count": null,
   "metadata": {},
   "outputs": [],
   "source": []
  },
  {
   "cell_type": "code",
   "execution_count": 8,
   "metadata": {},
   "outputs": [
    {
     "data": {
      "text/plain": [
       "((80649, 3000, 1), (80649,))"
      ]
     },
     "execution_count": 8,
     "metadata": {},
     "output_type": "execute_result"
    }
   ],
   "source": [
    "# Verifying that all our data is labeled\n",
    "\n",
    "X.shape, y.shape"
   ]
  },
  {
   "cell_type": "code",
   "execution_count": 9,
   "metadata": {},
   "outputs": [
    {
     "data": {
      "text/plain": [
       "Text(0.5, 1.0, 'Frequency of the labels in our dataset')"
      ]
     },
     "execution_count": 9,
     "metadata": {},
     "output_type": "execute_result"
    },
    {
     "data": {
      "image/png": "[encoded data removed]",
      "text/plain": [
       "<Figure size 432x288 with 1 Axes>"
      ]
     },
     "metadata": {
      "needs_background": "light"
     },
     "output_type": "display_data"
    }
   ],
   "source": [
    "pd.Series(y).value_counts().plot.bar()\n",
    "plt.title(\"Frequency of the labels in our dataset\")"
   ]
  },
  {
   "cell_type": "markdown",
   "metadata": {},
   "source": [
    "Since our data is a 3000 dimension vector we cannot do any exploratory analysis. At this stage we could perform dimensionaly reduction in order to filter out the noise in our dataset."
   ]
  },
  {
   "cell_type": "markdown",
   "metadata": {},
   "source": [
    "## 2. Data Processing"
   ]
  },
  {
   "cell_type": "markdown",
   "metadata": {},
   "source": [
    "## Splitting the train and test datasets"
   ]
  },
  {
   "cell_type": "markdown",
   "metadata": {},
   "source": [
    "### Normalizing the data\n",
    "\n",
    "We can normalize our variables to have zero mean and variance one, by doing this we void many numerical instabilities that could happen during the training process."
   ]
  },
  {
   "cell_type": "code",
   "execution_count": 49,
   "metadata": {},
   "outputs": [],
   "source": [
    "scaler = StandardScaler()\n",
    "X = scaler.fit_transform(X.squeeze())"
   ]
  },
  {
   "cell_type": "code",
   "execution_count": 12,
   "metadata": {},
   "outputs": [],
   "source": [
    "n = 2000\n",
    "\n",
    "X_sample = X[:n, :n]\n",
    "y_sample = y[:n]"
   ]
  },
  {
   "cell_type": "code",
   "execution_count": 34,
   "metadata": {},
   "outputs": [],
   "source": [
    "X_train, X_test, y_train, y_test = train_test_split(X_sample.squeeze(), y_sample, test_size=0.2, random_state=42)"
   ]
  },
  {
   "cell_type": "code",
   "execution_count": 69,
   "metadata": {},
   "outputs": [
    {
     "data": {
      "text/plain": [
       "array([[ 3.7227350e-01,  2.5047490e-01, -5.5026758e-01, ...,\n",
       "         8.9107215e-01,  4.7720954e-01,  7.7152467e-01],\n",
       "       [ 2.3932189e-01,  6.0483837e-01,  1.4994127e+00, ...,\n",
       "         3.0434963e-01,  5.0184047e-01,  2.7895656e-01],\n",
       "       [ 6.5787327e-01,  9.7901732e-02,  2.4822559e-02, ...,\n",
       "         1.2685373e-01,  2.8508860e-01,  2.0507134e-01],\n",
       "       ...,\n",
       "       [ 9.5332134e-01,  8.5584587e-01,  1.0472050e+00, ...,\n",
       "         5.1142812e-01,  5.9051168e-01,  4.1194993e-01],\n",
       "       [ 3.7719765e-01,  1.6680574e-01,  2.4605708e-04, ...,\n",
       "        -3.0920368e-02,  1.4222945e-01, -1.6928045e-01],\n",
       "       [-9.5519252e-02, -1.4326231e-01, -4.6670747e-01, ...,\n",
       "         5.8538473e-01,  2.9001477e-01,  2.8388223e-01]], dtype=float32)"
      ]
     },
     "execution_count": 69,
     "metadata": {},
     "output_type": "execute_result"
    }
   ],
   "source": [
    "xsample = X[1:1000]\n",
    "xsample"
   ]
  },
  {
   "cell_type": "code",
   "execution_count": 57,
   "metadata": {},
   "outputs": [],
   "source": [
    "# cluster the data into five clusters\n",
    "dbscan = DBSCAN(eps = 0.085,min_samples = 3)\n",
    "model = dbscan.fit(xsample)\n",
    "labels = model.labels_\n"
   ]
  },
  {
   "cell_type": "code",
   "execution_count": 70,
   "metadata": {
    "scrolled": true
   },
   "outputs": [
    {
     "name": "stdout",
     "output_type": "stream",
     "text": [
      "[2 2 2 2 2 2 2 2 2 2 3 2 2 2 2 2 1 2 2 2 2 2 2 2 1 2 2 1 3 1 1 2 2 3 2 2 2\n",
      " 2 2 3 1 2 1 0 2 2 2 2 2 2 2 2 2 2 2 2 2 3 2 2 2 2 2 2 2 2 2 2 2 3 2 2 2 2\n",
      " 2 2 2 2 2 2 3 2 3 1 2 1 2 2 1 2 2 2 1 2 1 1 3 2 3 3 2 3 2 3 2 2 2 3 2 3 3\n",
      " 0 2 3 3 2 3 2 2 3 2 2 2 2 3 3 2 2 1 2 1 2 3 3 2 2 2 3 2 2 1 2 2 2 2 3 3 2\n",
      " 0 3 3 2 1 2 2 1 1 2 1 3 0 1 4 2 1 2 2 2 2 2 3 2 1 1 0 2 3 2 2 2 3 2 2 2 2\n",
      " 2 2 2 2 2 2 2 2 2 2 2 2 2 2 2 2 2 2 2 2 2 2 2 2 2 2 2 2 2 2 2 2 2 2 2 2 2\n",
      " 2 2 3 2 2 2 2 3 2 2 2 2 2 2 2 2 2 3 2 2 2 2 2 2 1 2 1 2 1 1 3 3 1 3 0 2 2\n",
      " 2 2 1 3 2 1 1 2 3 3 3 3 1 2 2 3 2 3 2 2 1 2 3 1 2 2 1 3 2 1 2 3 2 3 2 2 3\n",
      " 1 2 3 2 1 2 3 2 2 2 3 2 3 3 3 2 2 2 2 2 2 2 2 2 2 2 2 2 2 2 2 2 2 2 2 2 2\n",
      " 2 2 2 2 2 2 2 2 2 2 2 2 2 2 2 2 2 2 2 2 2 2 2 2 2 2 2 2 2 2 2 2 2 2 2 2 2\n",
      " 2 2 2 2 2 2 2 2 2 2 2 2 2 2 2 2 2 2 2 2 2 2 2 2 2 2 2 2 2 2 2 2 2 2 2 2 2\n",
      " 2 2 2 1 1 2 2 3 2 2 2 2 2 2 2 2 2 2 2 2 2 2 2 2 2 2 2 2 2 2 2 2 2 2 2 2 2\n",
      " 2 2 2 2 2 2 2 2 2 2 2 2 2 2 2 2 2 2 3 2 2 1 2 2 1 2 2 2 2 2 3 2 1 2 2 2 2\n",
      " 2 2 2 2 3 3 3 2 2 3 2 2 3 2 2 1 2 1 2 2 2 1 2 2 2 2 2 2 2 2 2 2 3 2 2 2 2\n",
      " 2 1 3 2 3 2 2 2 2 1 2 2 2 2 2 1 1 2 2 2 2 2 2 2 2 2 2 2 2 2 2 2 2 2 2 2 2\n",
      " 2 2 2 2 2 2 2 2 2 2 2 2 2 3 2 2 2 1 2 2 3 2 2 3 2 2 3 2 1 2 2 2 2 2 2 2 2\n",
      " 2 2 2 2 2 2 2 2 2 2 2 2 2 2 2 2 2 2 2 2 2 2 2 2 2 2 2 2 2 2 2 3 2 2 2 3 2\n",
      " 2 2 1 1 2 2 2 1 2 2 3 2 2 2 2 2 2 2 3 2 2 2 1 2 3 2 2 2 2 2 3 2 2 2 2 2 2\n",
      " 3 2 2 2 2 1 3 0 2 2 2 2 2 2 3 2 2 2 2 2 2 2 2 2 2 2 2 2 2 2 2 2 2 2 2 2 2\n",
      " 2 2 2 2 2 2 2 2 2 2 2 2 2 2 2 2 2 2 2 2 2 2 2 2 2 2 2 1 2 2 2 2 2 2 2 2 2\n",
      " 2 2 2 2 2 2 2 2 2 2 2 2 2 2 2 2 2 2 2 2 2 2 2 2 2 2 2 2 2 2 2 2 2 2 2 2 2\n",
      " 2 2 2 2 2 2 2 2 2 2 2 2 2 2 2 2 2 2 2 2 2 2 2 2 2 2 2 2 2 2 3 2 2 2 2 2 2\n",
      " 2 2 2 2 2 2 3 2 2 2 2 2 2 2 2 1 2 2 2 2 2 2 2 2 2 2 3 2 2 2 1 2 3 1 2 1 2\n",
      " 1 3 3 2 1 2 2 2 2 3 3 2 0 2 1 2 3 1 1 1 3 1 2 2 3 0 2 2 3 2 2 3 2 2 2 1 1\n",
      " 2 0 2 1 2 3 2 3 3 2 1 3 2 2 2 2 2 2 3 2 2 2 2 2 2 2 2 2 2 2 2 2 2 2 2 2 2\n",
      " 2 2 2 2 2 2 2 2 2 2 2 2 2 2 2 2 2 2 2 2 2 2 2 2 2 2 2 2 2 2 2 2 2 2 2 2 2\n",
      " 2 2 2 2 2 2 2 2 2 2 2 2 2 2 2 2 2 2 2 2 2 2 2 2 2 2 2 2 3 2 2 2 2 2 2 2 2]\n"
     ]
    },
    {
     "data": {
      "text/plain": [
       "array([[-0.22650129, -0.39525416, -0.49374154, ...,  1.3791858 ,\n",
       "         1.6338761 ,  1.5813066 ],\n",
       "       [-0.01234133, -0.02733597, -0.05687766, ..., -0.1411224 ,\n",
       "        -0.2153845 , -0.24735919],\n",
       "       [ 0.04101356,  0.05860659,  0.06907236, ...,  0.03942624,\n",
       "         0.02254266,  0.04952508],\n",
       "       [ 0.07135963,  0.05400001, -0.00176923, ..., -0.0510366 ,\n",
       "        -0.0628474 , -0.05815711],\n",
       "       [-0.5337672 , -0.8273807 , -1.0663741 , ..., -0.5732689 ,\n",
       "        -0.05974386,  0.1361118 ]], dtype=float32)"
      ]
     },
     "execution_count": 70,
     "metadata": {},
     "output_type": "execute_result"
    }
   ],
   "source": [
    "from sklearn.cluster import KMeans\n",
    "kmeans5 = KMeans(n_clusters=5)\n",
    "y_kmeans5 = kmeans5.fit_predict(xsample)\n",
    "print(y_kmeans5)\n",
    "\n",
    "kmeans5.cluster_centers_"
   ]
  },
  {
   "cell_type": "code",
   "execution_count": 71,
   "metadata": {},
   "outputs": [
    {
     "data": {
      "image/png": "[encoded data removed]",
      "text/plain": [
       "<Figure size 432x288 with 1 Axes>"
      ]
     },
     "metadata": {
      "needs_background": "light"
     },
     "output_type": "display_data"
    }
   ],
   "source": [
    "Error =[]\n",
    "for i in range(1, 11):\n",
    "    kmeans = KMeans(n_clusters = i).fit(xsample)\n",
    "    kmeans.fit(xsample)\n",
    "    Error.append(kmeans.inertia_)\n",
    "import matplotlib.pyplot as plt\n",
    "plt.plot(range(1, 11), Error)\n",
    "plt.title('Elbow method')\n",
    "plt.xlabel('No of clusters')\n",
    "plt.ylabel('Error')\n",
    "plt.show()"
   ]
  },
  {
   "cell_type": "code",
   "execution_count": null,
   "metadata": {},
   "outputs": [],
   "source": []
  },
  {
   "cell_type": "code",
   "execution_count": null,
   "metadata": {},
   "outputs": [],
   "source": []
  },
  {
   "cell_type": "code",
   "execution_count": 58,
   "metadata": {},
   "outputs": [],
   "source": [
    "from sklearn import metrics\n",
    "core_samples = np.zeros_like(labels, dtype=bool)\n",
    "core_samples[dbscan.core_sample_indices_] = True\n",
    "#print(core_samples)"
   ]
  },
  {
   "cell_type": "code",
   "execution_count": 60,
   "metadata": {},
   "outputs": [
    {
     "data": {
      "text/plain": [
       "0"
      ]
     },
     "execution_count": 60,
     "metadata": {},
     "output_type": "execute_result"
    }
   ],
   "source": [
    "n_clusters_ = len(set(labels)) - (1 if -1 in labels else 0)\n",
    "n_clusters_"
   ]
  },
  {
   "cell_type": "code",
   "execution_count": 62,
   "metadata": {
    "scrolled": true
   },
   "outputs": [
    {
     "ename": "ValueError",
     "evalue": "Number of labels is 1. Valid values are 2 to n_samples - 1 (inclusive)",
     "output_type": "error",
     "traceback": [
      "\u001b[1;31m---------------------------------------------------------------------------\u001b[0m",
      "\u001b[1;31mValueError\u001b[0m                                Traceback (most recent call last)",
      "\u001b[1;32m<ipython-input-62-d911c50627ca>\u001b[0m in \u001b[0;36m<module>\u001b[1;34m\u001b[0m\n\u001b[1;32m----> 1\u001b[1;33m \u001b[0mprint\u001b[0m\u001b[1;33m(\u001b[0m\u001b[1;34m\"silhouttee coefficient: %0.3f\"\u001b[0m \u001b[1;33m%\u001b[0m\u001b[0mmetrics\u001b[0m\u001b[1;33m.\u001b[0m\u001b[0msilhouette_score\u001b[0m\u001b[1;33m(\u001b[0m\u001b[0mxsample\u001b[0m\u001b[1;33m,\u001b[0m \u001b[0mlabels\u001b[0m\u001b[1;33m)\u001b[0m\u001b[1;33m)\u001b[0m\u001b[1;33m\u001b[0m\u001b[1;33m\u001b[0m\u001b[0m\n\u001b[0m",
      "\u001b[1;32mD:\\anaconda\\lib\\site-packages\\sklearn\\metrics\\cluster\\_unsupervised.py\u001b[0m in \u001b[0;36msilhouette_score\u001b[1;34m(X, labels, metric, sample_size, random_state, **kwds)\u001b[0m\n\u001b[0;32m    115\u001b[0m         \u001b[1;32melse\u001b[0m\u001b[1;33m:\u001b[0m\u001b[1;33m\u001b[0m\u001b[1;33m\u001b[0m\u001b[0m\n\u001b[0;32m    116\u001b[0m             \u001b[0mX\u001b[0m\u001b[1;33m,\u001b[0m \u001b[0mlabels\u001b[0m \u001b[1;33m=\u001b[0m \u001b[0mX\u001b[0m\u001b[1;33m[\u001b[0m\u001b[0mindices\u001b[0m\u001b[1;33m]\u001b[0m\u001b[1;33m,\u001b[0m \u001b[0mlabels\u001b[0m\u001b[1;33m[\u001b[0m\u001b[0mindices\u001b[0m\u001b[1;33m]\u001b[0m\u001b[1;33m\u001b[0m\u001b[1;33m\u001b[0m\u001b[0m\n\u001b[1;32m--> 117\u001b[1;33m     \u001b[1;32mreturn\u001b[0m \u001b[0mnp\u001b[0m\u001b[1;33m.\u001b[0m\u001b[0mmean\u001b[0m\u001b[1;33m(\u001b[0m\u001b[0msilhouette_samples\u001b[0m\u001b[1;33m(\u001b[0m\u001b[0mX\u001b[0m\u001b[1;33m,\u001b[0m \u001b[0mlabels\u001b[0m\u001b[1;33m,\u001b[0m \u001b[0mmetric\u001b[0m\u001b[1;33m=\u001b[0m\u001b[0mmetric\u001b[0m\u001b[1;33m,\u001b[0m \u001b[1;33m**\u001b[0m\u001b[0mkwds\u001b[0m\u001b[1;33m)\u001b[0m\u001b[1;33m)\u001b[0m\u001b[1;33m\u001b[0m\u001b[1;33m\u001b[0m\u001b[0m\n\u001b[0m\u001b[0;32m    118\u001b[0m \u001b[1;33m\u001b[0m\u001b[0m\n\u001b[0;32m    119\u001b[0m \u001b[1;33m\u001b[0m\u001b[0m\n",
      "\u001b[1;32mD:\\anaconda\\lib\\site-packages\\sklearn\\metrics\\cluster\\_unsupervised.py\u001b[0m in \u001b[0;36msilhouette_samples\u001b[1;34m(X, labels, metric, **kwds)\u001b[0m\n\u001b[0;32m    226\u001b[0m     \u001b[0mn_samples\u001b[0m \u001b[1;33m=\u001b[0m \u001b[0mlen\u001b[0m\u001b[1;33m(\u001b[0m\u001b[0mlabels\u001b[0m\u001b[1;33m)\u001b[0m\u001b[1;33m\u001b[0m\u001b[1;33m\u001b[0m\u001b[0m\n\u001b[0;32m    227\u001b[0m     \u001b[0mlabel_freqs\u001b[0m \u001b[1;33m=\u001b[0m \u001b[0mnp\u001b[0m\u001b[1;33m.\u001b[0m\u001b[0mbincount\u001b[0m\u001b[1;33m(\u001b[0m\u001b[0mlabels\u001b[0m\u001b[1;33m)\u001b[0m\u001b[1;33m\u001b[0m\u001b[1;33m\u001b[0m\u001b[0m\n\u001b[1;32m--> 228\u001b[1;33m     \u001b[0mcheck_number_of_labels\u001b[0m\u001b[1;33m(\u001b[0m\u001b[0mlen\u001b[0m\u001b[1;33m(\u001b[0m\u001b[0mle\u001b[0m\u001b[1;33m.\u001b[0m\u001b[0mclasses_\u001b[0m\u001b[1;33m)\u001b[0m\u001b[1;33m,\u001b[0m \u001b[0mn_samples\u001b[0m\u001b[1;33m)\u001b[0m\u001b[1;33m\u001b[0m\u001b[1;33m\u001b[0m\u001b[0m\n\u001b[0m\u001b[0;32m    229\u001b[0m \u001b[1;33m\u001b[0m\u001b[0m\n\u001b[0;32m    230\u001b[0m     \u001b[0mkwds\u001b[0m\u001b[1;33m[\u001b[0m\u001b[1;34m'metric'\u001b[0m\u001b[1;33m]\u001b[0m \u001b[1;33m=\u001b[0m \u001b[0mmetric\u001b[0m\u001b[1;33m\u001b[0m\u001b[1;33m\u001b[0m\u001b[0m\n",
      "\u001b[1;32mD:\\anaconda\\lib\\site-packages\\sklearn\\metrics\\cluster\\_unsupervised.py\u001b[0m in \u001b[0;36mcheck_number_of_labels\u001b[1;34m(n_labels, n_samples)\u001b[0m\n\u001b[0;32m     33\u001b[0m     \u001b[1;32mif\u001b[0m \u001b[1;32mnot\u001b[0m \u001b[1;36m1\u001b[0m \u001b[1;33m<\u001b[0m \u001b[0mn_labels\u001b[0m \u001b[1;33m<\u001b[0m \u001b[0mn_samples\u001b[0m\u001b[1;33m:\u001b[0m\u001b[1;33m\u001b[0m\u001b[1;33m\u001b[0m\u001b[0m\n\u001b[0;32m     34\u001b[0m         raise ValueError(\"Number of labels is %d. Valid values are 2 \"\n\u001b[1;32m---> 35\u001b[1;33m                          \"to n_samples - 1 (inclusive)\" % n_labels)\n\u001b[0m\u001b[0;32m     36\u001b[0m \u001b[1;33m\u001b[0m\u001b[0m\n\u001b[0;32m     37\u001b[0m \u001b[1;33m\u001b[0m\u001b[0m\n",
      "\u001b[1;31mValueError\u001b[0m: Number of labels is 1. Valid values are 2 to n_samples - 1 (inclusive)"
     ]
    }
   ],
   "source": [
    "print(\"silhouttee coefficient: %0.3f\" %metrics.silhouette_score(xsample, labels))"
   ]
  },
  {
   "cell_type": "code",
   "execution_count": 63,
   "metadata": {},
   "outputs": [
    {
     "ename": "ValueError",
     "evalue": "too many values to unpack (expected 2)",
     "output_type": "error",
     "traceback": [
      "\u001b[1;31m---------------------------------------------------------------------------\u001b[0m",
      "\u001b[1;31mValueError\u001b[0m                                Traceback (most recent call last)",
      "\u001b[1;32m<ipython-input-63-b0e12cf59565>\u001b[0m in \u001b[0;36m<module>\u001b[1;34m\u001b[0m\n\u001b[0;32m      1\u001b[0m \u001b[1;32mfrom\u001b[0m \u001b[0mpylab\u001b[0m \u001b[1;32mimport\u001b[0m \u001b[1;33m*\u001b[0m\u001b[1;33m\u001b[0m\u001b[1;33m\u001b[0m\u001b[0m\n\u001b[1;32m----> 2\u001b[1;33m \u001b[0mxx\u001b[0m\u001b[1;33m,\u001b[0m \u001b[0myy\u001b[0m \u001b[1;33m=\u001b[0m \u001b[0mzip\u001b[0m\u001b[1;33m(\u001b[0m\u001b[1;33m*\u001b[0m\u001b[0mxsample\u001b[0m\u001b[1;33m)\u001b[0m\u001b[1;33m\u001b[0m\u001b[1;33m\u001b[0m\u001b[0m\n\u001b[0m\u001b[0;32m      3\u001b[0m \u001b[0mscatter\u001b[0m\u001b[1;33m(\u001b[0m\u001b[0mxx\u001b[0m\u001b[1;33m,\u001b[0m\u001b[0myy\u001b[0m\u001b[1;33m)\u001b[0m\u001b[1;33m\u001b[0m\u001b[1;33m\u001b[0m\u001b[0m\n\u001b[0;32m      4\u001b[0m \u001b[0mshow\u001b[0m\u001b[1;33m(\u001b[0m\u001b[1;33m)\u001b[0m\u001b[1;33m\u001b[0m\u001b[1;33m\u001b[0m\u001b[0m\n",
      "\u001b[1;31mValueError\u001b[0m: too many values to unpack (expected 2)"
     ]
    }
   ],
   "source": [
    "from pylab import *\n",
    "xx, yy = zip(*xsample)\n",
    "scatter(xx,yy)\n",
    "show()"
   ]
  },
  {
   "cell_type": "markdown",
   "metadata": {},
   "source": [
    "## 3. Model fitting\n",
    "\n",
    "We are going to use the `scikit-learn` implementation of SVMs as a classifier, `SVC`. \n",
    "\n",
    "As suggested on the repository [ECG-Classification](https://github.com/mondejar/ecg-classification) we can use the label frequency in our dataset as weights to balance out the algorithm loss function"
   ]
  },
  {
   "cell_type": "markdown",
   "metadata": {},
   "source": [
    "## That is your original code\n",
    "\n",
    "I used way less data only to train the model"
   ]
  },
  {
   "cell_type": "code",
   "execution_count": 14,
   "metadata": {},
   "outputs": [
    {
     "name": "stdout",
     "output_type": "stream",
     "text": [
      "With SVM accuracy is:  0.3025\n"
     ]
    }
   ],
   "source": [
    "svc = SVC(kernel='linear', C=1,gamma='auto')\n",
    "svc.fit(X_train,y_train)\n",
    "\n",
    "prediction = svc.predict(X_test)\n",
    "\n",
    "print('With SVM accuracy is: ',svc.score(X_test,y_test)) # accuracy"
   ]
  },
  {
   "cell_type": "markdown",
   "metadata": {},
   "source": [
    "## What's the problem\n",
    "\n",
    "When you specify a `linear` kernel on SVM you imply that you are expecting that a line will separate the data, but generally we have a highly non-linear dataset. Hence the low accuracy score.\n",
    "\n",
    "Below are the results for the first 2000 samples of the dataset."
   ]
  },
  {
   "cell_type": "code",
   "execution_count": 15,
   "metadata": {},
   "outputs": [
    {
     "name": "stdout",
     "output_type": "stream",
     "text": [
      "With SVM accuracy is:  0.605\n",
      "Wall time: 8.91 s\n"
     ]
    }
   ],
   "source": [
    "%%time\n",
    "\n",
    "svc = SVC(kernel='rbf')\n",
    "svc.fit(X_train,y_train)\n",
    "\n",
    "prediction = svc.predict(X_test)\n",
    "\n",
    "print('With SVM accuracy is: ',svc.score(X_test, y_test)) # accuracy"
   ]
  },
  {
   "cell_type": "code",
   "execution_count": 26,
   "metadata": {},
   "outputs": [
    {
     "data": {
      "text/plain": [
       "array([[  0,   0,  38,  22,   3],\n",
       "       [  0,   0,  17,   0,   8],\n",
       "       [  0,   0, 155,   6,   3],\n",
       "       [  0,   0,  21,  62,   0],\n",
       "       [  0,   0,  59,   0,   6]], dtype=int64)"
      ]
     },
     "execution_count": 26,
     "metadata": {},
     "output_type": "execute_result"
    }
   ],
   "source": [
    "from sklearn import metrics\n",
    "\n",
    "confusion_matrix=metrics.confusion_matrix(y_test,prediction)\n",
    "confusion_matrix"
   ]
  },
  {
   "cell_type": "code",
   "execution_count": 18,
   "metadata": {},
   "outputs": [
    {
     "name": "stdout",
     "output_type": "stream",
     "text": [
      ">>> f1 score: 0.39566009979721994\n",
      "              precision    recall  f1-score   support\n",
      "\n",
      "           0       1.00      0.02      0.03        63\n",
      "           1       0.00      0.00      0.00        25\n",
      "           2       0.65      0.84      0.73       164\n",
      "           3       0.66      0.81      0.73        83\n",
      "           4       0.43      0.57      0.49        65\n",
      "\n",
      "    accuracy                           0.60       400\n",
      "   macro avg       0.55      0.45      0.40       400\n",
      "weighted avg       0.63      0.60      0.53       400\n",
      "\n"
     ]
    },
    {
     "name": "stderr",
     "output_type": "stream",
     "text": [
      "D:\\anaconda\\lib\\site-packages\\sklearn\\metrics\\_classification.py:1272: UndefinedMetricWarning: Precision and F-score are ill-defined and being set to 0.0 in labels with no predicted samples. Use `zero_division` parameter to control this behavior.\n",
      "  _warn_prf(average, modifier, msg_start, len(result))\n"
     ]
    }
   ],
   "source": [
    "from sklearn.metrics import classification_report\n",
    "from sklearn.metrics import make_scorer, f1_score, accuracy_score, classification_report\n",
    "from sklearn.metrics import roc_auc_score, confusion_matrix, roc_auc_score, roc_curve\n",
    "\n",
    "f1 = f1_score(y_test, prediction, average=\"macro\")\n",
    "print(\">>> f1 score: {}\".format(f1))\n",
    "report = classification_report(y_test, prediction)\n",
    "print(report)"
   ]
  },
  {
   "cell_type": "code",
   "execution_count": 22,
   "metadata": {},
   "outputs": [
    {
     "name": "stdout",
     "output_type": "stream",
     "text": [
      "With Random forest accuracy is:  0.59\n",
      "              precision    recall  f1-score   support\n",
      "\n",
      "           0       0.50      0.02      0.03        63\n",
      "           1       0.00      0.00      0.00        25\n",
      "           2       0.56      0.96      0.71       164\n",
      "           3       0.75      0.82      0.78        83\n",
      "           4       0.38      0.14      0.20        65\n",
      "\n",
      "    accuracy                           0.59       400\n",
      "   macro avg       0.44      0.39      0.34       400\n",
      "weighted avg       0.52      0.59      0.49       400\n",
      "\n"
     ]
    },
    {
     "name": "stderr",
     "output_type": "stream",
     "text": [
      "D:\\anaconda\\lib\\site-packages\\sklearn\\metrics\\_classification.py:1272: UndefinedMetricWarning: Precision and F-score are ill-defined and being set to 0.0 in labels with no predicted samples. Use `zero_division` parameter to control this behavior.\n",
      "  _warn_prf(average, modifier, msg_start, len(result))\n"
     ]
    }
   ],
   "source": [
    "rf = RandomForestClassifier()\n",
    "rf.fit(X_train,y_train)\n",
    "prediction1 = rf.predict(X_test)\n",
    "\n",
    "print('With Random forest accuracy is: ',rf.score(X_test,y_test)) # accuracy\n",
    "\n",
    "report = classification_report(y_test, prediction1)\n",
    "print(report)"
   ]
  },
  {
   "cell_type": "code",
   "execution_count": 23,
   "metadata": {},
   "outputs": [
    {
     "name": "stdout",
     "output_type": "stream",
     "text": [
      "With decision tree accuracy is:  0.395\n",
      "              precision    recall  f1-score   support\n",
      "\n",
      "           0       0.25      0.21      0.23        63\n",
      "           1       0.11      0.16      0.13        25\n",
      "           2       0.52      0.52      0.52       164\n",
      "           3       0.57      0.47      0.52        83\n",
      "           4       0.21      0.26      0.23        65\n",
      "\n",
      "    accuracy                           0.40       400\n",
      "   macro avg       0.33      0.32      0.33       400\n",
      "weighted avg       0.41      0.40      0.40       400\n",
      "\n"
     ]
    }
   ],
   "source": [
    "from sklearn.tree import DecisionTreeClassifier\n",
    "from sklearn.ensemble import RandomForestClassifier\n",
    "\n",
    "dtree = DecisionTreeClassifier()\n",
    "dtree.fit(X_train,y_train)\n",
    "prediction_d = dtree.predict(X_test)\n",
    "\n",
    "print('With decision tree accuracy is: ',dtree.score(X_test,y_test)) # accuracy\n",
    "\n",
    "report = classification_report(y_test, prediction_d)\n",
    "print(report)"
   ]
  },
  {
   "cell_type": "code",
   "execution_count": 38,
   "metadata": {},
   "outputs": [],
   "source": [
    "from sklearn.metrics import accuracy_score, log_loss\n",
    "from sklearn.neighbors import KNeighborsClassifier\n",
    "from sklearn.svm import SVC, LinearSVC, NuSVC\n",
    "from sklearn.tree import DecisionTreeClassifier\n",
    "from sklearn.ensemble import RandomForestClassifier, AdaBoostClassifier, GradientBoostingClassifier\n",
    "from sklearn.naive_bayes import GaussianNB\n",
    "from sklearn.discriminant_analysis import LinearDiscriminantAnalysis\n",
    "from sklearn.discriminant_analysis import QuadraticDiscriminantAnalysis\n",
    "from xgboost import XGBClassifier\n",
    "import xgboost\n",
    "\n",
    "classifiers = [\n",
    "    KNeighborsClassifier(3),\n",
    "    SVC(kernel='rbf', probability=True),\n",
    "    DecisionTreeClassifier(),\n",
    "    RandomForestClassifier(),\n",
    "    XGBClassifier(),\n",
    "    AdaBoostClassifier(),\n",
    "    GaussianNB(),\n",
    "    LinearDiscriminantAnalysis(),\n",
    "    QuadraticDiscriminantAnalysis()]"
   ]
  },
  {
   "cell_type": "code",
   "execution_count": 39,
   "metadata": {
    "scrolled": true
   },
   "outputs": [
    {
     "name": "stdout",
     "output_type": "stream",
     "text": [
      "------------------------------\n",
      "KNeighborsClassifier\n",
      "-------------Results-----------\n",
      "Accuracy: 11.2500%\n",
      "Log Loss: 25.449411997929047\n",
      "------------------------------\n",
      "SVC\n",
      "-------------Results-----------\n",
      "Accuracy: 60.5000%\n",
      "Log Loss: 1.0063431710196644\n",
      "------------------------------\n",
      "DecisionTreeClassifier\n",
      "-------------Results-----------\n",
      "Accuracy: 40.5000%\n",
      "Log Loss: 20.55057195497186\n",
      "------------------------------\n",
      "RandomForestClassifier\n",
      "-------------Results-----------\n",
      "Accuracy: 59.0000%\n",
      "Log Loss: 1.1478378201612167\n",
      "------------------------------\n",
      "XGBClassifier\n",
      "-------------Results-----------\n",
      "Accuracy: 55.7500%\n",
      "Log Loss: 1.1055546279763804\n",
      "------------------------------\n",
      "AdaBoostClassifier\n",
      "-------------Results-----------\n",
      "Accuracy: 43.7500%\n",
      "Log Loss: 1.4640763380254276\n",
      "------------------------------\n",
      "GaussianNB\n",
      "-------------Results-----------\n",
      "Accuracy: 43.7500%\n",
      "Log Loss: 18.127811357564767\n",
      "------------------------------\n",
      "LinearDiscriminantAnalysis\n",
      "-------------Results-----------\n",
      "Accuracy: 28.7500%\n",
      "Log Loss: 18.088803555111653\n"
     ]
    },
    {
     "name": "stderr",
     "output_type": "stream",
     "text": [
      "D:\\anaconda\\lib\\site-packages\\sklearn\\discriminant_analysis.py:691: UserWarning: Variables are collinear\n",
      "  warnings.warn(\"Variables are collinear\")\n"
     ]
    },
    {
     "name": "stdout",
     "output_type": "stream",
     "text": [
      "------------------------------\n",
      "QuadraticDiscriminantAnalysis\n",
      "-------------Results-----------\n",
      "Accuracy: 29.5000%\n",
      "Log Loss: 24.349837358412042\n",
      "------------------------------\n"
     ]
    }
   ],
   "source": [
    "# Logging for Visual Comparison\n",
    "log_cols=[\"Classifier\", \"Accuracy\", \"Log Loss\"]\n",
    "log = pd.DataFrame(columns=log_cols)\n",
    "\n",
    "for clf in classifiers:\n",
    "    clf.fit(X_train, y_train)\n",
    "    name = clf.__class__.__name__\n",
    "    \n",
    "    print(\"-\"*30)\n",
    "    print(name)\n",
    "    \n",
    "    print('----------Results----------')\n",
    "    train_predictions = clf.predict(X_test)\n",
    "    acc = accuracy_score(y_test, train_predictions)\n",
    "    print(\"Accuracy: {:.4%}\".format(acc))\n",
    "    \n",
    "    train_predictions = clf.predict_proba(X_test)\n",
    "    ll = log_loss(y_test, train_predictions)\n",
    "    print(\"Log Loss: {}\".format(ll))\n",
    "    \n",
    "    log_entry = pd.DataFrame([[name, acc*100, ll]], columns=log_cols)\n",
    "    log = log.append(log_entry)\n",
    "    \n",
    "print(\"-\"*30)"
   ]
  },
  {
   "cell_type": "code",
   "execution_count": 42,
   "metadata": {},
   "outputs": [
    {
     "data": {
      "image/png": "[encoded data removed]",
      "text/plain": [
       "<Figure size 432x288 with 1 Axes>"
      ]
     },
     "metadata": {
      "needs_background": "light"
     },
     "output_type": "display_data"
    },
    {
     "data": {
      "image/png": "[encoded data removed]",
      "text/plain": [
       "<Figure size 432x288 with 1 Axes>"
      ]
     },
     "metadata": {
      "needs_background": "light"
     },
     "output_type": "display_data"
    }
   ],
   "source": [
    "import seaborn as sns\n",
    "\n",
    "sns.set_color_codes(\"muted\")\n",
    "sns.barplot(x='Accuracy', y='Classifier', data=log, color=\"b\")\n",
    "\n",
    "plt.xlabel('Accuracy %')\n",
    "plt.title('Classifier Accuracy')\n",
    "plt.show()\n",
    "\n",
    "sns.set_color_codes(\"muted\")\n",
    "sns.barplot(x='Log Loss', y='Classifier', data=log, color=\"r\")\n",
    "\n",
    "plt.xlabel('Log Loss')\n",
    "plt.title('Classifier Log Loss')\n",
    "plt.show()"
   ]
  },
  {
   "cell_type": "code",
   "execution_count": null,
   "metadata": {},
   "outputs": [],
   "source": []
  },
  {
   "cell_type": "code",
   "execution_count": null,
   "metadata": {},
   "outputs": [],
   "source": []
  }
 ],
 "metadata": {
  "kernelspec": {
   "display_name": "Python 3",
   "language": "python",
   "name": "python3"
  },
  "language_info": {
   "codemirror_mode": {
    "name": "ipython",
    "version": 3
   },
   "file_extension": ".py",
   "mimetype": "text/x-python",
   "name": "python",
   "nbconvert_exporter": "python",
   "pygments_lexer": "ipython3",
   "version": "3.7.7"
  }
 },
 "nbformat": 4,
 "nbformat_minor": 4
}
