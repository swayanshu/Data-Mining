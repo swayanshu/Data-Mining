{
 "cells": [
  {
   "cell_type": "markdown",
   "metadata": {},
   "source": [
    "# CSCI 4455/5455 – Spring 2020 \n",
    "### Assignment 1 - Know Your Data/Data Preprocessing\n",
    "#### Your name: swayanshu shanti pragnya"
   ]
  },
  {
   "cell_type": "markdown",
   "metadata": {},
   "source": [
    "In 2014, a new disease caused by \"T-Virus\" had spread over the world. A medical research center developed two different medicines, Anti-A and Anti-B. However, the researchers didn't know how to treat patients with the two medicines, and so decided to do some experiments by injecting different combinations of the two medicines to 40 infected patients for a month. After one month, the researchers measured the amount of t-virus in the patients' blood. Assumes all patients had 100% T-Virus before getting the treatments. "
   ]
  },
  {
   "cell_type": "code",
   "execution_count": 1,
   "metadata": {},
   "outputs": [],
   "source": [
    "import pandas as pd\n",
    "import math\n",
    "import warnings # for hiding warnings\n",
    "warnings.filterwarnings('ignore')"
   ]
  },
  {
   "cell_type": "code",
   "execution_count": 2,
   "metadata": {},
   "outputs": [],
   "source": [
    "base_path = r'C:\\Users\\Swayanshu' # path to the folder that contains the dataset.csv. leave it blank in your submission\n",
    "dataset_name = 'dataset.csv'\n",
    "dataset_path = rf'{base_path}/{dataset_name}'"
   ]
  },
  {
   "cell_type": "markdown",
   "metadata": {},
   "source": [
    "Load the dataset and check the first 10 rows"
   ]
  },
  {
   "cell_type": "code",
   "execution_count": 3,
   "metadata": {},
   "outputs": [
    {
     "data": {
      "text/html": [
       "<div>\n",
       "<style scoped>\n",
       "    .dataframe tbody tr th:only-of-type {\n",
       "        vertical-align: middle;\n",
       "    }\n",
       "\n",
       "    .dataframe tbody tr th {\n",
       "        vertical-align: top;\n",
       "    }\n",
       "\n",
       "    .dataframe thead th {\n",
       "        text-align: right;\n",
       "    }\n",
       "</style>\n",
       "<table border=\"1\" class=\"dataframe\">\n",
       "  <thead>\n",
       "    <tr style=\"text-align: right;\">\n",
       "      <th></th>\n",
       "      <th>anti_a</th>\n",
       "      <th>anti_b</th>\n",
       "      <th>t_virus</th>\n",
       "    </tr>\n",
       "  </thead>\n",
       "  <tbody>\n",
       "    <tr>\n",
       "      <th>0</th>\n",
       "      <td>5.76</td>\n",
       "      <td>94.4</td>\n",
       "      <td>9.3</td>\n",
       "    </tr>\n",
       "    <tr>\n",
       "      <th>1</th>\n",
       "      <td>7.90</td>\n",
       "      <td>15.5</td>\n",
       "      <td>11.5</td>\n",
       "    </tr>\n",
       "    <tr>\n",
       "      <th>2</th>\n",
       "      <td>4.41</td>\n",
       "      <td>4.8</td>\n",
       "      <td>15.2</td>\n",
       "    </tr>\n",
       "    <tr>\n",
       "      <th>3</th>\n",
       "      <td>8.70</td>\n",
       "      <td>48.3</td>\n",
       "      <td>15.8</td>\n",
       "    </tr>\n",
       "    <tr>\n",
       "      <th>4</th>\n",
       "      <td>2.84</td>\n",
       "      <td>78.9</td>\n",
       "      <td>11.5</td>\n",
       "    </tr>\n",
       "    <tr>\n",
       "      <th>5</th>\n",
       "      <td>2.84</td>\n",
       "      <td>33.6</td>\n",
       "      <td>77.9</td>\n",
       "    </tr>\n",
       "    <tr>\n",
       "      <th>6</th>\n",
       "      <td>7.31</td>\n",
       "      <td>58.4</td>\n",
       "      <td>74.9</td>\n",
       "    </tr>\n",
       "    <tr>\n",
       "      <th>7</th>\n",
       "      <td>4.24</td>\n",
       "      <td>53.3</td>\n",
       "      <td>60.0</td>\n",
       "    </tr>\n",
       "    <tr>\n",
       "      <th>8</th>\n",
       "      <td>9.83</td>\n",
       "      <td>55.3</td>\n",
       "      <td>8.4</td>\n",
       "    </tr>\n",
       "    <tr>\n",
       "      <th>9</th>\n",
       "      <td>7.59</td>\n",
       "      <td>76.7</td>\n",
       "      <td>73.4</td>\n",
       "    </tr>\n",
       "  </tbody>\n",
       "</table>\n",
       "</div>"
      ],
      "text/plain": [
       "   anti_a  anti_b  t_virus\n",
       "0    5.76    94.4      9.3\n",
       "1    7.90    15.5     11.5\n",
       "2    4.41     4.8     15.2\n",
       "3    8.70    48.3     15.8\n",
       "4    2.84    78.9     11.5\n",
       "5    2.84    33.6     77.9\n",
       "6    7.31    58.4     74.9\n",
       "7    4.24    53.3     60.0\n",
       "8    9.83    55.3      8.4\n",
       "9    7.59    76.7     73.4"
      ]
     },
     "execution_count": 3,
     "metadata": {},
     "output_type": "execute_result"
    }
   ],
   "source": [
    "# DO NOT EDIT THIS CELL\n",
    "dataset = pd.read_csv(dataset_path)\n",
    "dataset.head(10)"
   ]
  },
  {
   "cell_type": "markdown",
   "metadata": {},
   "source": [
    "get the summary statistics"
   ]
  },
  {
   "cell_type": "code",
   "execution_count": 4,
   "metadata": {},
   "outputs": [
    {
     "data": {
      "text/html": [
       "<div>\n",
       "<style scoped>\n",
       "    .dataframe tbody tr th:only-of-type {\n",
       "        vertical-align: middle;\n",
       "    }\n",
       "\n",
       "    .dataframe tbody tr th {\n",
       "        vertical-align: top;\n",
       "    }\n",
       "\n",
       "    .dataframe thead th {\n",
       "        text-align: right;\n",
       "    }\n",
       "</style>\n",
       "<table border=\"1\" class=\"dataframe\">\n",
       "  <thead>\n",
       "    <tr style=\"text-align: right;\">\n",
       "      <th></th>\n",
       "      <th>anti_a</th>\n",
       "      <th>anti_b</th>\n",
       "      <th>t_virus</th>\n",
       "    </tr>\n",
       "  </thead>\n",
       "  <tbody>\n",
       "    <tr>\n",
       "      <th>count</th>\n",
       "      <td>40.000000</td>\n",
       "      <td>40.000000</td>\n",
       "      <td>40.000000</td>\n",
       "    </tr>\n",
       "    <tr>\n",
       "      <th>mean</th>\n",
       "      <td>5.116250</td>\n",
       "      <td>49.577500</td>\n",
       "      <td>37.465000</td>\n",
       "    </tr>\n",
       "    <tr>\n",
       "      <th>std</th>\n",
       "      <td>3.157834</td>\n",
       "      <td>31.436003</td>\n",
       "      <td>30.809885</td>\n",
       "    </tr>\n",
       "    <tr>\n",
       "      <th>min</th>\n",
       "      <td>0.170000</td>\n",
       "      <td>1.600000</td>\n",
       "      <td>6.000000</td>\n",
       "    </tr>\n",
       "    <tr>\n",
       "      <th>25%</th>\n",
       "      <td>2.582500</td>\n",
       "      <td>19.650000</td>\n",
       "      <td>11.275000</td>\n",
       "    </tr>\n",
       "    <tr>\n",
       "      <th>50%</th>\n",
       "      <td>5.415000</td>\n",
       "      <td>50.450000</td>\n",
       "      <td>16.150000</td>\n",
       "    </tr>\n",
       "    <tr>\n",
       "      <th>75%</th>\n",
       "      <td>7.522500</td>\n",
       "      <td>80.025000</td>\n",
       "      <td>69.275000</td>\n",
       "    </tr>\n",
       "    <tr>\n",
       "      <th>max</th>\n",
       "      <td>9.940000</td>\n",
       "      <td>98.800000</td>\n",
       "      <td>90.700000</td>\n",
       "    </tr>\n",
       "  </tbody>\n",
       "</table>\n",
       "</div>"
      ],
      "text/plain": [
       "          anti_a     anti_b    t_virus\n",
       "count  40.000000  40.000000  40.000000\n",
       "mean    5.116250  49.577500  37.465000\n",
       "std     3.157834  31.436003  30.809885\n",
       "min     0.170000   1.600000   6.000000\n",
       "25%     2.582500  19.650000  11.275000\n",
       "50%     5.415000  50.450000  16.150000\n",
       "75%     7.522500  80.025000  69.275000\n",
       "max     9.940000  98.800000  90.700000"
      ]
     },
     "execution_count": 4,
     "metadata": {},
     "output_type": "execute_result"
    }
   ],
   "source": [
    "# DO NOT EDIT THIS CELL\n",
    "dataset.describe()"
   ]
  },
  {
   "cell_type": "markdown",
   "metadata": {},
   "source": [
    "1. mean of anti_b is high compare to anti_a\n",
    "2. data is normally distributed"
   ]
  },
  {
   "cell_type": "markdown",
   "metadata": {},
   "source": [
    "and check the number of records"
   ]
  },
  {
   "cell_type": "code",
   "execution_count": 5,
   "metadata": {},
   "outputs": [
    {
     "data": {
      "text/plain": [
       "40"
      ]
     },
     "execution_count": 5,
     "metadata": {},
     "output_type": "execute_result"
    }
   ],
   "source": [
    "# DO NOT EDIT THIS CELL\n",
    "len(dataset)"
   ]
  },
  {
   "cell_type": "markdown",
   "metadata": {},
   "source": [
    "#### Question 1: Equal Width Partitioning (15 Points)\n",
    "complete the below function\n",
    "\n",
    "parameters:\n",
    "- values (not sorted) as a list\n",
    "- the number of bins as an integer\n",
    "\n",
    "returns a tuple containing:\n",
    "- bin width => as a float\n",
    "- bounds for the bins => as a nested list. Each item (bounds[i]) contains the lower bound and the upper bound for the bins[i]\n",
    "- list of bins => as a nested list. bins[i] is a list of sorted values for the i-th bin\n",
    "\n"
   ]
  },
  {
   "cell_type": "markdown",
   "metadata": {},
   "source": [
    "Binning By Equal-Width = width=(max−min)/No of bins"
   ]
  },
  {
   "cell_type": "code",
   "execution_count": 6,
   "metadata": {},
   "outputs": [],
   "source": [
    "def equal_width_partitioning(values, bin_count):\n",
    "    bins = []\n",
    "    bounds = []\n",
    "    for i in range(bin_count):\n",
    "        bins.append(list())\n",
    "        bounds.append(list())\n",
    "    width = 0\n",
    "    #bin wi]dth from bin_count\n",
    "    min_v = min(values)\n",
    "    width = math.ceil((max(values) - min_v) / bin_count)  #getting the upper  max value\n",
    "    temp = min_v\n",
    "    for i in range(bin_count):\n",
    "        bounds[i] = [temp, temp + width]   #bin\n",
    "        temp = temp + width    #lower bound of next bin \n",
    "    for i in values:\n",
    "        for j in range(0, bin_count):\n",
    "            if bounds[j][0] == i and j == 0:\n",
    "                bins[j].append(i)\n",
    "            if bounds[j][0] < i <= bounds[j][1]:\n",
    "                bins[j].append(i)\n",
    "                break                    \n",
    "    for i in range(bin_count):\n",
    "        bins[i] = sorted(bins[i])\n",
    "    \n",
    "    return (width, bounds, bins)"
   ]
  },
  {
   "cell_type": "code",
   "execution_count": 8,
   "metadata": {},
   "outputs": [
    {
     "name": "stdout",
     "output_type": "stream",
     "text": [
      "partition width: 17\n",
      "[6.0, 23.0] => 6.0, 6.7, 7.5, 7.6, 8.4, 9.3, 9.4, 9.6, 10.6, 11.2, 11.3, 11.5, 11.5, 11.9, 13.0, 13.8, 14.1, 14.9, 15.2, 15.8, 16.5, 17.7, 21.4\n",
      "(23.0, 40.0] => \n",
      "(40.0, 57.0] => 55.5\n",
      "(57.0, 74.0] => 60.0, 61.4, 62.1, 64.9, 64.9, 69.0, 70.1, 73.4\n",
      "(74.0, 91.0] => 74.9, 76.8, 77.0, 77.9, 80.1, 81.2, 83.8, 90.7\n"
     ]
    }
   ],
   "source": [
    "# DO NOT EDIT THIS CELL\n",
    "t_virus = list(dataset['t_virus']) # get the t-virus values\n",
    "bin_count = 5 # set the bin count to 5\n",
    "(width, bounds, bins) = equal_width_partitioning(t_virus, bin_count) # call the binning function\n",
    "\n",
    "print(f\"partition width: {width}\") #print the results\n",
    "for i in range(len(bins)):\n",
    "    s = \"[\" if i==0 else \"(\"\n",
    "    bin_values = ', '.join(str(x) for x in bins[i])\n",
    "    print(f\"{s}{bounds[i][0]}, {bounds[i][1]}] => {bin_values}\") \n",
    "    "
   ]
  },
  {
   "cell_type": "markdown",
   "metadata": {},
   "source": [
    "#### Question 2: Equal-depth (equal-frequency) Partitioning (15 Points)\n",
    "complete the below function\n",
    "\n",
    "parameters:\n",
    "- values (not sorted) => as a list\n",
    "- the number of values in each bin (not the number of bins). The last bin can be unfull if there are not enough elements.\n",
    "\n",
    "returns a tuple containing:\n",
    "- bounds for the bins => as a nested list. Each item (bounds[i]) contains the lower bound and the upper bound for the bins[i]\n",
    "- list of bins => as a nested list. bins[i] is a list of sorted values for the i-th bin"
   ]
  },
  {
   "cell_type": "markdown",
   "metadata": {},
   "source": [
    "Equal depth (or frequency) binning : In equal-frequency binning we divide the range [A, B] of the variable into intervals that contain (approximately) equal number of points; equal frequency may not be possible due to repeated values."
   ]
  },
  {
   "cell_type": "code",
   "execution_count": 9,
   "metadata": {},
   "outputs": [],
   "source": [
    "def equal_depth_partitioning(values, bin_frequency):\n",
    "    bins = []\n",
    "    bounds = []\n",
    "    bin_count = math.ceil(len(values)/ bin_frequency)\n",
    "    for i in range(bin_count):\n",
    "        bins.append(list())\n",
    "        bounds.append(list())\n",
    "    #sort values\n",
    "    values = sorted(values)\n",
    "    start = 0\n",
    "    end = bin_frequency\n",
    "    for i in range(bin_count):\n",
    "        bins[i] = values[start:end]\n",
    "        start += bin_frequency\n",
    "        end += bin_frequency\n",
    "    for i in range(bin_count):\n",
    "        bounds[i] = [bins[i][0],bins[i][-1]]\n",
    "    return (bounds, bins)"
   ]
  },
  {
   "cell_type": "code",
   "execution_count": 10,
   "metadata": {},
   "outputs": [
    {
     "data": {
      "text/plain": [
       "([[1, 1], [5, 6], [7, 8], [9, 10], [11, 11]],\n",
       " [[1, 1], [5, 6], [7, 8], [9, 10], [11, 11]])"
      ]
     },
     "execution_count": 10,
     "metadata": {},
     "output_type": "execute_result"
    }
   ],
   "source": [
    "equal_depth_partitioning([11,1,11,1,10,5,6,7,8,9],2)"
   ]
  },
  {
   "cell_type": "code",
   "execution_count": 11,
   "metadata": {},
   "outputs": [
    {
     "name": "stdout",
     "output_type": "stream",
     "text": [
      "[6.0, 8.4] => 6.0, 6.7, 7.5, 7.6, 8.4\n",
      "[9.3, 11.2] => 9.3, 9.4, 9.6, 10.6, 11.2\n",
      "[11.3, 13.0] => 11.3, 11.5, 11.5, 11.9, 13.0\n",
      "[13.8, 15.8] => 13.8, 14.1, 14.9, 15.2, 15.8\n",
      "[16.5, 60.0] => 16.5, 17.7, 21.4, 55.5, 60.0\n",
      "[61.4, 69.0] => 61.4, 62.1, 64.9, 64.9, 69.0\n",
      "[70.1, 77.0] => 70.1, 73.4, 74.9, 76.8, 77.0\n",
      "[77.9, 90.7] => 77.9, 80.1, 81.2, 83.8, 90.7\n"
     ]
    }
   ],
   "source": [
    "# DO NOT EDIT THIS CELL\n",
    "t_virus = list(dataset['t_virus'])\n",
    "bin_frequency = 5\n",
    "(bounds, bins) = equal_depth_partitioning(t_virus, bin_frequency)\n",
    "\n",
    "for i in range(len(bins)):\n",
    "    bin_values = ', '.join(str(x) for x in bins[i])\n",
    "    print(f\"[{bounds[i][0]}, {bounds[i][1]}] => {bin_values}\")"
   ]
  },
  {
   "cell_type": "markdown",
   "metadata": {},
   "source": [
    "#### Question 3: Grouping (15 Points)\n",
    "Now, divide the 40 patients into two groups such that one group has much lower T-Virus than the other. To find the cut-off value, we need to find the largest gap between the two consecutive values. Complete the below function that returns the smallest value that should be assigned to the second group (you can use the results from the partitioning analysis above to verify your answer). \n",
    "\n",
    "inputs:\n",
    "- values (not sorted) as a list\n",
    "\n",
    "returns:\n",
    "- the cut-off value"
   ]
  },
  {
   "cell_type": "code",
   "execution_count": 12,
   "metadata": {},
   "outputs": [],
   "source": [
    "def find_first_value(values):\n",
    "    cutoff = 0\n",
    "    for i in range(len(values)-1):\n",
    "        if abs(values[i] - values[i+1]) > cutoff:\n",
    "            cutoff = abs(values[i] - values[i+1])\n",
    "    return cutoff"
   ]
  },
  {
   "cell_type": "code",
   "execution_count": 13,
   "metadata": {},
   "outputs": [
    {
     "name": "stdout",
     "output_type": "stream",
     "text": [
      "first value of the second group should be: 76.3\n"
     ]
    }
   ],
   "source": [
    "# DO NOT EDIT THIS CELL\n",
    "t_virus = list(dataset['t_virus'])\n",
    "cut_off = find_first_value(t_virus)\n",
    "print(f\"first value of the second group should be: {cut_off}\")\n",
    "group1 = dataset[dataset['t_virus'] < cut_off]\n",
    "group2 = dataset[dataset['t_virus'] >= cut_off]"
   ]
  },
  {
   "cell_type": "markdown",
   "metadata": {},
   "source": [
    "#### Question 4: Measure of Central Tendency  (10 Points):\n",
    "complete the below functions to compute the mean and median of for a given unsorted list\n",
    "\n",
    "input:\n",
    "- values (not sorted) as a list\n",
    "\n",
    "returns:\n",
    "- the mean of the values as a float"
   ]
  },
  {
   "cell_type": "code",
   "execution_count": 14,
   "metadata": {},
   "outputs": [],
   "source": [
    "def get_mean(values):\n",
    "        \n",
    "    return sum(values) / len(values)"
   ]
  },
  {
   "cell_type": "markdown",
   "metadata": {},
   "source": [
    "input:\n",
    "- values (not sorted) as a list\n",
    "\n",
    "returns:\n",
    "- the median of the values as a float"
   ]
  },
  {
   "cell_type": "code",
   "execution_count": 15,
   "metadata": {},
   "outputs": [],
   "source": [
    "def get_median(values):\n",
    "    values = sorted(values)\n",
    "    print(values)\n",
    "    mid = len(values) // 2\n",
    "    return (values[mid] + values[~mid]) / 2"
   ]
  },
  {
   "cell_type": "code",
   "execution_count": 16,
   "metadata": {},
   "outputs": [
    {
     "name": "stdout",
     "output_type": "stream",
     "text": [
      "[6.0, 6.7, 7.5, 7.6, 8.4, 9.3, 9.4, 9.6, 10.6, 11.2, 11.3, 11.5, 11.5, 11.9, 13.0, 13.8, 14.1, 14.9, 15.2, 15.8, 16.5, 17.7, 21.4, 55.5, 60.0, 61.4, 62.1, 64.9, 64.9, 69.0, 70.1, 73.4, 74.9]\n",
      "group 1\t\tmean: 28.21515151515151 \tmedian: 14.1\n",
      "[76.8, 77.0, 77.9, 80.1, 81.2, 83.8, 90.7]\n",
      "group 2\t\tmean: 81.07142857142857 \tmedian: 80.1\n"
     ]
    }
   ],
   "source": [
    "# DO NOT EDIT THIS CELL\n",
    "print(f\"group 1\\t\\tmean: {get_mean(list(group1['t_virus']))} \\tmedian: {get_median(list(group1['t_virus']))}\")\n",
    "print(f\"group 2\\t\\tmean: {get_mean(list(group2['t_virus']))} \\tmedian: {get_median(list(group2['t_virus']))}\")"
   ]
  },
  {
   "cell_type": "markdown",
   "metadata": {},
   "source": [
    "#### Question 5: Data Normalization (15 Ppoints) \n",
    "Complete the following function that normalizes the values using the min-max normalization method:<br/>\n",
    "input:\n",
    "- values (not sorted) as a list\n",
    "\n",
    "returns:\n",
    "- min-max normalized values"
   ]
  },
  {
   "cell_type": "code",
   "execution_count": 17,
   "metadata": {},
   "outputs": [],
   "source": [
    "def min_max(values):\n",
    "    normalized_values = []\n",
    "    max_v = max(values)\n",
    "    min_v = min(values)\n",
    "    for i in values:\n",
    "        normalization = (i - min_v) / (max_v - min_v)\n",
    "        normalized_values.append(normalization)\n",
    "    return normalized_values"
   ]
  },
  {
   "cell_type": "code",
   "execution_count": 18,
   "metadata": {},
   "outputs": [],
   "source": [
    "# DO NOT EDIT THIS CELL\n",
    "group1['anti_a'] = min_max(list(group1['anti_a']))\n",
    "group1['anti_b'] = min_max(list(group1['anti_b']))\n",
    "\n",
    "group2['anti_a'] = min_max(list(group2['anti_a']))\n",
    "group2['anti_b'] = min_max(list(group2['anti_b']))"
   ]
  },
  {
   "cell_type": "code",
   "execution_count": 19,
   "metadata": {
    "scrolled": true
   },
   "outputs": [
    {
     "data": {
      "text/html": [
       "<div>\n",
       "<style scoped>\n",
       "    .dataframe tbody tr th:only-of-type {\n",
       "        vertical-align: middle;\n",
       "    }\n",
       "\n",
       "    .dataframe tbody tr th {\n",
       "        vertical-align: top;\n",
       "    }\n",
       "\n",
       "    .dataframe thead th {\n",
       "        text-align: right;\n",
       "    }\n",
       "</style>\n",
       "<table border=\"1\" class=\"dataframe\">\n",
       "  <thead>\n",
       "    <tr style=\"text-align: right;\">\n",
       "      <th></th>\n",
       "      <th>anti_a</th>\n",
       "      <th>anti_b</th>\n",
       "      <th>t_virus</th>\n",
       "    </tr>\n",
       "  </thead>\n",
       "  <tbody>\n",
       "    <tr>\n",
       "      <th>0</th>\n",
       "      <td>0.572160</td>\n",
       "      <td>0.961658</td>\n",
       "      <td>9.3</td>\n",
       "    </tr>\n",
       "    <tr>\n",
       "      <th>1</th>\n",
       "      <td>0.791198</td>\n",
       "      <td>0.144041</td>\n",
       "      <td>11.5</td>\n",
       "    </tr>\n",
       "    <tr>\n",
       "      <th>2</th>\n",
       "      <td>0.433982</td>\n",
       "      <td>0.033161</td>\n",
       "      <td>15.2</td>\n",
       "    </tr>\n",
       "    <tr>\n",
       "      <th>3</th>\n",
       "      <td>0.873081</td>\n",
       "      <td>0.483938</td>\n",
       "      <td>15.8</td>\n",
       "    </tr>\n",
       "    <tr>\n",
       "      <th>4</th>\n",
       "      <td>0.273286</td>\n",
       "      <td>0.801036</td>\n",
       "      <td>11.5</td>\n",
       "    </tr>\n",
       "    <tr>\n",
       "      <th>6</th>\n",
       "      <td>0.730809</td>\n",
       "      <td>0.588601</td>\n",
       "      <td>74.9</td>\n",
       "    </tr>\n",
       "    <tr>\n",
       "      <th>7</th>\n",
       "      <td>0.416581</td>\n",
       "      <td>0.535751</td>\n",
       "      <td>60.0</td>\n",
       "    </tr>\n",
       "    <tr>\n",
       "      <th>8</th>\n",
       "      <td>0.988741</td>\n",
       "      <td>0.556477</td>\n",
       "      <td>8.4</td>\n",
       "    </tr>\n",
       "    <tr>\n",
       "      <th>9</th>\n",
       "      <td>0.759468</td>\n",
       "      <td>0.778238</td>\n",
       "      <td>73.4</td>\n",
       "    </tr>\n",
       "    <tr>\n",
       "      <th>10</th>\n",
       "      <td>0.047083</td>\n",
       "      <td>0.100518</td>\n",
       "      <td>61.4</td>\n",
       "    </tr>\n",
       "    <tr>\n",
       "      <th>11</th>\n",
       "      <td>0.720573</td>\n",
       "      <td>0.196891</td>\n",
       "      <td>14.9</td>\n",
       "    </tr>\n",
       "    <tr>\n",
       "      <th>12</th>\n",
       "      <td>0.262027</td>\n",
       "      <td>0.679793</td>\n",
       "      <td>9.4</td>\n",
       "    </tr>\n",
       "    <tr>\n",
       "      <th>13</th>\n",
       "      <td>0.294780</td>\n",
       "      <td>0.877720</td>\n",
       "      <td>16.5</td>\n",
       "    </tr>\n",
       "    <tr>\n",
       "      <th>14</th>\n",
       "      <td>0.609007</td>\n",
       "      <td>0.350259</td>\n",
       "      <td>70.1</td>\n",
       "    </tr>\n",
       "    <tr>\n",
       "      <th>15</th>\n",
       "      <td>0.004094</td>\n",
       "      <td>0.393782</td>\n",
       "      <td>11.2</td>\n",
       "    </tr>\n",
       "    <tr>\n",
       "      <th>19</th>\n",
       "      <td>0.331627</td>\n",
       "      <td>0.000000</td>\n",
       "      <td>7.6</td>\n",
       "    </tr>\n",
       "    <tr>\n",
       "      <th>21</th>\n",
       "      <td>0.779939</td>\n",
       "      <td>0.619689</td>\n",
       "      <td>55.5</td>\n",
       "    </tr>\n",
       "    <tr>\n",
       "      <th>22</th>\n",
       "      <td>0.984647</td>\n",
       "      <td>0.157513</td>\n",
       "      <td>6.7</td>\n",
       "    </tr>\n",
       "    <tr>\n",
       "      <th>23</th>\n",
       "      <td>0.750256</td>\n",
       "      <td>0.218653</td>\n",
       "      <td>10.6</td>\n",
       "    </tr>\n",
       "    <tr>\n",
       "      <th>24</th>\n",
       "      <td>0.129990</td>\n",
       "      <td>0.324352</td>\n",
       "      <td>64.9</td>\n",
       "    </tr>\n",
       "    <tr>\n",
       "      <th>25</th>\n",
       "      <td>0.187308</td>\n",
       "      <td>0.950259</td>\n",
       "      <td>11.9</td>\n",
       "    </tr>\n",
       "    <tr>\n",
       "      <th>26</th>\n",
       "      <td>0.501535</td>\n",
       "      <td>0.894301</td>\n",
       "      <td>13.0</td>\n",
       "    </tr>\n",
       "    <tr>\n",
       "      <th>27</th>\n",
       "      <td>1.000000</td>\n",
       "      <td>0.153368</td>\n",
       "      <td>14.1</td>\n",
       "    </tr>\n",
       "    <tr>\n",
       "      <th>28</th>\n",
       "      <td>0.050154</td>\n",
       "      <td>0.621762</td>\n",
       "      <td>11.3</td>\n",
       "    </tr>\n",
       "    <tr>\n",
       "      <th>30</th>\n",
       "      <td>0.933470</td>\n",
       "      <td>0.124352</td>\n",
       "      <td>7.5</td>\n",
       "    </tr>\n",
       "    <tr>\n",
       "      <th>31</th>\n",
       "      <td>0.938588</td>\n",
       "      <td>0.528497</td>\n",
       "      <td>17.7</td>\n",
       "    </tr>\n",
       "    <tr>\n",
       "      <th>32</th>\n",
       "      <td>0.201638</td>\n",
       "      <td>0.864249</td>\n",
       "      <td>13.8</td>\n",
       "    </tr>\n",
       "    <tr>\n",
       "      <th>33</th>\n",
       "      <td>0.128966</td>\n",
       "      <td>0.254922</td>\n",
       "      <td>62.1</td>\n",
       "    </tr>\n",
       "    <tr>\n",
       "      <th>35</th>\n",
       "      <td>0.160696</td>\n",
       "      <td>0.115026</td>\n",
       "      <td>69.0</td>\n",
       "    </tr>\n",
       "    <tr>\n",
       "      <th>36</th>\n",
       "      <td>0.733879</td>\n",
       "      <td>0.847668</td>\n",
       "      <td>64.9</td>\n",
       "    </tr>\n",
       "    <tr>\n",
       "      <th>37</th>\n",
       "      <td>0.735926</td>\n",
       "      <td>0.118135</td>\n",
       "      <td>21.4</td>\n",
       "    </tr>\n",
       "    <tr>\n",
       "      <th>38</th>\n",
       "      <td>0.266121</td>\n",
       "      <td>1.000000</td>\n",
       "      <td>6.0</td>\n",
       "    </tr>\n",
       "    <tr>\n",
       "      <th>39</th>\n",
       "      <td>0.000000</td>\n",
       "      <td>0.417617</td>\n",
       "      <td>9.6</td>\n",
       "    </tr>\n",
       "  </tbody>\n",
       "</table>\n",
       "</div>"
      ],
      "text/plain": [
       "      anti_a    anti_b  t_virus\n",
       "0   0.572160  0.961658      9.3\n",
       "1   0.791198  0.144041     11.5\n",
       "2   0.433982  0.033161     15.2\n",
       "3   0.873081  0.483938     15.8\n",
       "4   0.273286  0.801036     11.5\n",
       "6   0.730809  0.588601     74.9\n",
       "7   0.416581  0.535751     60.0\n",
       "8   0.988741  0.556477      8.4\n",
       "9   0.759468  0.778238     73.4\n",
       "10  0.047083  0.100518     61.4\n",
       "11  0.720573  0.196891     14.9\n",
       "12  0.262027  0.679793      9.4\n",
       "13  0.294780  0.877720     16.5\n",
       "14  0.609007  0.350259     70.1\n",
       "15  0.004094  0.393782     11.2\n",
       "19  0.331627  0.000000      7.6\n",
       "21  0.779939  0.619689     55.5\n",
       "22  0.984647  0.157513      6.7\n",
       "23  0.750256  0.218653     10.6\n",
       "24  0.129990  0.324352     64.9\n",
       "25  0.187308  0.950259     11.9\n",
       "26  0.501535  0.894301     13.0\n",
       "27  1.000000  0.153368     14.1\n",
       "28  0.050154  0.621762     11.3\n",
       "30  0.933470  0.124352      7.5\n",
       "31  0.938588  0.528497     17.7\n",
       "32  0.201638  0.864249     13.8\n",
       "33  0.128966  0.254922     62.1\n",
       "35  0.160696  0.115026     69.0\n",
       "36  0.733879  0.847668     64.9\n",
       "37  0.735926  0.118135     21.4\n",
       "38  0.266121  1.000000      6.0\n",
       "39  0.000000  0.417617      9.6"
      ]
     },
     "execution_count": 19,
     "metadata": {},
     "output_type": "execute_result"
    }
   ],
   "source": [
    "# DO NOT CHANGE THIS CELL\n",
    "group1"
   ]
  },
  {
   "cell_type": "code",
   "execution_count": 20,
   "metadata": {},
   "outputs": [
    {
     "data": {
      "text/html": [
       "<div>\n",
       "<style scoped>\n",
       "    .dataframe tbody tr th:only-of-type {\n",
       "        vertical-align: middle;\n",
       "    }\n",
       "\n",
       "    .dataframe tbody tr th {\n",
       "        vertical-align: top;\n",
       "    }\n",
       "\n",
       "    .dataframe thead th {\n",
       "        text-align: right;\n",
       "    }\n",
       "</style>\n",
       "<table border=\"1\" class=\"dataframe\">\n",
       "  <thead>\n",
       "    <tr style=\"text-align: right;\">\n",
       "      <th></th>\n",
       "      <th>anti_a</th>\n",
       "      <th>anti_b</th>\n",
       "      <th>t_virus</th>\n",
       "    </tr>\n",
       "  </thead>\n",
       "  <tbody>\n",
       "    <tr>\n",
       "      <th>5</th>\n",
       "      <td>0.272956</td>\n",
       "      <td>0.272321</td>\n",
       "      <td>77.9</td>\n",
       "    </tr>\n",
       "    <tr>\n",
       "      <th>16</th>\n",
       "      <td>0.817610</td>\n",
       "      <td>0.867188</td>\n",
       "      <td>76.8</td>\n",
       "    </tr>\n",
       "    <tr>\n",
       "      <th>17</th>\n",
       "      <td>0.822642</td>\n",
       "      <td>0.879464</td>\n",
       "      <td>90.7</td>\n",
       "    </tr>\n",
       "    <tr>\n",
       "      <th>18</th>\n",
       "      <td>0.291824</td>\n",
       "      <td>0.127232</td>\n",
       "      <td>77.0</td>\n",
       "    </tr>\n",
       "    <tr>\n",
       "      <th>20</th>\n",
       "      <td>1.000000</td>\n",
       "      <td>0.777902</td>\n",
       "      <td>81.2</td>\n",
       "    </tr>\n",
       "    <tr>\n",
       "      <th>29</th>\n",
       "      <td>0.851572</td>\n",
       "      <td>1.000000</td>\n",
       "      <td>83.8</td>\n",
       "    </tr>\n",
       "    <tr>\n",
       "      <th>34</th>\n",
       "      <td>0.000000</td>\n",
       "      <td>0.000000</td>\n",
       "      <td>80.1</td>\n",
       "    </tr>\n",
       "  </tbody>\n",
       "</table>\n",
       "</div>"
      ],
      "text/plain": [
       "      anti_a    anti_b  t_virus\n",
       "5   0.272956  0.272321     77.9\n",
       "16  0.817610  0.867188     76.8\n",
       "17  0.822642  0.879464     90.7\n",
       "18  0.291824  0.127232     77.0\n",
       "20  1.000000  0.777902     81.2\n",
       "29  0.851572  1.000000     83.8\n",
       "34  0.000000  0.000000     80.1"
      ]
     },
     "execution_count": 20,
     "metadata": {},
     "output_type": "execute_result"
    }
   ],
   "source": [
    "# DO NOT CHANGE THIS CELL\n",
    "group2"
   ]
  },
  {
   "cell_type": "markdown",
   "metadata": {},
   "source": [
    "#### Question 6 (15 Points)\n",
    "Complete the below function that computes the Pearson correlation coefficient between the normalized Anti-A and normalized Anti-B for each group\n",
    "input: \n",
    "- X: values for anti-a\n",
    "- Y: values for anti-b\n",
    "\n",
    "returns:\n",
    "- the Pearson correlation => as a flot"
   ]
  },
  {
   "cell_type": "code",
   "execution_count": 25,
   "metadata": {},
   "outputs": [],
   "source": [
    "def get_pearson(X, Y):\n",
    "    pearson = 0\n",
    "    X_mean = sum(X) / len(X)\n",
    "    Y_mean = sum(Y) / len(Y)\n",
    "    x = [var - X_mean for var in X]\n",
    "    y = [var - Y_mean for var in Y]\n",
    "\n",
    "    xy =[i*j for i,j in list(zip(x,y))]\n",
    "    sum_xy = sum(xy)\n",
    "\n",
    "    X_square = [i*i for i in x]\n",
    "    Y_square = [j*j for j in y]\n",
    "\n",
    "    summation_x_square = sum(X_square)\n",
    "    summation_y_square = sum(Y_square)\n",
    "\n",
    "    denominator = math.sqrt(summation_x_square) * math.sqrt(summation_y_square)\n",
    "    pearson = sum_xy/denominator\n",
    "return pearson"
   ]
  },
  {
   "cell_type": "code",
   "execution_count": 26,
   "metadata": {},
   "outputs": [
    {
     "name": "stdout",
     "output_type": "stream",
     "text": [
      "Pearson correlation\n",
      "\tGroup1: -0.15276464415341665,\n",
      "\tGroup2: 0.9491728722979678\n"
     ]
    }
   ],
   "source": [
    "# DO NOT EDIT THIS CELL\n",
    "peasron1 = get_pearson(list(group1['anti_a']),list(group1['anti_b']))\n",
    "peasron2 = get_pearson(list(group2['anti_a']),list(group2['anti_b']))\n",
    "\n",
    "print(f\"Pearson correlation\\n\\tGroup1: {peasron1},\\n\\tGroup2: {peasron2}\")"
   ]
  },
  {
   "cell_type": "markdown",
   "metadata": {},
   "source": [
    "#### Question 7: Analytical Thinking (15 Points)\n",
    "Based on the above analyses, conclude how to best use the two medicines to fight with T-Virus. Your answer is expected to analytical, not just numbers. You need to justify your answer."
   ]
  },
  {
   "cell_type": "markdown",
   "metadata": {},
   "source": [
    "Your answer:\n",
    "\n",
    "Results from above experiments are as follows:-\n",
    "\n",
    "Pearson correlation\n",
    "\tGroup1: -0.15276464415341665,\n",
    "\tGroup2: 0.9491728722979678\n",
    "    \n",
    "Q. How to best use the two medicines to fight with T-Virus?\n",
    "\n",
    "From the above result of 2 groups, \n",
    "1. In group 2, antigen a and antigen b are strongly correlated which implies that both of these features are  dependent on each other. \n",
    "2. Clearly, we could also see that antigen a's mean is very low compared to antigen b. \n",
    "3. With this, we could say that giving either anitgen a or antigen b could cure the virus. \n",
    "4. If we assume that cost of both the antigens are same, we could proceed with antigen a, as giving it in small proportion itself could cure compared to antigen b which is given in high proption. \n",
    "5. Also, even if antigen a is costly, giving it in small propotion to patients is helpful as they would have less chemical impact.\n",
    "\n"
   ]
  },
  {
   "cell_type": "code",
   "execution_count": null,
   "metadata": {},
   "outputs": [],
   "source": []
  }
 ],
 "metadata": {
  "kernelspec": {
   "display_name": "Python 3",
   "language": "python",
   "name": "python3"
  },
  "language_info": {
   "codemirror_mode": {
    "name": "ipython",
    "version": 3
   },
   "file_extension": ".py",
   "mimetype": "text/x-python",
   "name": "python",
   "nbconvert_exporter": "python",
   "pygments_lexer": "ipython3",
   "version": "3.7.3"
  }
 },
 "nbformat": 4,
 "nbformat_minor": 2
}
